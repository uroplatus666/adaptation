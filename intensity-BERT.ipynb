{
 "cells": [
  {
   "cell_type": "markdown",
   "metadata": {
    "id": "cqG7FzRVFEIv"
   },
   "source": [
    "# BERT Fine-Tuning для задачи классификации новостей с сильными ветрами на интенсивность по шкале Бофорта"
   ]
  },
  {
   "cell_type": "markdown",
   "metadata": {},
   "source": [
    "Основой для этого ноутбука было [приложение](https://peerj.com/articles/cs-1859/#supplemental-information) к статье \n",
    "\n",
    "`Malik, Muhammad Shahid Iqbal, et al. \"Categorization of tweets for damages: infrastructure and human damage assessment using fine-tuned BERT model.\" PeerJ Computer Science 10 (2024): e1859.`\n",
    "\n",
    "P.S. И сама статья"
   ]
  },
  {
   "cell_type": "markdown",
   "metadata": {},
   "source": [
    "### Код запускался в `kaggle` на `P100-PCIE-16GB`"
   ]
  },
  {
   "cell_type": "code",
   "execution_count": 5,
   "metadata": {
    "colab": {
     "base_uri": "https://localhost:8080/"
    },
    "execution": {
     "iopub.execute_input": "2025-05-07T04:46:31.642434Z",
     "iopub.status.busy": "2025-05-07T04:46:31.641926Z",
     "iopub.status.idle": "2025-05-07T04:46:35.615101Z",
     "shell.execute_reply": "2025-05-07T04:46:35.614463Z",
     "shell.execute_reply.started": "2025-05-07T04:46:31.642411Z"
    },
    "id": "oYsV4H8fCpZ-",
    "outputId": "4ab1b14c-d0c8-4136-bb5c-d3d012cfb3aa"
   },
   "outputs": [
    {
     "name": "stdout",
     "output_type": "stream",
     "text": [
      "There are 1 GPU(s) available.\n",
      "We will use the GPU: Tesla P100-PCIE-16GB\n"
     ]
    }
   ],
   "source": [
    "import torch\n",
    "\n",
    "# If there's a GPU available...\n",
    "if torch.cuda.is_available():\n",
    "\n",
    "    # Tell PyTorch to use the GPU.\n",
    "    device = torch.device(\"cuda\")\n",
    "\n",
    "    print('There are %d GPU(s) available.' % torch.cuda.device_count())\n",
    "\n",
    "    print('We will use the GPU:', torch.cuda.get_device_name(0))\n",
    "\n",
    "# If not...\n",
    "else:\n",
    "    print('No GPU available, using the CPU instead.')\n",
    "    device = torch.device(\"cpu\")"
   ]
  },
  {
   "cell_type": "code",
   "execution_count": 10,
   "metadata": {
    "execution": {
     "iopub.execute_input": "2025-05-07T04:47:11.014312Z",
     "iopub.status.busy": "2025-05-07T04:47:11.014023Z",
     "iopub.status.idle": "2025-05-07T04:47:34.242887Z",
     "shell.execute_reply": "2025-05-07T04:47:34.242098Z",
     "shell.execute_reply.started": "2025-05-07T04:47:11.014288Z"
    }
   },
   "outputs": [
    {
     "name": "stderr",
     "output_type": "stream",
     "text": [
      "2025-05-07 04:47:21.681491: E external/local_xla/xla/stream_executor/cuda/cuda_fft.cc:477] Unable to register cuFFT factory: Attempting to register factory for plugin cuFFT when one has already been registered\n",
      "WARNING: All log messages before absl::InitializeLog() is called are written to STDERR\n",
      "E0000 00:00:1746593241.859212      31 cuda_dnn.cc:8310] Unable to register cuDNN factory: Attempting to register factory for plugin cuDNN when one has already been registered\n",
      "E0000 00:00:1746593241.912534      31 cuda_blas.cc:1418] Unable to register cuBLAS factory: Attempting to register factory for plugin cuBLAS when one has already been registered\n"
     ]
    }
   ],
   "source": [
    "import pandas as pd\n",
    "import numpy as np\n",
    "import matplotlib.pyplot as plt\n",
    "#% matplotlib inline\n",
    "import seaborn as sns\n",
    "import time\n",
    "import re\n",
    "import datetime\n",
    "import random\n",
    "import nltk\n",
    "from nltk.tokenize import word_tokenize\n",
    "from nltk.corpus import stopwords\n",
    "from torch.utils.data import TensorDataset, random_split, DataLoader, RandomSampler, SequentialSampler\n",
    "from torch.utils.data import Dataset\n",
    "from transformers import BertForSequenceClassification, BertConfig\n",
    "from torch.optim import AdamW\n",
    "from transformers import BertTokenizer, BertForSequenceClassification, BertConfig\n",
    "from transformers import get_linear_schedule_with_warmup\n",
    "from tqdm.notebook import tqdm\n",
    "from collections import Counter\n",
    "from sklearn.model_selection import train_test_split\n",
    "from sklearn.linear_model import LinearRegression\n",
    "from sklearn.metrics import mean_squared_error, r2_score"
   ]
  },
  {
   "cell_type": "markdown",
   "metadata": {},
   "source": [
    "### Импортируем данные с ветрами"
   ]
  },
  {
   "cell_type": "code",
   "execution_count": 13,
   "metadata": {
    "execution": {
     "iopub.execute_input": "2025-05-07T04:47:57.064122Z",
     "iopub.status.busy": "2025-05-07T04:47:57.063548Z",
     "iopub.status.idle": "2025-05-07T04:48:03.055398Z",
     "shell.execute_reply": "2025-05-07T04:48:03.054582Z",
     "shell.execute_reply.started": "2025-05-07T04:47:57.064099Z"
    }
   },
   "outputs": [
    {
     "data": {
      "text/html": [
       "<div>\n",
       "<style scoped>\n",
       "    .dataframe tbody tr th:only-of-type {\n",
       "        vertical-align: middle;\n",
       "    }\n",
       "\n",
       "    .dataframe tbody tr th {\n",
       "        vertical-align: top;\n",
       "    }\n",
       "\n",
       "    .dataframe thead th {\n",
       "        text-align: right;\n",
       "    }\n",
       "</style>\n",
       "<table border=\"1\" class=\"dataframe\">\n",
       "  <thead>\n",
       "    <tr style=\"text-align: right;\">\n",
       "      <th></th>\n",
       "      <th>Text</th>\n",
       "      <th>News_type</th>\n",
       "      <th>Location_ATD4</th>\n",
       "      <th>Phenomena</th>\n",
       "      <th>Класс</th>\n",
       "    </tr>\n",
       "  </thead>\n",
       "  <tbody>\n",
       "    <tr>\n",
       "      <th>0</th>\n",
       "      <td>🔹В Ангарском округе устраняют последствия непо...</td>\n",
       "      <td>событие</td>\n",
       "      <td>Иркутская область</td>\n",
       "      <td>сильные ветры</td>\n",
       "      <td>9</td>\n",
       "    </tr>\n",
       "    <tr>\n",
       "      <th>1</th>\n",
       "      <td>Пострадавшие от ЧС приморцы могут подать заявл...</td>\n",
       "      <td>прогноз/предупреждение</td>\n",
       "      <td>Приморский край</td>\n",
       "      <td>наводнение</td>\n",
       "      <td>0</td>\n",
       "    </tr>\n",
       "    <tr>\n",
       "      <th>2</th>\n",
       "      <td>❗ВНИМАНИЕ ❗  На Центральную Россию надвигается...</td>\n",
       "      <td>прогноз/предупреждение</td>\n",
       "      <td>Орловская область</td>\n",
       "      <td>сильные ветры</td>\n",
       "      <td>10</td>\n",
       "    </tr>\n",
       "    <tr>\n",
       "      <th>3</th>\n",
       "      <td>Рязанцев предупреждают об ухудшении погодных у...</td>\n",
       "      <td>прогноз/предупреждение</td>\n",
       "      <td>Рязанская область</td>\n",
       "      <td>гололед; мороз; КНПЯ</td>\n",
       "      <td>8</td>\n",
       "    </tr>\n",
       "    <tr>\n",
       "      <th>4</th>\n",
       "      <td>#Югра #БерезовскийРайон В лесах Югры завершилс...</td>\n",
       "      <td>событие</td>\n",
       "      <td>Ямало-Ненецкий автономный округ</td>\n",
       "      <td>ландшафтные пожары</td>\n",
       "      <td>0</td>\n",
       "    </tr>\n",
       "  </tbody>\n",
       "</table>\n",
       "</div>"
      ],
      "text/plain": [
       "                                                Text               News_type  \\\n",
       "0  🔹В Ангарском округе устраняют последствия непо...                 событие   \n",
       "1  Пострадавшие от ЧС приморцы могут подать заявл...  прогноз/предупреждение   \n",
       "2  ❗ВНИМАНИЕ ❗  На Центральную Россию надвигается...  прогноз/предупреждение   \n",
       "3  Рязанцев предупреждают об ухудшении погодных у...  прогноз/предупреждение   \n",
       "4  #Югра #БерезовскийРайон В лесах Югры завершилс...                 событие   \n",
       "\n",
       "                     Location_ATD4             Phenomena  Класс  \n",
       "0                Иркутская область         сильные ветры      9  \n",
       "1                  Приморский край            наводнение      0  \n",
       "2                Орловская область         сильные ветры     10  \n",
       "3                Рязанская область  гололед; мороз; КНПЯ      8  \n",
       "4  Ямало-Ненецкий автономный округ    ландшафтные пожары      0  "
      ]
     },
     "execution_count": 13,
     "metadata": {},
     "output_type": "execute_result"
    }
   ],
   "source": [
    "wind = pd.read_excel('/kaggle/input/heavy-winds/wind_bof_dis.xlsx')\n",
    "wind_work = wind[['Text', 'News_type', 'Location_ATD4', 'Phenomena', 'Класс']]\n",
    "wind_work.head()"
   ]
  },
  {
   "cell_type": "code",
   "execution_count": 7,
   "metadata": {
    "execution": {
     "iopub.execute_input": "2025-05-07T04:46:59.672020Z",
     "iopub.status.busy": "2025-05-07T04:46:59.671710Z",
     "iopub.status.idle": "2025-05-07T04:46:59.677237Z",
     "shell.execute_reply": "2025-05-07T04:46:59.676700Z",
     "shell.execute_reply.started": "2025-05-07T04:46:59.672002Z"
    }
   },
   "outputs": [
    {
     "name": "stderr",
     "output_type": "stream",
     "text": [
      "[nltk_data] Downloading package punkt to /usr/share/nltk_data...\n",
      "[nltk_data]   Package punkt is already up-to-date!\n",
      "[nltk_data] Downloading package punkt_tab to /usr/share/nltk_data...\n",
      "[nltk_data]   Package punkt_tab is already up-to-date!\n",
      "[nltk_data] Downloading package stopwords to /usr/share/nltk_data...\n",
      "[nltk_data]   Package stopwords is already up-to-date!\n"
     ]
    },
    {
     "data": {
      "text/plain": [
       "True"
      ]
     },
     "execution_count": 7,
     "metadata": {},
     "output_type": "execute_result"
    }
   ],
   "source": [
    "nltk.download('punkt')\n",
    "nltk.download('punkt_tab')\n",
    "nltk.download('stopwords')"
   ]
  },
  {
   "cell_type": "code",
   "execution_count": 5,
   "metadata": {
    "execution": {
     "iopub.execute_input": "2025-05-07T00:03:52.969287Z",
     "iopub.status.busy": "2025-05-07T00:03:52.969075Z",
     "iopub.status.idle": "2025-05-07T00:03:54.887223Z",
     "shell.execute_reply": "2025-05-07T00:03:54.886415Z",
     "shell.execute_reply.started": "2025-05-07T00:03:52.969271Z"
    }
   },
   "outputs": [
    {
     "name": "stderr",
     "output_type": "stream",
     "text": [
      "/tmp/ipykernel_31/4042448939.py:23: SettingWithCopyWarning: \n",
      "A value is trying to be set on a copy of a slice from a DataFrame.\n",
      "Try using .loc[row_indexer,col_indexer] = value instead\n",
      "\n",
      "See the caveats in the documentation: https://pandas.pydata.org/pandas-docs/stable/user_guide/indexing.html#returning-a-view-versus-a-copy\n",
      "  wind_work['text_clean'] = wind_work.Text.apply(normalise_text)\n"
     ]
    },
    {
     "data": {
      "text/html": [
       "<div>\n",
       "<style scoped>\n",
       "    .dataframe tbody tr th:only-of-type {\n",
       "        vertical-align: middle;\n",
       "    }\n",
       "\n",
       "    .dataframe tbody tr th {\n",
       "        vertical-align: top;\n",
       "    }\n",
       "\n",
       "    .dataframe thead th {\n",
       "        text-align: right;\n",
       "    }\n",
       "</style>\n",
       "<table border=\"1\" class=\"dataframe\">\n",
       "  <thead>\n",
       "    <tr style=\"text-align: right;\">\n",
       "      <th></th>\n",
       "      <th>Text</th>\n",
       "      <th>News_type</th>\n",
       "      <th>Location_ATD4</th>\n",
       "      <th>Phenomena</th>\n",
       "      <th>Класс</th>\n",
       "      <th>text_clean</th>\n",
       "    </tr>\n",
       "  </thead>\n",
       "  <tbody>\n",
       "    <tr>\n",
       "      <th>0</th>\n",
       "      <td>🔹В Ангарском округе устраняют последствия непо...</td>\n",
       "      <td>событие</td>\n",
       "      <td>Иркутская область</td>\n",
       "      <td>сильные ветры</td>\n",
       "      <td>9</td>\n",
       "      <td>🔹в ангарском округе устраняют последствия непо...</td>\n",
       "    </tr>\n",
       "    <tr>\n",
       "      <th>1</th>\n",
       "      <td>Пострадавшие от ЧС приморцы могут подать заявл...</td>\n",
       "      <td>прогноз/предупреждение</td>\n",
       "      <td>Приморский край</td>\n",
       "      <td>наводнение</td>\n",
       "      <td>0</td>\n",
       "      <td>пострадавшие от чс приморцы могут подать заявл...</td>\n",
       "    </tr>\n",
       "    <tr>\n",
       "      <th>2</th>\n",
       "      <td>❗ВНИМАНИЕ ❗  На Центральную Россию надвигается...</td>\n",
       "      <td>прогноз/предупреждение</td>\n",
       "      <td>Орловская область</td>\n",
       "      <td>сильные ветры</td>\n",
       "      <td>10</td>\n",
       "      <td>❗внимание ❗ на центральную россию надвигается ...</td>\n",
       "    </tr>\n",
       "    <tr>\n",
       "      <th>3</th>\n",
       "      <td>Рязанцев предупреждают об ухудшении погодных у...</td>\n",
       "      <td>прогноз/предупреждение</td>\n",
       "      <td>Рязанская область</td>\n",
       "      <td>гололед; мороз; КНПЯ</td>\n",
       "      <td>8</td>\n",
       "      <td>рязанцев предупреждают об ухудшении погодных у...</td>\n",
       "    </tr>\n",
       "    <tr>\n",
       "      <th>4</th>\n",
       "      <td>#Югра #БерезовскийРайон В лесах Югры завершилс...</td>\n",
       "      <td>событие</td>\n",
       "      <td>Ямало-Ненецкий автономный округ</td>\n",
       "      <td>ландшафтные пожары</td>\n",
       "      <td>0</td>\n",
       "      <td>#югра #березовскийрайон в лесах югры завершилс...</td>\n",
       "    </tr>\n",
       "  </tbody>\n",
       "</table>\n",
       "</div>"
      ],
      "text/plain": [
       "                                                Text               News_type  \\\n",
       "0  🔹В Ангарском округе устраняют последствия непо...                 событие   \n",
       "1  Пострадавшие от ЧС приморцы могут подать заявл...  прогноз/предупреждение   \n",
       "2  ❗ВНИМАНИЕ ❗  На Центральную Россию надвигается...  прогноз/предупреждение   \n",
       "3  Рязанцев предупреждают об ухудшении погодных у...  прогноз/предупреждение   \n",
       "4  #Югра #БерезовскийРайон В лесах Югры завершилс...                 событие   \n",
       "\n",
       "                     Location_ATD4             Phenomena  Класс  \\\n",
       "0                Иркутская область         сильные ветры      9   \n",
       "1                  Приморский край            наводнение      0   \n",
       "2                Орловская область         сильные ветры     10   \n",
       "3                Рязанская область  гололед; мороз; КНПЯ      8   \n",
       "4  Ямало-Ненецкий автономный округ    ландшафтные пожары      0   \n",
       "\n",
       "                                          text_clean  \n",
       "0  🔹в ангарском округе устраняют последствия непо...  \n",
       "1  пострадавшие от чс приморцы могут подать заявл...  \n",
       "2  ❗внимание ❗ на центральную россию надвигается ...  \n",
       "3  рязанцев предупреждают об ухудшении погодных у...  \n",
       "4  #югра #березовскийрайон в лесах югры завершилс...  "
      ]
     },
     "execution_count": 5,
     "metadata": {},
     "output_type": "execute_result"
    }
   ],
   "source": [
    "def normalise_text(text):\n",
    "    text = text.lower()\n",
    "\n",
    "    # сурово регулярками выкидываем мусорные символы\n",
    "    # text = re.sub('[^а-яa-z ]', '', text)\n",
    "    text = re.sub(r'\\d+', '', text)\n",
    "    stops_regex = r'\\b(?:' + '|'.join(map(re.escape, stops)) + r')\\b'\n",
    "    text = re.sub(stops_regex, '', text)\n",
    "\n",
    "    # Удаляем лишние пробелы\n",
    "    text = re.sub(r'\\s+', ' ', text).strip()\n",
    "    return text\n",
    "\n",
    "stops = ['м/сек', 'м/с', 'м / с','м / сек','метров в секунду',\n",
    "         'метра в секунду', 'метр в секунду',\n",
    "         'мм', 'c', 'лицензия', 'creative',\n",
    "         'commons', 'attribution']\n",
    "\n",
    "wind_work['text_clean'] = wind_work.Text.apply(normalise_text)\n",
    "\n",
    "wind_work.head()"
   ]
  },
  {
   "cell_type": "code",
   "execution_count": 14,
   "metadata": {
    "execution": {
     "iopub.execute_input": "2025-05-07T04:48:06.043906Z",
     "iopub.status.busy": "2025-05-07T04:48:06.043338Z",
     "iopub.status.idle": "2025-05-07T04:48:06.049305Z",
     "shell.execute_reply": "2025-05-07T04:48:06.048508Z",
     "shell.execute_reply.started": "2025-05-07T04:48:06.043882Z"
    }
   },
   "outputs": [
    {
     "name": "stderr",
     "output_type": "stream",
     "text": [
      "/tmp/ipykernel_31/1751635804.py:1: SettingWithCopyWarning: \n",
      "A value is trying to be set on a copy of a slice from a DataFrame.\n",
      "Try using .loc[row_indexer,col_indexer] = value instead\n",
      "\n",
      "See the caveats in the documentation: https://pandas.pydata.org/pandas-docs/stable/user_guide/indexing.html#returning-a-view-versus-a-copy\n",
      "  wind_work['text_clean'] = wind_work['Text']\n"
     ]
    }
   ],
   "source": [
    "wind_work['text_clean'] = wind_work['Text']"
   ]
  },
  {
   "cell_type": "code",
   "execution_count": 43,
   "metadata": {
    "execution": {
     "iopub.execute_input": "2025-05-06T22:51:02.708959Z",
     "iopub.status.busy": "2025-05-06T22:51:02.708457Z",
     "iopub.status.idle": "2025-05-06T22:51:02.712229Z",
     "shell.execute_reply": "2025-05-06T22:51:02.711424Z",
     "shell.execute_reply.started": "2025-05-06T22:51:02.708937Z"
    }
   },
   "outputs": [],
   "source": [
    "# custom_stop_words = set(['м', 'с', 'мм', 'c', 'км', 'метр',\n",
    "#                      'секунда', 'лицензия', 'creative', 'commons', 'attribution'])\n",
    "# stops_ru = set(stopwords.words('russian'))\n",
    "# stops = list(custom_stop_words|stops_ru)"
   ]
  },
  {
   "cell_type": "code",
   "execution_count": 15,
   "metadata": {
    "execution": {
     "iopub.execute_input": "2025-05-07T04:48:14.210831Z",
     "iopub.status.busy": "2025-05-07T04:48:14.210231Z",
     "iopub.status.idle": "2025-05-07T04:48:14.220038Z",
     "shell.execute_reply": "2025-05-07T04:48:14.219347Z",
     "shell.execute_reply.started": "2025-05-07T04:48:14.210809Z"
    }
   },
   "outputs": [],
   "source": [
    "# Если классификация на 8 классов, то надо запускать эту ячейку\n",
    "wind_work = wind_work[wind_work['Класс']>4]\n",
    "wind_work['Класс'] = wind_work['Класс']-5\n",
    "df, df_test = train_test_split(wind_work, test_size=0.2, random_state=42)"
   ]
  },
  {
   "cell_type": "code",
   "execution_count": 9,
   "metadata": {
    "execution": {
     "iopub.execute_input": "2025-05-07T03:32:59.022814Z",
     "iopub.status.busy": "2025-05-07T03:32:59.022276Z",
     "iopub.status.idle": "2025-05-07T03:32:59.035692Z",
     "shell.execute_reply": "2025-05-07T03:32:59.035086Z",
     "shell.execute_reply.started": "2025-05-07T03:32:59.022790Z"
    }
   },
   "outputs": [],
   "source": [
    "# # Если классификация на 5 классов, то надо запускать эту ячейку\n",
    "# def to_change_classes(value):\n",
    "#     if value<=7:\n",
    "#         return 0\n",
    "#     elif value == 8:\n",
    "#         return 1\n",
    "#     elif value == 9:\n",
    "#         return 2\n",
    "#     elif value == 10:\n",
    "#         return 3\n",
    "#     else:\n",
    "#         return 4\n",
    "\n",
    "# wind_work = wind_work[wind_work['Класс']>4]\n",
    "# wind_work['Класс'] = wind_work['Класс'].apply(to_change_classes)"
   ]
  },
  {
   "cell_type": "code",
   "execution_count": null,
   "metadata": {
    "execution": {
     "iopub.status.busy": "2025-05-07T04:46:15.739609Z",
     "iopub.status.idle": "2025-05-07T04:46:15.740031Z",
     "shell.execute_reply": "2025-05-07T04:46:15.739799Z",
     "shell.execute_reply.started": "2025-05-07T04:46:15.739785Z"
    }
   },
   "outputs": [],
   "source": [
    "df, df_test = train_test_split(wind_work, test_size=0.2, random_state=42)"
   ]
  },
  {
   "cell_type": "code",
   "execution_count": 16,
   "metadata": {
    "execution": {
     "iopub.execute_input": "2025-05-07T04:48:18.040325Z",
     "iopub.status.busy": "2025-05-07T04:48:18.039621Z",
     "iopub.status.idle": "2025-05-07T04:48:18.046129Z",
     "shell.execute_reply": "2025-05-07T04:48:18.045446Z",
     "shell.execute_reply.started": "2025-05-07T04:48:18.040299Z"
    }
   },
   "outputs": [
    {
     "data": {
      "text/plain": [
       "Класс\n",
       "3    2058\n",
       "5    1511\n",
       "4    1483\n",
       "2     842\n",
       "6     350\n",
       "7     220\n",
       "1     147\n",
       "0     123\n",
       "Name: count, dtype: int64"
      ]
     },
     "execution_count": 16,
     "metadata": {},
     "output_type": "execute_result"
    }
   ],
   "source": [
    "df['Класс'].value_counts()"
   ]
  },
  {
   "cell_type": "code",
   "execution_count": 17,
   "metadata": {
    "execution": {
     "iopub.execute_input": "2025-05-07T04:48:25.103737Z",
     "iopub.status.busy": "2025-05-07T04:48:25.103437Z",
     "iopub.status.idle": "2025-05-07T04:48:25.107850Z",
     "shell.execute_reply": "2025-05-07T04:48:25.107051Z",
     "shell.execute_reply.started": "2025-05-07T04:48:25.103716Z"
    }
   },
   "outputs": [],
   "source": [
    "sentences = df.text_clean.values\n",
    "labels = df.Класс.values"
   ]
  },
  {
   "cell_type": "markdown",
   "metadata": {},
   "source": [
    "### Токенизация `bert-base-uncased`"
   ]
  },
  {
   "cell_type": "code",
   "execution_count": 18,
   "metadata": {
    "colab": {
     "base_uri": "https://localhost:8080/"
    },
    "execution": {
     "iopub.execute_input": "2025-05-07T04:48:29.284763Z",
     "iopub.status.busy": "2025-05-07T04:48:29.284058Z",
     "iopub.status.idle": "2025-05-07T04:48:31.182136Z",
     "shell.execute_reply": "2025-05-07T04:48:31.181485Z",
     "shell.execute_reply.started": "2025-05-07T04:48:29.284729Z"
    },
    "id": "Z474sSC6oe7A",
    "outputId": "21d32170-863d-4395-9dcf-b03877c19fb9"
   },
   "outputs": [
    {
     "name": "stdout",
     "output_type": "stream",
     "text": [
      "Loading BERT tokenizer...\n"
     ]
    },
    {
     "data": {
      "application/vnd.jupyter.widget-view+json": {
       "model_id": "683855a3c0ad4c40aaf7ac4f6f937cdb",
       "version_major": 2,
       "version_minor": 0
      },
      "text/plain": [
       "tokenizer_config.json:   0%|          | 0.00/48.0 [00:00<?, ?B/s]"
      ]
     },
     "metadata": {},
     "output_type": "display_data"
    },
    {
     "data": {
      "application/vnd.jupyter.widget-view+json": {
       "model_id": "6a4e3640a7d34543b1739e7416d7dea0",
       "version_major": 2,
       "version_minor": 0
      },
      "text/plain": [
       "vocab.txt:   0%|          | 0.00/232k [00:00<?, ?B/s]"
      ]
     },
     "metadata": {},
     "output_type": "display_data"
    },
    {
     "data": {
      "application/vnd.jupyter.widget-view+json": {
       "model_id": "712a81e032a049088dd43164d1e034a3",
       "version_major": 2,
       "version_minor": 0
      },
      "text/plain": [
       "tokenizer.json:   0%|          | 0.00/466k [00:00<?, ?B/s]"
      ]
     },
     "metadata": {},
     "output_type": "display_data"
    },
    {
     "data": {
      "application/vnd.jupyter.widget-view+json": {
       "model_id": "826d58d892844d299e567e4396572bb9",
       "version_major": 2,
       "version_minor": 0
      },
      "text/plain": [
       "config.json:   0%|          | 0.00/570 [00:00<?, ?B/s]"
      ]
     },
     "metadata": {},
     "output_type": "display_data"
    }
   ],
   "source": [
    "print('Loading BERT tokenizer...')\n",
    "tokenizer = BertTokenizer.from_pretrained('bert-base-uncased', do_lower_case=True)"
   ]
  },
  {
   "cell_type": "markdown",
   "metadata": {
    "id": "dFzmtleW6KmJ"
   },
   "source": [
    "Let's apply the tokenizer to one sentence just to see the output.\n"
   ]
  },
  {
   "cell_type": "code",
   "execution_count": 19,
   "metadata": {
    "colab": {
     "base_uri": "https://localhost:8080/"
    },
    "execution": {
     "iopub.execute_input": "2025-05-07T04:48:32.183987Z",
     "iopub.status.busy": "2025-05-07T04:48:32.183218Z",
     "iopub.status.idle": "2025-05-07T04:48:32.198982Z",
     "shell.execute_reply": "2025-05-07T04:48:32.198258Z",
     "shell.execute_reply.started": "2025-05-07T04:48:32.183955Z"
    },
    "id": "dLIbudgfh6F0",
    "outputId": "b3585f34-ba5c-45ea-9b05-e1d28a100ff2"
   },
   "outputs": [
    {
     "name": "stdout",
     "output_type": "stream",
     "text": [
      " Original:  ШТОРМОВОЕ ПРЕДУПРЕЖДЕНИЕ! МКУ «УГОЧС Г. Новоалтайска» информирует В Алтайском крае во второй половине ночи и днем 13 декабря 2022 ожидается усиление ветра местами 17-22 м/с, по юго-востоку порывы 25-27 м/с, снег, местами сильный, метели. На дорогах снежные заносы. 14-16 декабря установление морозной погоды. При возникновении происшествий и чрезвычайных ситуаций немедленно информировать экстренные службы города по телефонам: 101, 112, тел. 8-(385)-32-4-33-55, 8-(385)-32-4-33-44. Будьте осторожны!\n",
      "Tokenized:  ['ш', '##т', '##о', '##р', '##м', '##ов', '##о', '##е', 'п', '##р', '##е', '##д', '##у', '##п', '##р', '##е', '##ж', '##д', '##е', '##н', '##и', '##е', '!', 'м', '##к', '##у', '«', 'у', '##г', '##о', '##ч', '##с', 'г', '.', 'н', '##ов', '##о', '##а', '##л', '##т', '##а', '##и', '##с', '##ка', '»', 'и', '##н', '##ф', '##о', '##р', '##м', '##и', '##р', '##у', '##е', '##т', 'в', 'а', '##л', '##т', '##а', '##и', '##с', '##к', '##о', '##м', 'к', '##р', '##а', '##е', 'в', '##о', 'в', '##т', '##о', '##р', '##о', '##и', 'п', '##о', '##л', '##ов', '##и', '##н', '##е', 'н', '##о', '##ч', '##и', 'и', 'д', '##н', '##е', '##м', '13', 'д', '##е', '##ка', '##б', '##р', '##я', '202', '##2', 'о', '##ж', '##и', '##д', '##а', '##е', '##т', '##с', '##я', 'у', '##с', '##и', '##л', '##е', '##н', '##и', '##е', 'в', '##е', '##т', '##р', '##а', 'м', '##е', '##с', '##т', '##а', '##м', '##и', '17', '-', '22', 'м', '/', 'с', ',', 'п', '##о', 'ю', '##г', '##о', '-', 'в', '##о', '##с', '##т', '##о', '##к', '##у', 'п', '##о', '##р', '##ы', '##в', '##ы', '25', '-', '27', 'м', '/', 'с', ',', 'с', '##н', '##е', '##г', ',', 'м', '##е', '##с', '##т', '##а', '##м', '##и', 'с', '##и', '##л', '##ь', '##н', '##ы', '##и', ',', 'м', '##е', '##т', '##е', '##л', '##и', '.', 'н', '##а', 'д', '##о', '##р', '##о', '##г', '##а', '##х', 'с', '##н', '##е', '##ж', '##н', '##ы', '##е', 'з', '##ан', '##о', '##с', '##ы', '.', '14', '-', '16', 'д', '##е', '##ка', '##б', '##р', '##я', 'у', '##с', '##т', '##ан', '##ов', '##л', '##е', '##н', '##и', '##е', 'м', '##о', '##р', '##о', '##з', '##н', '##о', '##и', 'п', '##о', '##г', '##о', '##д', '##ы', '.', 'п', '##р', '##и', 'в', '##о', '##з', '##н', '##и', '##к', '##н', '##ов', '##е', '##н', '##ии', 'п', '##р', '##о', '##и', '##с', '##ш', '##е', '##с', '##т', '##в', '##ии', 'и', 'ч', '##р', '##е', '##з', '##в', '##ы', '##ч', '##а', '##и', '##н', '##ы', '##х', 'с', '##и', '##т', '##у', '##а', '##ц', '##ии', 'н', '##е', '##м', '##е', '##д', '##л', '##е', '##н', '##н', '##о', 'и', '##н', '##ф', '##о', '##р', '##м', '##и', '##р', '##ов', '##а', '##т', '##ь', 'э', '##к', '##с', '##т', '##р', '##е', '##н', '##н', '##ы', '##е', 'с', '##л', '##у', '##ж', '##б', '##ы', 'г', '##о', '##р', '##о', '##д', '##а', 'п', '##о', 'т', '##е', '##л', '##е', '##ф', '##о', '##на', '##м', ':', '101', ',', '112', ',', 'т', '##е', '##л', '.', '8', '-', '(', '385', ')', '-', '32', '-', '4', '-', '33', '-', '55', ',', '8', '-', '(', '385', ')', '-', '32', '-', '4', '-', '33', '-', '44', '.', 'б', '##у', '##д', '##ь', '##т', '##е', 'о', '##с', '##т', '##о', '##р', '##о', '##ж', '##н', '##ы', '!']\n",
      "Token IDs:  [1203, 22919, 14150, 16856, 29745, 19259, 14150, 15290, 1194, 16856, 15290, 29742, 29748, 29746, 16856, 15290, 29743, 29742, 15290, 18947, 10325, 15290, 999, 1191, 23925, 29748, 1077, 1198, 29741, 14150, 29752, 29747, 1183, 1012, 1192, 19259, 14150, 10260, 29436, 22919, 10260, 10325, 29747, 28598, 1090, 1188, 18947, 29749, 14150, 16856, 29745, 10325, 16856, 29748, 15290, 22919, 1182, 1180, 29436, 22919, 10260, 10325, 29747, 23925, 14150, 29745, 1189, 16856, 10260, 15290, 1182, 14150, 1182, 22919, 14150, 16856, 14150, 10325, 1194, 14150, 29436, 19259, 10325, 18947, 15290, 1192, 14150, 29752, 10325, 1188, 1184, 18947, 15290, 29745, 2410, 1184, 15290, 28598, 29740, 16856, 17432, 16798, 2475, 1193, 29743, 10325, 29742, 10260, 15290, 22919, 29747, 17432, 1198, 29747, 10325, 29436, 15290, 18947, 10325, 15290, 1182, 15290, 22919, 16856, 10260, 1191, 15290, 29747, 22919, 10260, 29745, 10325, 2459, 1011, 2570, 1191, 1013, 1196, 1010, 1194, 14150, 1209, 29741, 14150, 1011, 1182, 14150, 29747, 22919, 14150, 23925, 29748, 1194, 14150, 16856, 29113, 25529, 29113, 2423, 1011, 2676, 1191, 1013, 1196, 1010, 1196, 18947, 15290, 29741, 1010, 1191, 15290, 29747, 22919, 10260, 29745, 10325, 1196, 10325, 29436, 23742, 18947, 29113, 10325, 1010, 1191, 15290, 22919, 15290, 29436, 10325, 1012, 1192, 10260, 1184, 14150, 16856, 14150, 29741, 10260, 29750, 1196, 18947, 15290, 29743, 18947, 29113, 15290, 1187, 28995, 14150, 29747, 29113, 1012, 2403, 1011, 2385, 1184, 15290, 28598, 29740, 16856, 17432, 1198, 29747, 22919, 28995, 19259, 29436, 15290, 18947, 10325, 15290, 1191, 14150, 16856, 14150, 29744, 18947, 14150, 10325, 1194, 14150, 29741, 14150, 29742, 29113, 1012, 1194, 16856, 10325, 1182, 14150, 29744, 18947, 10325, 23925, 18947, 19259, 15290, 18947, 15414, 1194, 16856, 14150, 10325, 29747, 29753, 15290, 29747, 22919, 25529, 15414, 1188, 1202, 16856, 15290, 29744, 25529, 29113, 29752, 10260, 10325, 18947, 29113, 29750, 1196, 10325, 22919, 29748, 10260, 29751, 15414, 1192, 15290, 29745, 15290, 29742, 29436, 15290, 18947, 18947, 14150, 1188, 18947, 29749, 14150, 16856, 29745, 10325, 16856, 19259, 10260, 22919, 23742, 1208, 23925, 29747, 22919, 16856, 15290, 18947, 18947, 29113, 15290, 1196, 29436, 29748, 29743, 29740, 29113, 1183, 14150, 16856, 14150, 29742, 10260, 1194, 14150, 1197, 15290, 29436, 15290, 29749, 14150, 19865, 29745, 1024, 7886, 1010, 11176, 1010, 1197, 15290, 29436, 1012, 1022, 1011, 1006, 24429, 1007, 1011, 3590, 1011, 1018, 1011, 3943, 1011, 4583, 1010, 1022, 1011, 1006, 24429, 1007, 1011, 3590, 1011, 1018, 1011, 3943, 1011, 4008, 1012, 1181, 29748, 29742, 23742, 22919, 15290, 1193, 29747, 22919, 14150, 16856, 14150, 29743, 18947, 29113, 999]\n"
     ]
    }
   ],
   "source": [
    "# Print the original sentence.\n",
    "print(' Original: ', sentences[0])\n",
    "\n",
    "# Print the sentence split into tokens.\n",
    "print('Tokenized: ', tokenizer.tokenize(sentences[0]))\n",
    "\n",
    "# Print the sentence mapped to token ids.\n",
    "print('Token IDs: ', tokenizer.convert_tokens_to_ids(tokenizer.tokenize(sentences[0])))"
   ]
  },
  {
   "cell_type": "code",
   "execution_count": 19,
   "metadata": {},
   "outputs": [
    {
     "name": "stdout",
     "output_type": "stream",
     "text": [
      "10933\n"
     ]
    }
   ],
   "source": [
    "maxx=0\n",
    "for sent in sentences:\n",
    "    if len(tokenizer.tokenize(sent))>maxx:\n",
    "        maxx=len(tokenizer.tokenize(sent))\n",
    "print(maxx)"
   ]
  },
  {
   "cell_type": "code",
   "execution_count": 33,
   "metadata": {
    "execution": {
     "iopub.execute_input": "2025-05-06T22:38:48.668527Z",
     "iopub.status.busy": "2025-05-06T22:38:48.668280Z",
     "iopub.status.idle": "2025-05-06T22:39:31.133571Z",
     "shell.execute_reply": "2025-05-06T22:39:31.132858Z",
     "shell.execute_reply.started": "2025-05-06T22:38:48.668510Z"
    }
   },
   "outputs": [
    {
     "name": "stdout",
     "output_type": "stream",
     "text": [
      "Max sentence length:  512\n"
     ]
    }
   ],
   "source": [
    "max_len = 512\n",
    "\n",
    "# For every sentence...\n",
    "for sent in sentences:\n",
    "\n",
    "    # Tokenize the text and add `[CLS]` and `[SEP]` tokens.\n",
    "    input_ids = tokenizer.encode(sent, add_special_tokens=True,\n",
    "                                 max_length=512, truncation=True)\n",
    "\n",
    "    # Update the maximum sentence length.\n",
    "    max_len = max(max_len, len(input_ids))\n",
    "\n",
    "print('Max sentence length: ', max_len)"
   ]
  },
  {
   "cell_type": "code",
   "execution_count": 20,
   "metadata": {
    "execution": {
     "iopub.execute_input": "2025-05-07T04:48:43.254997Z",
     "iopub.status.busy": "2025-05-07T04:48:43.254726Z",
     "iopub.status.idle": "2025-05-07T04:49:29.087918Z",
     "shell.execute_reply": "2025-05-07T04:49:29.087106Z",
     "shell.execute_reply.started": "2025-05-07T04:48:43.254976Z"
    }
   },
   "outputs": [
    {
     "name": "stderr",
     "output_type": "stream",
     "text": [
      "Truncation was not explicitly activated but `max_length` is provided a specific value, please use `truncation=True` to explicitly truncate examples to max length. Defaulting to 'longest_first' truncation strategy. If you encode pairs of sequences (GLUE-style) with the tokenizer you can select this strategy more precisely by providing a specific strategy to `truncation`.\n",
      "/usr/local/lib/python3.11/dist-packages/transformers/tokenization_utils_base.py:2700: FutureWarning: The `pad_to_max_length` argument is deprecated and will be removed in a future version, use `padding=True` or `padding='longest'` to pad to the longest sequence in the batch, or use `padding='max_length'` to pad to a max length. In this case, you can give a specific length with `max_length` (e.g. `max_length=45`) or leave max_length to None to pad to the maximal input size of the model (e.g. 512 for Bert).\n",
      "  warnings.warn(\n"
     ]
    },
    {
     "name": "stdout",
     "output_type": "stream",
     "text": [
      "Original:  ШТОРМОВОЕ ПРЕДУПРЕЖДЕНИЕ! МКУ «УГОЧС Г. Новоалтайска» информирует В Алтайском крае во второй половине ночи и днем 13 декабря 2022 ожидается усиление ветра местами 17-22 м/с, по юго-востоку порывы 25-27 м/с, снег, местами сильный, метели. На дорогах снежные заносы. 14-16 декабря установление морозной погоды. При возникновении происшествий и чрезвычайных ситуаций немедленно информировать экстренные службы города по телефонам: 101, 112, тел. 8-(385)-32-4-33-55, 8-(385)-32-4-33-44. Будьте осторожны!\n",
      "Token IDs: tensor([  101,  1203, 22919, 14150, 16856, 29745, 19259, 14150, 15290,  1194,\n",
      "        16856, 15290, 29742, 29748, 29746, 16856, 15290, 29743, 29742, 15290,\n",
      "        18947, 10325, 15290,   999,  1191, 23925, 29748,  1077,  1198, 29741,\n",
      "        14150, 29752, 29747,  1183,  1012,  1192, 19259, 14150, 10260, 29436,\n",
      "        22919, 10260, 10325, 29747, 28598,  1090,  1188, 18947, 29749, 14150,\n",
      "        16856, 29745, 10325, 16856, 29748, 15290, 22919,  1182,  1180, 29436,\n",
      "        22919, 10260, 10325, 29747, 23925, 14150, 29745,  1189, 16856, 10260,\n",
      "        15290,  1182, 14150,  1182, 22919, 14150, 16856, 14150, 10325,  1194,\n",
      "        14150, 29436, 19259, 10325, 18947, 15290,  1192, 14150, 29752, 10325,\n",
      "         1188,  1184, 18947, 15290, 29745,  2410,  1184, 15290, 28598, 29740,\n",
      "        16856, 17432, 16798,  2475,  1193, 29743, 10325, 29742, 10260, 15290,\n",
      "        22919, 29747, 17432,  1198, 29747, 10325, 29436, 15290, 18947, 10325,\n",
      "        15290,  1182, 15290, 22919, 16856, 10260,  1191, 15290, 29747, 22919,\n",
      "        10260, 29745, 10325,  2459,  1011,  2570,  1191,  1013,  1196,  1010,\n",
      "         1194, 14150,  1209, 29741, 14150,  1011,  1182, 14150, 29747, 22919,\n",
      "        14150, 23925, 29748,  1194, 14150, 16856, 29113, 25529, 29113,  2423,\n",
      "         1011,  2676,  1191,  1013,  1196,  1010,  1196, 18947, 15290, 29741,\n",
      "         1010,  1191, 15290, 29747, 22919, 10260, 29745, 10325,  1196, 10325,\n",
      "        29436, 23742, 18947, 29113, 10325,  1010,  1191, 15290, 22919, 15290,\n",
      "        29436, 10325,  1012,  1192, 10260,  1184, 14150, 16856, 14150, 29741,\n",
      "        10260, 29750,  1196, 18947, 15290, 29743, 18947, 29113, 15290,  1187,\n",
      "        28995, 14150, 29747, 29113,  1012,  2403,  1011,  2385,  1184, 15290,\n",
      "        28598, 29740, 16856, 17432,  1198, 29747, 22919, 28995, 19259, 29436,\n",
      "        15290, 18947, 10325, 15290,  1191, 14150, 16856, 14150, 29744, 18947,\n",
      "        14150, 10325,  1194, 14150, 29741, 14150, 29742, 29113,  1012,  1194,\n",
      "        16856, 10325,  1182, 14150, 29744, 18947, 10325, 23925, 18947, 19259,\n",
      "        15290, 18947, 15414,  1194, 16856, 14150, 10325, 29747, 29753, 15290,\n",
      "        29747, 22919, 25529, 15414,  1188,  1202, 16856, 15290, 29744, 25529,\n",
      "        29113, 29752, 10260, 10325, 18947, 29113, 29750,  1196, 10325, 22919,\n",
      "        29748, 10260, 29751, 15414,  1192, 15290, 29745, 15290, 29742, 29436,\n",
      "        15290, 18947, 18947, 14150,  1188, 18947, 29749, 14150, 16856, 29745,\n",
      "        10325, 16856, 19259, 10260, 22919, 23742,  1208, 23925, 29747, 22919,\n",
      "        16856, 15290, 18947, 18947, 29113, 15290,  1196, 29436, 29748, 29743,\n",
      "        29740, 29113,  1183, 14150, 16856, 14150, 29742, 10260,  1194, 14150,\n",
      "         1197, 15290, 29436, 15290, 29749, 14150, 19865, 29745,  1024,  7886,\n",
      "         1010, 11176,  1010,  1197, 15290, 29436,  1012,  1022,  1011,  1006,\n",
      "        24429,  1007,  1011,  3590,  1011,  1018,  1011,  3943,  1011,  4583,\n",
      "         1010,  1022,  1011,  1006, 24429,  1007,  1011,  3590,  1011,  1018,\n",
      "         1011,  3943,  1011,  4008,  1012,  1181, 29748, 29742, 23742, 22919,\n",
      "        15290,  1193, 29747, 22919, 14150, 16856, 14150, 29743, 18947, 29113,\n",
      "          999,   102,     0,     0,     0,     0,     0,     0,     0,     0,\n",
      "            0,     0,     0,     0,     0,     0,     0,     0,     0,     0,\n",
      "            0,     0,     0,     0,     0,     0,     0,     0,     0,     0,\n",
      "            0,     0,     0,     0,     0,     0,     0,     0,     0,     0,\n",
      "            0,     0,     0,     0,     0,     0,     0,     0,     0,     0,\n",
      "            0,     0,     0,     0,     0,     0,     0,     0,     0,     0,\n",
      "            0,     0,     0,     0,     0,     0,     0,     0,     0,     0,\n",
      "            0,     0,     0,     0,     0,     0,     0,     0,     0,     0,\n",
      "            0,     0,     0,     0,     0,     0,     0,     0,     0,     0,\n",
      "            0,     0,     0,     0,     0,     0,     0,     0,     0,     0,\n",
      "            0,     0,     0,     0,     0,     0,     0,     0,     0,     0,\n",
      "            0,     0])\n"
     ]
    }
   ],
   "source": [
    "# Tokenize all of the sentences and map the tokens to thier word IDs.\n",
    "input_ids = []\n",
    "attention_masks = []\n",
    "\n",
    "# For every sentence...\n",
    "for sent in sentences:\n",
    "    # `encode_plus` will:\n",
    "    #   (1) Tokenize the sentence.\n",
    "    #   (2) Prepend the `[CLS]` token to the start.\n",
    "    #   (3) Append the `[SEP]` token to the end.\n",
    "    #   (4) Map tokens to their IDs.\n",
    "    #   (5) Pad or truncate the sentence to `max_length`\n",
    "    #   (6) Create attention masks for [PAD] tokens.\n",
    "    encoded_dict = tokenizer.encode_plus(\n",
    "                        sent,                      # Sentence to encode.\n",
    "                        add_special_tokens = True, # Add '[CLS]' and '[SEP]'\n",
    "                        max_length = 512,           # Pad & truncate all sentences.\n",
    "                        pad_to_max_length = True,\n",
    "                        return_attention_mask = True,   # Construct attn. masks.\n",
    "                        return_tensors = 'pt'     # Return pytorch tensors.\n",
    "                   )\n",
    "\n",
    "    # Add the encoded sentence to the list.\n",
    "    input_ids.append(encoded_dict['input_ids'])\n",
    "\n",
    "    # And its attention mask (simply differentiates padding from non-padding).\n",
    "    attention_masks.append(encoded_dict['attention_mask'])\n",
    "\n",
    "# Convert the lists into tensors.\n",
    "input_ids = torch.cat(input_ids, dim=0)\n",
    "attention_masks = torch.cat(attention_masks, dim=0)\n",
    "labels = torch.tensor(labels)\n",
    "\n",
    "# Print sentence 0, now as a list of IDs.\n",
    "print('Original: ', sentences[0])\n",
    "print('Token IDs:', input_ids[0])"
   ]
  },
  {
   "cell_type": "markdown",
   "metadata": {
    "id": "aRp4O7D295d_"
   },
   "source": [
    "### Training & Validation Split"
   ]
  },
  {
   "cell_type": "code",
   "execution_count": 21,
   "metadata": {
    "execution": {
     "iopub.execute_input": "2025-05-07T04:49:29.089354Z",
     "iopub.status.busy": "2025-05-07T04:49:29.089136Z",
     "iopub.status.idle": "2025-05-07T04:49:29.097093Z",
     "shell.execute_reply": "2025-05-07T04:49:29.096587Z",
     "shell.execute_reply.started": "2025-05-07T04:49:29.089338Z"
    }
   },
   "outputs": [
    {
     "name": "stdout",
     "output_type": "stream",
     "text": [
      "6,060 training samples\n",
      "  674 validation samples\n"
     ]
    }
   ],
   "source": [
    "# Combine the training inputs into a TensorDataset.\n",
    "dataset = TensorDataset(input_ids, attention_masks, labels)\n",
    "\n",
    "# Create a 90-10 train-validation split.\n",
    "\n",
    "# Calculate the number of samples to include in each set.\n",
    "train_size = int(0.9 * len(dataset))\n",
    "val_size = len(dataset) - train_size\n",
    "\n",
    "# Divide the dataset by randomly selecting samples.\n",
    "train_dataset, val_dataset = random_split(dataset, [train_size, val_size])\n",
    "\n",
    "print('{:>5,} training samples'.format(train_size))\n",
    "print('{:>5,} validation samples'.format(val_size))"
   ]
  },
  {
   "cell_type": "code",
   "execution_count": 22,
   "metadata": {
    "execution": {
     "iopub.execute_input": "2025-05-07T04:49:29.097917Z",
     "iopub.status.busy": "2025-05-07T04:49:29.097682Z",
     "iopub.status.idle": "2025-05-07T04:49:29.114323Z",
     "shell.execute_reply": "2025-05-07T04:49:29.113495Z",
     "shell.execute_reply.started": "2025-05-07T04:49:29.097892Z"
    },
    "id": "XGUqOCtgqGhP"
   },
   "outputs": [],
   "source": [
    "# The DataLoader needs to know our batch size for training, so we specify it\n",
    "# here. For fine-tuning BERT on a specific task, the authors recommend a batch\n",
    "# size of 16 or 32.\n",
    "batch_size = 32\n",
    "\n",
    "# Create the DataLoaders for our training and validation sets.\n",
    "# We'll take training samples in random order.\n",
    "train_dataloader = DataLoader(\n",
    "            train_dataset,  # The training samples.\n",
    "            sampler = RandomSampler(train_dataset), # Select batches randomly\n",
    "            batch_size = batch_size # Trains with this batch size.\n",
    "        )\n",
    "\n",
    "# For validation the order doesn't matter, so we'll just read them sequentially.\n",
    "validation_dataloader = DataLoader(\n",
    "            val_dataset, # The validation samples.\n",
    "            sampler = SequentialSampler(val_dataset), # Pull out batches sequentially.\n",
    "            batch_size = batch_size # Evaluate with this batch size.\n",
    "        )"
   ]
  },
  {
   "cell_type": "markdown",
   "metadata": {
    "id": "8bwa6Rts-02-"
   },
   "source": [
    "### Classification Model. При классификации на 5 классов, `num_labels = 5`, на 8 - `num_labels = 8`"
   ]
  },
  {
   "cell_type": "code",
   "execution_count": 23,
   "metadata": {
    "execution": {
     "iopub.execute_input": "2025-05-07T04:49:29.115822Z",
     "iopub.status.busy": "2025-05-07T04:49:29.115642Z",
     "iopub.status.idle": "2025-05-07T04:49:31.697918Z",
     "shell.execute_reply": "2025-05-07T04:49:31.697313Z",
     "shell.execute_reply.started": "2025-05-07T04:49:29.115809Z"
    }
   },
   "outputs": [
    {
     "name": "stderr",
     "output_type": "stream",
     "text": [
      "Xet Storage is enabled for this repo, but the 'hf_xet' package is not installed. Falling back to regular HTTP download. For better performance, install the package with: `pip install huggingface_hub[hf_xet]` or `pip install hf_xet`\n"
     ]
    },
    {
     "data": {
      "application/vnd.jupyter.widget-view+json": {
       "model_id": "b6615f59fe504cffbd28b1da828a78a6",
       "version_major": 2,
       "version_minor": 0
      },
      "text/plain": [
       "model.safetensors:   0%|          | 0.00/440M [00:00<?, ?B/s]"
      ]
     },
     "metadata": {},
     "output_type": "display_data"
    },
    {
     "name": "stderr",
     "output_type": "stream",
     "text": [
      "Some weights of BertForSequenceClassification were not initialized from the model checkpoint at bert-base-uncased and are newly initialized: ['classifier.bias', 'classifier.weight']\n",
      "You should probably TRAIN this model on a down-stream task to be able to use it for predictions and inference.\n"
     ]
    },
    {
     "data": {
      "text/plain": [
       "BertForSequenceClassification(\n",
       "  (bert): BertModel(\n",
       "    (embeddings): BertEmbeddings(\n",
       "      (word_embeddings): Embedding(30522, 768, padding_idx=0)\n",
       "      (position_embeddings): Embedding(512, 768)\n",
       "      (token_type_embeddings): Embedding(2, 768)\n",
       "      (LayerNorm): LayerNorm((768,), eps=1e-12, elementwise_affine=True)\n",
       "      (dropout): Dropout(p=0.1, inplace=False)\n",
       "    )\n",
       "    (encoder): BertEncoder(\n",
       "      (layer): ModuleList(\n",
       "        (0-11): 12 x BertLayer(\n",
       "          (attention): BertAttention(\n",
       "            (self): BertSdpaSelfAttention(\n",
       "              (query): Linear(in_features=768, out_features=768, bias=True)\n",
       "              (key): Linear(in_features=768, out_features=768, bias=True)\n",
       "              (value): Linear(in_features=768, out_features=768, bias=True)\n",
       "              (dropout): Dropout(p=0.1, inplace=False)\n",
       "            )\n",
       "            (output): BertSelfOutput(\n",
       "              (dense): Linear(in_features=768, out_features=768, bias=True)\n",
       "              (LayerNorm): LayerNorm((768,), eps=1e-12, elementwise_affine=True)\n",
       "              (dropout): Dropout(p=0.1, inplace=False)\n",
       "            )\n",
       "          )\n",
       "          (intermediate): BertIntermediate(\n",
       "            (dense): Linear(in_features=768, out_features=3072, bias=True)\n",
       "            (intermediate_act_fn): GELUActivation()\n",
       "          )\n",
       "          (output): BertOutput(\n",
       "            (dense): Linear(in_features=3072, out_features=768, bias=True)\n",
       "            (LayerNorm): LayerNorm((768,), eps=1e-12, elementwise_affine=True)\n",
       "            (dropout): Dropout(p=0.1, inplace=False)\n",
       "          )\n",
       "        )\n",
       "      )\n",
       "    )\n",
       "    (pooler): BertPooler(\n",
       "      (dense): Linear(in_features=768, out_features=768, bias=True)\n",
       "      (activation): Tanh()\n",
       "    )\n",
       "  )\n",
       "  (dropout): Dropout(p=0.1, inplace=False)\n",
       "  (classifier): Linear(in_features=768, out_features=8, bias=True)\n",
       ")"
      ]
     },
     "execution_count": 23,
     "metadata": {},
     "output_type": "execute_result"
    }
   ],
   "source": [
    "# Load BertForSequenceClassification, the pretrained BERT model with a single\n",
    "# linear classification layer on top.\n",
    "model = BertForSequenceClassification.from_pretrained(\n",
    "    \"bert-base-uncased\", # Use the 12-layer BERT model, with an uncased vocab.\n",
    "    num_labels = 8, # The number of output labels--2 for binary classification.\n",
    "                    # You can increase this for multi-class tasks.\n",
    "    output_attentions = False, # Whether the model returns attentions weights.\n",
    "    output_hidden_states = False, # Whether the model returns all hidden-states.\n",
    ")\n",
    "\n",
    "# Tell pytorch to run this model on the GPU.\n",
    "model.cuda()"
   ]
  },
  {
   "cell_type": "code",
   "execution_count": 18,
   "metadata": {
    "execution": {
     "iopub.execute_input": "2025-05-07T03:35:02.425869Z",
     "iopub.status.busy": "2025-05-07T03:35:02.425567Z",
     "iopub.status.idle": "2025-05-07T03:35:04.921725Z",
     "shell.execute_reply": "2025-05-07T03:35:04.921074Z",
     "shell.execute_reply.started": "2025-05-07T03:35:02.425848Z"
    }
   },
   "outputs": [
    {
     "name": "stderr",
     "output_type": "stream",
     "text": [
      "Xet Storage is enabled for this repo, but the 'hf_xet' package is not installed. Falling back to regular HTTP download. For better performance, install the package with: `pip install huggingface_hub[hf_xet]` or `pip install hf_xet`\n"
     ]
    },
    {
     "data": {
      "application/vnd.jupyter.widget-view+json": {
       "model_id": "7c21ef6f43b944099e7e0d7d367fa2de",
       "version_major": 2,
       "version_minor": 0
      },
      "text/plain": [
       "model.safetensors:   0%|          | 0.00/440M [00:00<?, ?B/s]"
      ]
     },
     "metadata": {},
     "output_type": "display_data"
    },
    {
     "name": "stderr",
     "output_type": "stream",
     "text": [
      "Some weights of BertForSequenceClassification were not initialized from the model checkpoint at bert-base-uncased and are newly initialized: ['classifier.bias', 'classifier.weight']\n",
      "You should probably TRAIN this model on a down-stream task to be able to use it for predictions and inference.\n"
     ]
    },
    {
     "data": {
      "text/plain": [
       "BertForSequenceClassification(\n",
       "  (bert): BertModel(\n",
       "    (embeddings): BertEmbeddings(\n",
       "      (word_embeddings): Embedding(30522, 768, padding_idx=0)\n",
       "      (position_embeddings): Embedding(512, 768)\n",
       "      (token_type_embeddings): Embedding(2, 768)\n",
       "      (LayerNorm): LayerNorm((768,), eps=1e-12, elementwise_affine=True)\n",
       "      (dropout): Dropout(p=0.1, inplace=False)\n",
       "    )\n",
       "    (encoder): BertEncoder(\n",
       "      (layer): ModuleList(\n",
       "        (0-11): 12 x BertLayer(\n",
       "          (attention): BertAttention(\n",
       "            (self): BertSdpaSelfAttention(\n",
       "              (query): Linear(in_features=768, out_features=768, bias=True)\n",
       "              (key): Linear(in_features=768, out_features=768, bias=True)\n",
       "              (value): Linear(in_features=768, out_features=768, bias=True)\n",
       "              (dropout): Dropout(p=0.1, inplace=False)\n",
       "            )\n",
       "            (output): BertSelfOutput(\n",
       "              (dense): Linear(in_features=768, out_features=768, bias=True)\n",
       "              (LayerNorm): LayerNorm((768,), eps=1e-12, elementwise_affine=True)\n",
       "              (dropout): Dropout(p=0.1, inplace=False)\n",
       "            )\n",
       "          )\n",
       "          (intermediate): BertIntermediate(\n",
       "            (dense): Linear(in_features=768, out_features=3072, bias=True)\n",
       "            (intermediate_act_fn): GELUActivation()\n",
       "          )\n",
       "          (output): BertOutput(\n",
       "            (dense): Linear(in_features=3072, out_features=768, bias=True)\n",
       "            (LayerNorm): LayerNorm((768,), eps=1e-12, elementwise_affine=True)\n",
       "            (dropout): Dropout(p=0.1, inplace=False)\n",
       "          )\n",
       "        )\n",
       "      )\n",
       "    )\n",
       "    (pooler): BertPooler(\n",
       "      (dense): Linear(in_features=768, out_features=768, bias=True)\n",
       "      (activation): Tanh()\n",
       "    )\n",
       "  )\n",
       "  (dropout): Dropout(p=0.1, inplace=False)\n",
       "  (classifier): Linear(in_features=768, out_features=5, bias=True)\n",
       ")"
      ]
     },
     "execution_count": 18,
     "metadata": {},
     "output_type": "execute_result"
    }
   ],
   "source": [
    "# # Load BertForSequenceClassification, the pretrained BERT model with a single\n",
    "# # linear classification layer on top.\n",
    "# model = BertForSequenceClassification.from_pretrained(\n",
    "#     \"bert-base-uncased\", # Use the 12-layer BERT model, with an uncased vocab.\n",
    "#     num_labels = 5, # The number of output labels--2 for binary classification.\n",
    "#                     # You can increase this for multi-class tasks.\n",
    "#     output_attentions = False, # Whether the model returns attentions weights.\n",
    "#     output_hidden_states = False, # Whether the model returns all hidden-states.\n",
    "# )\n",
    "\n",
    "# # Tell pytorch to run this model on the GPU.\n",
    "# model.cuda()"
   ]
  },
  {
   "cell_type": "code",
   "execution_count": 18,
   "metadata": {
    "colab": {
     "base_uri": "https://localhost:8080/"
    },
    "execution": {
     "iopub.execute_input": "2025-05-06T22:15:38.619447Z",
     "iopub.status.busy": "2025-05-06T22:15:38.618528Z",
     "iopub.status.idle": "2025-05-06T22:15:38.625759Z",
     "shell.execute_reply": "2025-05-06T22:15:38.625068Z",
     "shell.execute_reply.started": "2025-05-06T22:15:38.619407Z"
    },
    "id": "8PIiVlDYCtSq",
    "outputId": "ffcefa35-ebe5-48a6-b891-f763cd55b41b"
   },
   "outputs": [
    {
     "name": "stdout",
     "output_type": "stream",
     "text": [
      "The BERT model has 201 different named parameters.\n",
      "\n",
      "==== Embedding Layer ====\n",
      "\n",
      "bert.embeddings.word_embeddings.weight                  (30522, 768)\n",
      "bert.embeddings.position_embeddings.weight                (512, 768)\n",
      "bert.embeddings.token_type_embeddings.weight                (2, 768)\n",
      "bert.embeddings.LayerNorm.weight                              (768,)\n",
      "bert.embeddings.LayerNorm.bias                                (768,)\n",
      "\n",
      "==== First Transformer ====\n",
      "\n",
      "bert.encoder.layer.0.attention.self.query.weight          (768, 768)\n",
      "bert.encoder.layer.0.attention.self.query.bias                (768,)\n",
      "bert.encoder.layer.0.attention.self.key.weight            (768, 768)\n",
      "bert.encoder.layer.0.attention.self.key.bias                  (768,)\n",
      "bert.encoder.layer.0.attention.self.value.weight          (768, 768)\n",
      "bert.encoder.layer.0.attention.self.value.bias                (768,)\n",
      "bert.encoder.layer.0.attention.output.dense.weight        (768, 768)\n",
      "bert.encoder.layer.0.attention.output.dense.bias              (768,)\n",
      "bert.encoder.layer.0.attention.output.LayerNorm.weight        (768,)\n",
      "bert.encoder.layer.0.attention.output.LayerNorm.bias          (768,)\n",
      "bert.encoder.layer.0.intermediate.dense.weight           (3072, 768)\n",
      "bert.encoder.layer.0.intermediate.dense.bias                 (3072,)\n",
      "bert.encoder.layer.0.output.dense.weight                 (768, 3072)\n",
      "bert.encoder.layer.0.output.dense.bias                        (768,)\n",
      "bert.encoder.layer.0.output.LayerNorm.weight                  (768,)\n",
      "bert.encoder.layer.0.output.LayerNorm.bias                    (768,)\n",
      "\n",
      "==== Output Layer ====\n",
      "\n",
      "bert.pooler.dense.weight                                  (768, 768)\n",
      "bert.pooler.dense.bias                                        (768,)\n",
      "classifier.weight                                           (8, 768)\n",
      "classifier.bias                                                 (8,)\n"
     ]
    }
   ],
   "source": [
    "# Get all of the model's parameters as a list of tuples.\n",
    "params = list(model.named_parameters())\n",
    "\n",
    "print('The BERT model has {:} different named parameters.\\n'.format(len(params)))\n",
    "\n",
    "print('==== Embedding Layer ====\\n')\n",
    "\n",
    "for p in params[0:5]:\n",
    "    print(\"{:<55} {:>12}\".format(p[0], str(tuple(p[1].size()))))\n",
    "\n",
    "print('\\n==== First Transformer ====\\n')\n",
    "\n",
    "for p in params[5:21]:\n",
    "    print(\"{:<55} {:>12}\".format(p[0], str(tuple(p[1].size()))))\n",
    "\n",
    "print('\\n==== Output Layer ====\\n')\n",
    "\n",
    "for p in params[-4:]:\n",
    "    print(\"{:<55} {:>12}\".format(p[0], str(tuple(p[1].size()))))"
   ]
  },
  {
   "cell_type": "markdown",
   "metadata": {
    "id": "qRWT-D4U_Pvx"
   },
   "source": [
    "### Optimizer & Learning Rate Scheduler"
   ]
  },
  {
   "cell_type": "code",
   "execution_count": 24,
   "metadata": {
    "colab": {
     "base_uri": "https://localhost:8080/"
    },
    "execution": {
     "iopub.execute_input": "2025-05-07T04:49:31.698857Z",
     "iopub.status.busy": "2025-05-07T04:49:31.698632Z",
     "iopub.status.idle": "2025-05-07T04:49:31.703366Z",
     "shell.execute_reply": "2025-05-07T04:49:31.702605Z",
     "shell.execute_reply.started": "2025-05-07T04:49:31.698841Z"
    },
    "id": "GLs72DuMODJO",
    "outputId": "6a6a2ba5-9620-48a8-f78e-c8183427b096"
   },
   "outputs": [],
   "source": [
    "# Note: AdamW is a class from the huggingface library (as opposed to pytorch)\n",
    "# I believe the 'W' stands for 'Weight Decay fix\"\n",
    "optimizer = AdamW(model.parameters(),\n",
    "                  lr = 2e-5, # args.learning_rate - default is 5e-5, our notebook had 2e-5\n",
    "                  eps = 1e-8 # args.adam_epsilon  - default is 1e-8.\n",
    "                )\n"
   ]
  },
  {
   "cell_type": "code",
   "execution_count": 25,
   "metadata": {
    "execution": {
     "iopub.execute_input": "2025-05-07T04:49:31.704660Z",
     "iopub.status.busy": "2025-05-07T04:49:31.704182Z",
     "iopub.status.idle": "2025-05-07T04:49:31.720158Z",
     "shell.execute_reply": "2025-05-07T04:49:31.719611Z",
     "shell.execute_reply.started": "2025-05-07T04:49:31.704642Z"
    }
   },
   "outputs": [
    {
     "data": {
      "text/plain": [
       "760"
      ]
     },
     "execution_count": 25,
     "metadata": {},
     "output_type": "execute_result"
    }
   ],
   "source": [
    "len(train_dataloader) * 4"
   ]
  },
  {
   "cell_type": "code",
   "execution_count": 26,
   "metadata": {
    "execution": {
     "iopub.execute_input": "2025-05-07T04:49:38.764501Z",
     "iopub.status.busy": "2025-05-07T04:49:38.764219Z",
     "iopub.status.idle": "2025-05-07T04:49:38.768775Z",
     "shell.execute_reply": "2025-05-07T04:49:38.767971Z",
     "shell.execute_reply.started": "2025-05-07T04:49:38.764480Z"
    },
    "id": "-p0upAhhRiIx"
   },
   "outputs": [],
   "source": [
    "# Number of training epochs. The BERT authors recommend between 2 and 4.\n",
    "# We chose to run for 4, but we'll see later that this may be over-fitting the\n",
    "# training data.\n",
    "epochs = 4\n",
    "\n",
    "# Total number of training steps is [number of batches] x [number of epochs].\n",
    "# (Note that this is not the same as the number of training samples).\n",
    "total_steps = len(train_dataloader) * epochs\n",
    "\n",
    "# Create the learning rate scheduler.\n",
    "scheduler = get_linear_schedule_with_warmup(optimizer,\n",
    "                                            num_warmup_steps = 76, # Default value in run_glue.py\n",
    "                                            num_training_steps = total_steps)"
   ]
  },
  {
   "cell_type": "markdown",
   "metadata": {
    "id": "RqfmWwUR_Sox"
   },
   "source": [
    "### Training Loop"
   ]
  },
  {
   "cell_type": "markdown",
   "metadata": {},
   "source": [
    "Define a helper function for calculating accuracy."
   ]
  },
  {
   "cell_type": "code",
   "execution_count": 27,
   "metadata": {
    "execution": {
     "iopub.execute_input": "2025-05-07T04:49:45.035203Z",
     "iopub.status.busy": "2025-05-07T04:49:45.034487Z",
     "iopub.status.idle": "2025-05-07T04:49:45.041804Z",
     "shell.execute_reply": "2025-05-07T04:49:45.041003Z",
     "shell.execute_reply.started": "2025-05-07T04:49:45.035166Z"
    },
    "id": "9cQNvaZ9bnyy"
   },
   "outputs": [],
   "source": [
    "# Function to calculate the accuracy of our predictions vs labels\n",
    "def flat_accuracy(preds, labels):\n",
    "    pred_flat = np.argmax(preds, axis=1).flatten()\n",
    "    labels_flat = labels.flatten()\n",
    "    return np.sum(pred_flat == labels_flat) / len(labels_flat)"
   ]
  },
  {
   "cell_type": "markdown",
   "metadata": {
    "id": "KNhRtWPXH9C3"
   },
   "source": [
    "Helper function for formatting elapsed times as `hh:mm:ss`\n"
   ]
  },
  {
   "cell_type": "code",
   "execution_count": 28,
   "metadata": {
    "execution": {
     "iopub.execute_input": "2025-05-07T04:49:48.378926Z",
     "iopub.status.busy": "2025-05-07T04:49:48.378661Z",
     "iopub.status.idle": "2025-05-07T04:49:48.383074Z",
     "shell.execute_reply": "2025-05-07T04:49:48.382511Z",
     "shell.execute_reply.started": "2025-05-07T04:49:48.378906Z"
    },
    "id": "gpt6tR83keZD"
   },
   "outputs": [],
   "source": [
    "def format_time(elapsed):\n",
    "    '''\n",
    "    Takes a time in seconds and returns a string hh:mm:ss\n",
    "    '''\n",
    "    # Round to the nearest second.\n",
    "    elapsed_rounded = int(round((elapsed)))\n",
    "\n",
    "    # Format as hh:mm:ss\n",
    "    return str(datetime.timedelta(seconds=elapsed_rounded))\n"
   ]
  },
  {
   "cell_type": "markdown",
   "metadata": {
    "id": "cfNIhN19te3N"
   },
   "source": [
    "We're ready to kick off the training!"
   ]
  },
  {
   "cell_type": "markdown",
   "metadata": {},
   "source": [
    "### Тренировка модели для 5-ти классов"
   ]
  },
  {
   "cell_type": "markdown",
   "metadata": {},
   "source": [
    "### 5 классов"
   ]
  },
  {
   "cell_type": "code",
   "execution_count": 26,
   "metadata": {
    "execution": {
     "iopub.execute_input": "2025-05-07T03:37:40.478534Z",
     "iopub.status.busy": "2025-05-07T03:37:40.477891Z",
     "iopub.status.idle": "2025-05-07T04:05:15.179525Z",
     "shell.execute_reply": "2025-05-07T04:05:15.178721Z",
     "shell.execute_reply.started": "2025-05-07T03:37:40.478487Z"
    }
   },
   "outputs": [
    {
     "name": "stdout",
     "output_type": "stream",
     "text": [
      "\n",
      "======== Epoch 1 / 4 ========\n",
      "Training...\n",
      "  Batch    40  of    190.    Elapsed: 0:01:24.\n",
      "  Batch    80  of    190.    Elapsed: 0:02:49.\n",
      "  Batch   120  of    190.    Elapsed: 0:04:14.\n",
      "  Batch   160  of    190.    Elapsed: 0:05:39.\n",
      "\n",
      "  Average training loss: 1.56\n",
      "  Training epcoh took: 0:06:43\n",
      "\n",
      "Running Validation...\n",
      "  Accuracy: 0.28\n",
      "  Validation Loss: 1.52\n",
      "  Validation took: 0:00:11\n",
      "\n",
      "======== Epoch 2 / 4 ========\n",
      "Training...\n",
      "  Batch    40  of    190.    Elapsed: 0:01:23.\n",
      "  Batch    80  of    190.    Elapsed: 0:02:49.\n",
      "  Batch   120  of    190.    Elapsed: 0:04:14.\n",
      "  Batch   160  of    190.    Elapsed: 0:05:39.\n",
      "\n",
      "  Average training loss: 0.39\n",
      "  Training epcoh took: 0:06:42\n",
      "\n",
      "Running Validation...\n",
      "  Accuracy: 0.95\n",
      "  Validation Loss: 0.15\n",
      "  Validation took: 0:00:11\n",
      "\n",
      "======== Epoch 3 / 4 ========\n",
      "Training...\n",
      "  Batch    40  of    190.    Elapsed: 0:01:24.\n",
      "  Batch    80  of    190.    Elapsed: 0:02:49.\n",
      "  Batch   120  of    190.    Elapsed: 0:04:14.\n",
      "  Batch   160  of    190.    Elapsed: 0:05:39.\n",
      "\n",
      "  Average training loss: 0.13\n",
      "  Training epcoh took: 0:06:43\n",
      "\n",
      "Running Validation...\n",
      "  Accuracy: 0.96\n",
      "  Validation Loss: 0.13\n",
      "  Validation took: 0:00:11\n",
      "\n",
      "======== Epoch 4 / 4 ========\n",
      "Training...\n",
      "  Batch    40  of    190.    Elapsed: 0:01:24.\n",
      "  Batch    80  of    190.    Elapsed: 0:02:49.\n",
      "  Batch   120  of    190.    Elapsed: 0:04:14.\n",
      "  Batch   160  of    190.    Elapsed: 0:05:39.\n",
      "\n",
      "  Average training loss: 0.12\n",
      "  Training epcoh took: 0:06:42\n",
      "\n",
      "Running Validation...\n",
      "  Accuracy: 0.96\n",
      "  Validation Loss: 0.13\n",
      "  Validation took: 0:00:11\n",
      "\n",
      "Training complete!\n",
      "Total training took 0:27:35 (h:mm:ss)\n"
     ]
    }
   ],
   "source": [
    "# # This training code is based on the `run_glue.py` script here:\n",
    "# # https://github.com/huggingface/transformers/blob/5bfcd0485ece086ebcbed2d008813037968a9e58/examples/run_glue.py#L128\n",
    "\n",
    "# # Set the seed value all over the place to make this reproducible.\n",
    "# seed_val = 42\n",
    "\n",
    "# random.seed(seed_val)\n",
    "# np.random.seed(seed_val)\n",
    "# torch.manual_seed(seed_val)\n",
    "# torch.cuda.manual_seed_all(seed_val)\n",
    "\n",
    "# # We'll store a number of quantities such as training and validation loss,\n",
    "# # validation accuracy, and timings.\n",
    "# training_stats = []\n",
    "\n",
    "# # Measure the total training time for the whole run.\n",
    "# total_t0 = time.time()\n",
    "\n",
    "# # For each epoch...\n",
    "# for epoch_i in range(0, epochs):\n",
    "\n",
    "#     # ========================================\n",
    "#     #               Training\n",
    "#     # ========================================\n",
    "\n",
    "#     # Perform one full pass over the training set.\n",
    "\n",
    "#     print(\"\")\n",
    "#     print('======== Epoch {:} / {:} ========'.format(epoch_i + 1, epochs))\n",
    "#     print('Training...')\n",
    "\n",
    "#     # Measure how long the training epoch takes.\n",
    "#     t0 = time.time()\n",
    "\n",
    "#     # Reset the total loss for this epoch.\n",
    "#     total_train_loss = 0\n",
    "\n",
    "#     # Put the model into training mode. Don't be mislead--the call to\n",
    "#     # `train` just changes the *mode*, it doesn't *perform* the training.\n",
    "#     # `dropout` and `batchnorm` layers behave differently during training\n",
    "#     # vs. test (source: https://stackoverflow.com/questions/51433378/what-does-model-train-do-in-pytorch)\n",
    "#     model.train()\n",
    "\n",
    "#     # For each batch of training data...\n",
    "#     for step, batch in enumerate(train_dataloader):\n",
    "\n",
    "#         # Progress update every 40 batches.\n",
    "#         if step % 40 == 0 and not step == 0:\n",
    "#             # Calculate elapsed time in minutes.\n",
    "#             elapsed = format_time(time.time() - t0)\n",
    "\n",
    "#             # Report progress.\n",
    "#             print('  Batch {:>5,}  of  {:>5,}.    Elapsed: {:}.'.format(step, len(train_dataloader), elapsed))\n",
    "\n",
    "#         # Unpack this training batch from our dataloader.\n",
    "#         #\n",
    "#         # As we unpack the batch, we'll also copy each tensor to the GPU using the\n",
    "#         # `to` method.\n",
    "#         #\n",
    "#         # `batch` contains three pytorch tensors:\n",
    "#         #   [0]: input ids\n",
    "#         #   [1]: attention masks\n",
    "#         #   [2]: labels\n",
    "#         b_input_ids = batch[0].to(device)\n",
    "#         b_input_mask = batch[1].to(device)\n",
    "#         b_labels = batch[2].to(device)\n",
    "\n",
    "#         # Always clear any previously calculated gradients before performing a\n",
    "#         # backward pass. PyTorch doesn't do this automatically because\n",
    "#         # accumulating the gradients is \"convenient while training RNNs\".\n",
    "#         # (source: https://stackoverflow.com/questions/48001598/why-do-we-need-to-call-zero-grad-in-pytorch)\n",
    "#         model.zero_grad()\n",
    "\n",
    "#         # Perform a forward pass (evaluate the model on this training batch).\n",
    "#         # In PyTorch, calling `model` will in turn call the model's `forward`\n",
    "#         # function and pass down the arguments. The `forward` function is\n",
    "#         # documented here:\n",
    "#         # https://huggingface.co/transformers/model_doc/bert.html#bertforsequenceclassification\n",
    "#         # The results are returned in a results object, documented here:\n",
    "#         # https://huggingface.co/transformers/main_classes/output.html#transformers.modeling_outputs.SequenceClassifierOutput\n",
    "#         # Specifically, we'll get the loss (because we provided labels) and the\n",
    "#         # \"logits\"--the model outputs prior to activation.\n",
    "#         result = model(b_input_ids,\n",
    "#                        token_type_ids=None,\n",
    "#                        attention_mask=b_input_mask,\n",
    "#                        labels=b_labels,\n",
    "#                        return_dict=True)\n",
    "\n",
    "#         loss = result.loss\n",
    "#         logits = result.logits\n",
    "\n",
    "#         # Accumulate the training loss over all of the batches so that we can\n",
    "#         # calculate the average loss at the end. `loss` is a Tensor containing a\n",
    "#         # single value; the `.item()` function just returns the Python value\n",
    "#         # from the tensor.\n",
    "#         total_train_loss += loss.item()\n",
    "\n",
    "#         # Perform a backward pass to calculate the gradients.\n",
    "#         loss.backward()\n",
    "\n",
    "#         # Clip the norm of the gradients to 1.0.\n",
    "#         # This is to help prevent the \"exploding gradients\" problem.\n",
    "#         torch.nn.utils.clip_grad_norm_(model.parameters(), 1.0)\n",
    "\n",
    "#         # Update parameters and take a step using the computed gradient.\n",
    "#         # The optimizer dictates the \"update rule\"--how the parameters are\n",
    "#         # modified based on their gradients, the learning rate, etc.\n",
    "#         optimizer.step()\n",
    "\n",
    "#         # Update the learning rate.\n",
    "#         scheduler.step()\n",
    "\n",
    "#     # Calculate the average loss over all of the batches.\n",
    "#     avg_train_loss = total_train_loss / len(train_dataloader)\n",
    "\n",
    "#     # Measure how long this epoch took.\n",
    "#     training_time = format_time(time.time() - t0)\n",
    "\n",
    "#     print(\"\")\n",
    "#     print(\"  Average training loss: {0:.2f}\".format(avg_train_loss))\n",
    "#     print(\"  Training epcoh took: {:}\".format(training_time))\n",
    "\n",
    "#     # ========================================\n",
    "#     #               Validation\n",
    "#     # ========================================\n",
    "#     # After the completion of each training epoch, measure our performance on\n",
    "#     # our validation set.\n",
    "\n",
    "#     print(\"\")\n",
    "#     print(\"Running Validation...\")\n",
    "\n",
    "#     t0 = time.time()\n",
    "\n",
    "#     # Put the model in evaluation mode--the dropout layers behave differently\n",
    "#     # during evaluation.\n",
    "#     model.eval()\n",
    "\n",
    "#     # Tracking variables\n",
    "#     total_eval_accuracy = 0\n",
    "#     total_eval_loss = 0\n",
    "#     nb_eval_steps = 0\n",
    "\n",
    "#     # Evaluate data for one epoch\n",
    "#     for batch in validation_dataloader:\n",
    "\n",
    "#         # Unpack this training batch from our dataloader.\n",
    "#         #\n",
    "#         # As we unpack the batch, we'll also copy each tensor to the GPU using\n",
    "#         # the `to` method.\n",
    "#         #\n",
    "#         # `batch` contains three pytorch tensors:\n",
    "#         #   [0]: input ids\n",
    "#         #   [1]: attention masks\n",
    "#         #   [2]: labels\n",
    "#         b_input_ids = batch[0].to(device)\n",
    "#         b_input_mask = batch[1].to(device)\n",
    "#         b_labels = batch[2].to(device)\n",
    "\n",
    "#         # Tell pytorch not to bother with constructing the compute graph during\n",
    "#         # the forward pass, since this is only needed for backprop (training).\n",
    "#         with torch.no_grad():\n",
    "\n",
    "#             # Forward pass, calculate logit predictions.\n",
    "#             # token_type_ids is the same as the \"segment ids\", which\n",
    "#             # differentiates sentence 1 and 2 in 2-sentence tasks.\n",
    "#             result = model(b_input_ids,\n",
    "#                            token_type_ids=None,\n",
    "#                            attention_mask=b_input_mask,\n",
    "#                            labels=b_labels,\n",
    "#                            return_dict=True)\n",
    "\n",
    "#         # Get the loss and \"logits\" output by the model. The \"logits\" are the\n",
    "#         # output values prior to applying an activation function like the\n",
    "#         # softmax.\n",
    "#         loss = result.loss\n",
    "#         logits = result.logits\n",
    "\n",
    "#         # Accumulate the validation loss.\n",
    "#         total_eval_loss += loss.item()\n",
    "\n",
    "#         # Move logits and labels to CPU\n",
    "#         logits = logits.detach().cpu().numpy()\n",
    "#         label_ids = b_labels.to('cpu').numpy()\n",
    "\n",
    "#         # Calculate the accuracy for this batch of test sentences, and\n",
    "#         # accumulate it over all batches.\n",
    "#         total_eval_accuracy += flat_accuracy(logits, label_ids)\n",
    "\n",
    "\n",
    "#     # Report the final accuracy for this validation run.\n",
    "#     avg_val_accuracy = total_eval_accuracy / len(validation_dataloader)\n",
    "#     print(\"  Accuracy: {0:.2f}\".format(avg_val_accuracy))\n",
    "\n",
    "#     # Calculate the average loss over all of the batches.\n",
    "#     avg_val_loss = total_eval_loss / len(validation_dataloader)\n",
    "\n",
    "#     # Measure how long the validation run took.\n",
    "#     validation_time = format_time(time.time() - t0)\n",
    "\n",
    "#     print(\"  Validation Loss: {0:.2f}\".format(avg_val_loss))\n",
    "#     print(\"  Validation took: {:}\".format(validation_time))\n",
    "\n",
    "#     # Record all statistics from this epoch.\n",
    "#     training_stats.append(\n",
    "#         {\n",
    "#             'epoch': epoch_i + 1,\n",
    "#             'Training Loss': avg_train_loss,\n",
    "#             'Valid. Loss': avg_val_loss,\n",
    "#             'Valid. Accur.': avg_val_accuracy,\n",
    "#             'Training Time': training_time,\n",
    "#             'Validation Time': validation_time\n",
    "#         }\n",
    "#     )\n",
    "\n",
    "# print(\"\")\n",
    "# print(\"Training complete!\")\n",
    "\n",
    "# print(\"Total training took {:} (h:mm:ss)\".format(format_time(time.time()-total_t0)))"
   ]
  },
  {
   "cell_type": "markdown",
   "metadata": {},
   "source": [
    "### 8 классов"
   ]
  },
  {
   "cell_type": "code",
   "execution_count": 29,
   "metadata": {
    "execution": {
     "iopub.execute_input": "2025-05-07T04:50:25.968608Z",
     "iopub.status.busy": "2025-05-07T04:50:25.968313Z",
     "iopub.status.idle": "2025-05-07T05:17:39.603193Z",
     "shell.execute_reply": "2025-05-07T05:17:39.602535Z",
     "shell.execute_reply.started": "2025-05-07T04:50:25.968586Z"
    }
   },
   "outputs": [
    {
     "name": "stdout",
     "output_type": "stream",
     "text": [
      "\n",
      "======== Epoch 1 / 4 ========\n",
      "Training...\n",
      "  Batch    40  of    190.    Elapsed: 0:01:23.\n",
      "  Batch    80  of    190.    Elapsed: 0:02:47.\n",
      "  Batch   120  of    190.    Elapsed: 0:04:11.\n",
      "  Batch   160  of    190.    Elapsed: 0:05:35.\n",
      "\n",
      "  Average training loss: 1.77\n",
      "  Training epcoh took: 0:06:38\n",
      "\n",
      "Running Validation...\n",
      "  Accuracy: 0.30\n",
      "  Validation Loss: 1.76\n",
      "  Validation took: 0:00:11\n",
      "\n",
      "======== Epoch 2 / 4 ========\n",
      "Training...\n",
      "  Batch    40  of    190.    Elapsed: 0:01:22.\n",
      "  Batch    80  of    190.    Elapsed: 0:02:46.\n",
      "  Batch   120  of    190.    Elapsed: 0:04:10.\n",
      "  Batch   160  of    190.    Elapsed: 0:05:34.\n",
      "\n",
      "  Average training loss: 1.20\n",
      "  Training epcoh took: 0:06:37\n",
      "\n",
      "Running Validation...\n",
      "  Accuracy: 0.92\n",
      "  Validation Loss: 0.33\n",
      "  Validation took: 0:00:11\n",
      "\n",
      "======== Epoch 3 / 4 ========\n",
      "Training...\n",
      "  Batch    40  of    190.    Elapsed: 0:01:23.\n",
      "  Batch    80  of    190.    Elapsed: 0:02:47.\n",
      "  Batch   120  of    190.    Elapsed: 0:04:11.\n",
      "  Batch   160  of    190.    Elapsed: 0:05:35.\n",
      "\n",
      "  Average training loss: 0.24\n",
      "  Training epcoh took: 0:06:38\n",
      "\n",
      "Running Validation...\n",
      "  Accuracy: 0.94\n",
      "  Validation Loss: 0.19\n",
      "  Validation took: 0:00:11\n",
      "\n",
      "======== Epoch 4 / 4 ========\n",
      "Training...\n",
      "  Batch    40  of    190.    Elapsed: 0:01:23.\n",
      "  Batch    80  of    190.    Elapsed: 0:02:47.\n",
      "  Batch   120  of    190.    Elapsed: 0:04:11.\n",
      "  Batch   160  of    190.    Elapsed: 0:05:35.\n",
      "\n",
      "  Average training loss: 0.17\n",
      "  Training epcoh took: 0:06:38\n",
      "\n",
      "Running Validation...\n",
      "  Accuracy: 0.95\n",
      "  Validation Loss: 0.19\n",
      "  Validation took: 0:00:11\n",
      "\n",
      "Training complete!\n",
      "Total training took 0:27:14 (h:mm:ss)\n"
     ]
    }
   ],
   "source": [
    "import random\n",
    "import numpy as np\n",
    "\n",
    "# This training code is based on the `run_glue.py` script here:\n",
    "# https://github.com/huggingface/transformers/blob/5bfcd0485ece086ebcbed2d008813037968a9e58/examples/run_glue.py#L128\n",
    "\n",
    "# Set the seed value all over the place to make this reproducible.\n",
    "seed_val = 42\n",
    "\n",
    "random.seed(seed_val)\n",
    "np.random.seed(seed_val)\n",
    "torch.manual_seed(seed_val)\n",
    "torch.cuda.manual_seed_all(seed_val)\n",
    "\n",
    "# We'll store a number of quantities such as training and validation loss,\n",
    "# validation accuracy, and timings.\n",
    "training_stats = []\n",
    "\n",
    "# Measure the total training time for the whole run.\n",
    "total_t0 = time.time()\n",
    "\n",
    "# For each epoch...\n",
    "for epoch_i in range(0, epochs):\n",
    "\n",
    "    # ========================================\n",
    "    #               Training\n",
    "    # ========================================\n",
    "\n",
    "    # Perform one full pass over the training set.\n",
    "\n",
    "    print(\"\")\n",
    "    print('======== Epoch {:} / {:} ========'.format(epoch_i + 1, epochs))\n",
    "    print('Training...')\n",
    "\n",
    "    # Measure how long the training epoch takes.\n",
    "    t0 = time.time()\n",
    "\n",
    "    # Reset the total loss for this epoch.\n",
    "    total_train_loss = 0\n",
    "\n",
    "    # Put the model into training mode. Don't be mislead--the call to\n",
    "    # `train` just changes the *mode*, it doesn't *perform* the training.\n",
    "    # `dropout` and `batchnorm` layers behave differently during training\n",
    "    # vs. test (source: https://stackoverflow.com/questions/51433378/what-does-model-train-do-in-pytorch)\n",
    "    model.train()\n",
    "\n",
    "    # For each batch of training data...\n",
    "    for step, batch in enumerate(train_dataloader):\n",
    "\n",
    "        # Progress update every 40 batches.\n",
    "        if step % 40 == 0 and not step == 0:\n",
    "            # Calculate elapsed time in minutes.\n",
    "            elapsed = format_time(time.time() - t0)\n",
    "\n",
    "            # Report progress.\n",
    "            print('  Batch {:>5,}  of  {:>5,}.    Elapsed: {:}.'.format(step, len(train_dataloader), elapsed))\n",
    "\n",
    "        # Unpack this training batch from our dataloader.\n",
    "        #\n",
    "        # As we unpack the batch, we'll also copy each tensor to the GPU using the\n",
    "        # `to` method.\n",
    "        #\n",
    "        # `batch` contains three pytorch tensors:\n",
    "        #   [0]: input ids\n",
    "        #   [1]: attention masks\n",
    "        #   [2]: labels\n",
    "        b_input_ids = batch[0].to(device)\n",
    "        b_input_mask = batch[1].to(device)\n",
    "        b_labels = batch[2].to(device)\n",
    "\n",
    "        # Always clear any previously calculated gradients before performing a\n",
    "        # backward pass. PyTorch doesn't do this automatically because\n",
    "        # accumulating the gradients is \"convenient while training RNNs\".\n",
    "        # (source: https://stackoverflow.com/questions/48001598/why-do-we-need-to-call-zero-grad-in-pytorch)\n",
    "        model.zero_grad()\n",
    "\n",
    "        # Perform a forward pass (evaluate the model on this training batch).\n",
    "        # In PyTorch, calling `model` will in turn call the model's `forward`\n",
    "        # function and pass down the arguments. The `forward` function is\n",
    "        # documented here:\n",
    "        # https://huggingface.co/transformers/model_doc/bert.html#bertforsequenceclassification\n",
    "        # The results are returned in a results object, documented here:\n",
    "        # https://huggingface.co/transformers/main_classes/output.html#transformers.modeling_outputs.SequenceClassifierOutput\n",
    "        # Specifically, we'll get the loss (because we provided labels) and the\n",
    "        # \"logits\"--the model outputs prior to activation.\n",
    "        result = model(b_input_ids,\n",
    "                       token_type_ids=None,\n",
    "                       attention_mask=b_input_mask,\n",
    "                       labels=b_labels,\n",
    "                       return_dict=True)\n",
    "\n",
    "        loss = result.loss\n",
    "        logits = result.logits\n",
    "\n",
    "        # Accumulate the training loss over all of the batches so that we can\n",
    "        # calculate the average loss at the end. `loss` is a Tensor containing a\n",
    "        # single value; the `.item()` function just returns the Python value\n",
    "        # from the tensor.\n",
    "        total_train_loss += loss.item()\n",
    "\n",
    "        # Perform a backward pass to calculate the gradients.\n",
    "        loss.backward()\n",
    "\n",
    "        # Clip the norm of the gradients to 1.0.\n",
    "        # This is to help prevent the \"exploding gradients\" problem.\n",
    "        torch.nn.utils.clip_grad_norm_(model.parameters(), 1.0)\n",
    "\n",
    "        # Update parameters and take a step using the computed gradient.\n",
    "        # The optimizer dictates the \"update rule\"--how the parameters are\n",
    "        # modified based on their gradients, the learning rate, etc.\n",
    "        optimizer.step()\n",
    "\n",
    "        # Update the learning rate.\n",
    "        scheduler.step()\n",
    "\n",
    "    # Calculate the average loss over all of the batches.\n",
    "    avg_train_loss = total_train_loss / len(train_dataloader)\n",
    "\n",
    "    # Measure how long this epoch took.\n",
    "    training_time = format_time(time.time() - t0)\n",
    "\n",
    "    print(\"\")\n",
    "    print(\"  Average training loss: {0:.2f}\".format(avg_train_loss))\n",
    "    print(\"  Training epcoh took: {:}\".format(training_time))\n",
    "\n",
    "    # ========================================\n",
    "    #               Validation\n",
    "    # ========================================\n",
    "    # After the completion of each training epoch, measure our performance on\n",
    "    # our validation set.\n",
    "\n",
    "    print(\"\")\n",
    "    print(\"Running Validation...\")\n",
    "\n",
    "    t0 = time.time()\n",
    "\n",
    "    # Put the model in evaluation mode--the dropout layers behave differently\n",
    "    # during evaluation.\n",
    "    model.eval()\n",
    "\n",
    "    # Tracking variables\n",
    "    total_eval_accuracy = 0\n",
    "    total_eval_loss = 0\n",
    "    nb_eval_steps = 0\n",
    "\n",
    "    # Evaluate data for one epoch\n",
    "    for batch in validation_dataloader:\n",
    "\n",
    "        # Unpack this training batch from our dataloader.\n",
    "        #\n",
    "        # As we unpack the batch, we'll also copy each tensor to the GPU using\n",
    "        # the `to` method.\n",
    "        #\n",
    "        # `batch` contains three pytorch tensors:\n",
    "        #   [0]: input ids\n",
    "        #   [1]: attention masks\n",
    "        #   [2]: labels\n",
    "        b_input_ids = batch[0].to(device)\n",
    "        b_input_mask = batch[1].to(device)\n",
    "        b_labels = batch[2].to(device)\n",
    "\n",
    "        # Tell pytorch not to bother with constructing the compute graph during\n",
    "        # the forward pass, since this is only needed for backprop (training).\n",
    "        with torch.no_grad():\n",
    "\n",
    "            # Forward pass, calculate logit predictions.\n",
    "            # token_type_ids is the same as the \"segment ids\", which\n",
    "            # differentiates sentence 1 and 2 in 2-sentence tasks.\n",
    "            result = model(b_input_ids,\n",
    "                           token_type_ids=None,\n",
    "                           attention_mask=b_input_mask,\n",
    "                           labels=b_labels,\n",
    "                           return_dict=True)\n",
    "\n",
    "        # Get the loss and \"logits\" output by the model. The \"logits\" are the\n",
    "        # output values prior to applying an activation function like the\n",
    "        # softmax.\n",
    "        loss = result.loss\n",
    "        logits = result.logits\n",
    "\n",
    "        # Accumulate the validation loss.\n",
    "        total_eval_loss += loss.item()\n",
    "\n",
    "        # Move logits and labels to CPU\n",
    "        logits = logits.detach().cpu().numpy()\n",
    "        label_ids = b_labels.to('cpu').numpy()\n",
    "\n",
    "        # Calculate the accuracy for this batch of test sentences, and\n",
    "        # accumulate it over all batches.\n",
    "        total_eval_accuracy += flat_accuracy(logits, label_ids)\n",
    "\n",
    "\n",
    "    # Report the final accuracy for this validation run.\n",
    "    avg_val_accuracy = total_eval_accuracy / len(validation_dataloader)\n",
    "    print(\"  Accuracy: {0:.2f}\".format(avg_val_accuracy))\n",
    "\n",
    "    # Calculate the average loss over all of the batches.\n",
    "    avg_val_loss = total_eval_loss / len(validation_dataloader)\n",
    "\n",
    "    # Measure how long the validation run took.\n",
    "    validation_time = format_time(time.time() - t0)\n",
    "\n",
    "    print(\"  Validation Loss: {0:.2f}\".format(avg_val_loss))\n",
    "    print(\"  Validation took: {:}\".format(validation_time))\n",
    "\n",
    "    # Record all statistics from this epoch.\n",
    "    training_stats.append(\n",
    "        {\n",
    "            'epoch': epoch_i + 1,\n",
    "            'Training Loss': avg_train_loss,\n",
    "            'Valid. Loss': avg_val_loss,\n",
    "            'Valid. Accur.': avg_val_accuracy,\n",
    "            'Training Time': training_time,\n",
    "            'Validation Time': validation_time\n",
    "        }\n",
    "    )\n",
    "\n",
    "print(\"\")\n",
    "print(\"Training complete!\")\n",
    "\n",
    "print(\"Total training took {:} (h:mm:ss)\".format(format_time(time.time()-total_t0)))"
   ]
  },
  {
   "cell_type": "code",
   "execution_count": 30,
   "metadata": {
    "execution": {
     "iopub.execute_input": "2025-05-07T05:19:26.875344Z",
     "iopub.status.busy": "2025-05-07T05:19:26.874765Z",
     "iopub.status.idle": "2025-05-07T05:19:26.885577Z",
     "shell.execute_reply": "2025-05-07T05:19:26.884889Z",
     "shell.execute_reply.started": "2025-05-07T05:19:26.875323Z"
    }
   },
   "outputs": [
    {
     "data": {
      "text/html": [
       "<div>\n",
       "<style scoped>\n",
       "    .dataframe tbody tr th:only-of-type {\n",
       "        vertical-align: middle;\n",
       "    }\n",
       "\n",
       "    .dataframe tbody tr th {\n",
       "        vertical-align: top;\n",
       "    }\n",
       "\n",
       "    .dataframe thead th {\n",
       "        text-align: right;\n",
       "    }\n",
       "</style>\n",
       "<table border=\"1\" class=\"dataframe\">\n",
       "  <thead>\n",
       "    <tr style=\"text-align: right;\">\n",
       "      <th></th>\n",
       "      <th>Training Loss</th>\n",
       "      <th>Valid. Loss</th>\n",
       "      <th>Valid. Accur.</th>\n",
       "      <th>Training Time</th>\n",
       "      <th>Validation Time</th>\n",
       "    </tr>\n",
       "    <tr>\n",
       "      <th>epoch</th>\n",
       "      <th></th>\n",
       "      <th></th>\n",
       "      <th></th>\n",
       "      <th></th>\n",
       "      <th></th>\n",
       "    </tr>\n",
       "  </thead>\n",
       "  <tbody>\n",
       "    <tr>\n",
       "      <th>1</th>\n",
       "      <td>1.77</td>\n",
       "      <td>1.76</td>\n",
       "      <td>0.30</td>\n",
       "      <td>0:06:38</td>\n",
       "      <td>0:00:11</td>\n",
       "    </tr>\n",
       "    <tr>\n",
       "      <th>2</th>\n",
       "      <td>1.20</td>\n",
       "      <td>0.33</td>\n",
       "      <td>0.92</td>\n",
       "      <td>0:06:37</td>\n",
       "      <td>0:00:11</td>\n",
       "    </tr>\n",
       "    <tr>\n",
       "      <th>3</th>\n",
       "      <td>0.24</td>\n",
       "      <td>0.19</td>\n",
       "      <td>0.94</td>\n",
       "      <td>0:06:38</td>\n",
       "      <td>0:00:11</td>\n",
       "    </tr>\n",
       "    <tr>\n",
       "      <th>4</th>\n",
       "      <td>0.17</td>\n",
       "      <td>0.19</td>\n",
       "      <td>0.95</td>\n",
       "      <td>0:06:38</td>\n",
       "      <td>0:00:11</td>\n",
       "    </tr>\n",
       "  </tbody>\n",
       "</table>\n",
       "</div>"
      ],
      "text/plain": [
       "       Training Loss  Valid. Loss  Valid. Accur. Training Time Validation Time\n",
       "epoch                                                                         \n",
       "1               1.77         1.76           0.30       0:06:38         0:00:11\n",
       "2               1.20         0.33           0.92       0:06:37         0:00:11\n",
       "3               0.24         0.19           0.94       0:06:38         0:00:11\n",
       "4               0.17         0.19           0.95       0:06:38         0:00:11"
      ]
     },
     "execution_count": 30,
     "metadata": {},
     "output_type": "execute_result"
    }
   ],
   "source": [
    "# Устанавливаем формат отображения для чисел с плавающей запятой\n",
    "pd.set_option('display.float_format', '{:.2f}'.format)\n",
    "\n",
    "# Создаем DataFrame из наших статистик обучения\n",
    "df_stats = pd.DataFrame(data=training_stats)\n",
    "\n",
    "# Используем 'epoch' в качестве индекса строк\n",
    "df_stats = df_stats.set_index('epoch')\n",
    "\n",
    "# Отображаем таблицу\n",
    "df_stats\n"
   ]
  },
  {
   "cell_type": "markdown",
   "metadata": {},
   "source": [
    "### Лоссы на train и val для 5 классов"
   ]
  },
  {
   "cell_type": "code",
   "execution_count": 28,
   "metadata": {
    "execution": {
     "iopub.execute_input": "2025-05-07T04:12:51.721418Z",
     "iopub.status.busy": "2025-05-07T04:12:51.720666Z",
     "iopub.status.idle": "2025-05-07T04:12:52.030062Z",
     "shell.execute_reply": "2025-05-07T04:12:52.029368Z",
     "shell.execute_reply.started": "2025-05-07T04:12:51.721391Z"
    }
   },
   "outputs": [
    {
     "data": {
      "image/png": "[encoded data removed]",
      "text/plain": [
       "<Figure size 1200x600 with 1 Axes>"
      ]
     },
     "metadata": {},
     "output_type": "display_data"
    }
   ],
   "source": [
    "import matplotlib.pyplot as plt\n",
    "#% matplotlib inline\n",
    "\n",
    "import seaborn as sns\n",
    "\n",
    "# Use plot styling from seaborn.\n",
    "sns.set(style='darkgrid')\n",
    "\n",
    "# Increase the plot size and font size.\n",
    "sns.set(font_scale=1.5)\n",
    "plt.rcParams[\"figure.figsize\"] = (12,6)\n",
    "\n",
    "# Plot the learning curve.\n",
    "plt.plot(df_stats['Training Loss'], 'b-o', label=\"Training\")\n",
    "plt.plot(df_stats['Valid. Loss'], 'g-o', label=\"Validation\")\n",
    "\n",
    "# Label the plot.\n",
    "plt.title(\"Training & Validation Loss\")\n",
    "plt.xlabel(\"Epoch\")\n",
    "plt.ylabel(\"Loss\")\n",
    "plt.legend()\n",
    "plt.xticks([1, 2, 3, 4])\n",
    "\n",
    "plt.show()"
   ]
  },
  {
   "cell_type": "markdown",
   "metadata": {},
   "source": [
    "### Лоссы на train и val для 8 классов"
   ]
  },
  {
   "cell_type": "code",
   "execution_count": 31,
   "metadata": {
    "execution": {
     "iopub.execute_input": "2025-05-07T05:19:42.825626Z",
     "iopub.status.busy": "2025-05-07T05:19:42.825025Z",
     "iopub.status.idle": "2025-05-07T05:19:43.101612Z",
     "shell.execute_reply": "2025-05-07T05:19:43.100877Z",
     "shell.execute_reply.started": "2025-05-07T05:19:42.825596Z"
    }
   },
   "outputs": [
    {
     "data": {
      "image/png": "[encoded data removed]",
      "text/plain": [
       "<Figure size 1200x600 with 1 Axes>"
      ]
     },
     "metadata": {},
     "output_type": "display_data"
    }
   ],
   "source": [
    "# Use plot styling from seaborn.\n",
    "sns.set(style='darkgrid')\n",
    "\n",
    "# Increase the plot size and font size.\n",
    "sns.set(font_scale=1.5)\n",
    "plt.rcParams[\"figure.figsize\"] = (12,6)\n",
    "\n",
    "# Plot the learning curve.\n",
    "plt.plot(df_stats['Training Loss'], 'b-o', label=\"Training\")\n",
    "plt.plot(df_stats['Valid. Loss'], 'g-o', label=\"Validation\")\n",
    "\n",
    "# Label the plot.\n",
    "plt.title(\"Training & Validation Loss\")\n",
    "plt.xlabel(\"Epoch\")\n",
    "plt.ylabel(\"Loss\")\n",
    "plt.legend()\n",
    "plt.xticks([1, 2, 3, 4])\n",
    "\n",
    "plt.show()"
   ]
  },
  {
   "cell_type": "code",
   "execution_count": 32,
   "metadata": {
    "execution": {
     "iopub.execute_input": "2025-05-07T05:20:16.093941Z",
     "iopub.status.busy": "2025-05-07T05:20:16.093675Z",
     "iopub.status.idle": "2025-05-07T05:20:17.129027Z",
     "shell.execute_reply": "2025-05-07T05:20:17.128358Z",
     "shell.execute_reply.started": "2025-05-07T05:20:16.093923Z"
    }
   },
   "outputs": [
    {
     "name": "stdout",
     "output_type": "stream",
     "text": [
      "Модель BERT сохранена по пути: kaggle/working/bert_model_velocity_8c\n"
     ]
    }
   ],
   "source": [
    "# # Сохранение модели\n",
    "# model_save_path = 'kaggle/working/bert_model_velocity_8c'\n",
    "# model.save_pretrained(model_save_path)\n",
    "# tokenizer.save_pretrained(model_save_path)  # Сохраните токенизатор, если необходимо\n",
    "# print(f\"Модель BERT сохранена по пути: {model_save_path}\")\n"
   ]
  },
  {
   "cell_type": "markdown",
   "metadata": {
    "id": "mkyubuJSOzg3"
   },
   "source": [
    "### Посмотрим, как модель справляется с test"
   ]
  },
  {
   "cell_type": "code",
   "execution_count": 33,
   "metadata": {
    "colab": {
     "background_save": true
    },
    "execution": {
     "iopub.execute_input": "2025-05-07T05:21:39.034502Z",
     "iopub.status.busy": "2025-05-07T05:21:39.033937Z",
     "iopub.status.idle": "2025-05-07T05:21:49.895476Z",
     "shell.execute_reply": "2025-05-07T05:21:49.894893Z",
     "shell.execute_reply.started": "2025-05-07T05:21:39.034467Z"
    },
    "id": "mAN0LZBOOPVh",
    "outputId": "6322aba3-c93a-40e2-c215-588cc0248635"
   },
   "outputs": [
    {
     "name": "stdout",
     "output_type": "stream",
     "text": [
      "Number of test sentences: 1,684\n",
      "\n"
     ]
    },
    {
     "name": "stderr",
     "output_type": "stream",
     "text": [
      "/usr/local/lib/python3.11/dist-packages/transformers/tokenization_utils_base.py:2700: FutureWarning: The `pad_to_max_length` argument is deprecated and will be removed in a future version, use `padding=True` or `padding='longest'` to pad to the longest sequence in the batch, or use `padding='max_length'` to pad to a max length. In this case, you can give a specific length with `max_length` (e.g. `max_length=45`) or leave max_length to None to pad to the maximal input size of the model (e.g. 512 for Bert).\n",
      "  warnings.warn(\n"
     ]
    }
   ],
   "source": [
    "# Report the number of sentences.\n",
    "print('Number of test sentences: {:,}\\n'.format(df_test.shape[0]))\n",
    "\n",
    "# Create sentence and label lists\n",
    "sentences = df_test.text_clean.values\n",
    "labels = df_test.Класс.values\n",
    "\n",
    "# Tokenize all of the sentences and map the tokens to thier word IDs.\n",
    "input_ids = []\n",
    "attention_masks = []\n",
    "\n",
    "# For every sentence...\n",
    "for sent in sentences:\n",
    "    # `encode_plus` will:\n",
    "    #   (1) Tokenize the sentence.\n",
    "    #   (2) Prepend the `[CLS]` token to the start.\n",
    "    #   (3) Append the `[SEP]` token to the end.\n",
    "    #   (4) Map tokens to their IDs.\n",
    "    #   (5) Pad or truncate the sentence to `max_length`\n",
    "    #   (6) Create attention masks for [PAD] tokens.\n",
    "    encoded_dict = tokenizer.encode_plus(\n",
    "                        sent,                      # Sentence to encode.\n",
    "                        add_special_tokens = True, # Add '[CLS]' and '[SEP]'\n",
    "                        max_length = 512,           # Pad & truncate all sentences.\n",
    "                        pad_to_max_length = True,\n",
    "                        return_attention_mask = True,\n",
    "                        return_tensors = 'pt',     # Return pytorch tensors.\n",
    "                   )\n",
    "# max_len = 512\n",
    "\n",
    "# # For every sentence...\n",
    "# for sent in sentences:\n",
    "\n",
    "#     # Tokenize the text and add `[CLS]` and `[SEP]` tokens.\n",
    "#     input_ids = tokenizer.encode(sent, add_special_tokens=True,\n",
    "#                                  max_length=512, truncation=True)\n",
    "\n",
    "#     # Update the maximum sentence length.\n",
    "#     max_len = max(max_len, len(input_ids))\n",
    "\n",
    "# print('Max sentence length: ', max_len)\n",
    "\n",
    "    # Add the encoded sentence to the list.\n",
    "    input_ids.append(encoded_dict['input_ids'])\n",
    "\n",
    "    # And its attention mask (simply differentiates padding from non-padding).\n",
    "    attention_masks.append(encoded_dict['attention_mask'])\n",
    "\n",
    "# Convert the lists into tensors.\n",
    "input_ids = torch.cat(input_ids, dim=0)\n",
    "attention_masks = torch.cat(attention_masks, dim=0)\n",
    "labels = torch.tensor(labels)\n",
    "\n",
    "# Set the batch size.\n",
    "batch_size = 32\n",
    "\n",
    "# Create the DataLoader.\n",
    "prediction_data = TensorDataset(input_ids, attention_masks, labels)\n",
    "prediction_sampler = SequentialSampler(prediction_data)\n",
    "prediction_dataloader = DataLoader(prediction_data, sampler=prediction_sampler, batch_size=batch_size)"
   ]
  },
  {
   "cell_type": "code",
   "execution_count": 34,
   "metadata": {
    "execution": {
     "iopub.execute_input": "2025-05-07T05:21:49.896847Z",
     "iopub.status.busy": "2025-05-07T05:21:49.896603Z",
     "iopub.status.idle": "2025-05-07T05:22:15.200314Z",
     "shell.execute_reply": "2025-05-07T05:22:15.199524Z",
     "shell.execute_reply.started": "2025-05-07T05:21:49.896819Z"
    },
    "id": "Hba10sXR7Xi6"
   },
   "outputs": [
    {
     "name": "stdout",
     "output_type": "stream",
     "text": [
      "Predicting labels for 1,684 test sentences...\n",
      "    DONE.\n"
     ]
    }
   ],
   "source": [
    "# Prediction on test set\n",
    "\n",
    "print('Predicting labels for {:,} test sentences...'.format(len(input_ids)))\n",
    "\n",
    "# Put model in evaluation mode\n",
    "model.eval()\n",
    "\n",
    "# Tracking variables\n",
    "predictions , true_labels = [], []\n",
    "\n",
    "# Predict\n",
    "for batch in prediction_dataloader:\n",
    "  # Add batch to GPU\n",
    "  batch = tuple(t.to(device) for t in batch)\n",
    "\n",
    "  # Unpack the inputs from our dataloader\n",
    "  b_input_ids, b_input_mask, b_labels = batch\n",
    "\n",
    "  # Telling the model not to compute or store gradients, saving memory and\n",
    "  # speeding up prediction\n",
    "  with torch.no_grad():\n",
    "      # Forward pass, calculate logit predictions.\n",
    "      result = model(b_input_ids,\n",
    "                     token_type_ids=None,\n",
    "                     attention_mask=b_input_mask,\n",
    "                     return_dict=True)\n",
    "\n",
    "  logits = result.logits\n",
    "\n",
    "  # Move logits and labels to CPU\n",
    "  logits = logits.detach().cpu().numpy()\n",
    "  label_ids = b_labels.to('cpu').numpy()\n",
    "\n",
    "  # Store predictions and true labels\n",
    "  predictions.append(logits)\n",
    "  true_labels.append(label_ids)\n",
    "\n",
    "print('    DONE.')"
   ]
  },
  {
   "cell_type": "code",
   "execution_count": 35,
   "metadata": {
    "execution": {
     "iopub.execute_input": "2025-05-07T05:22:15.201974Z",
     "iopub.status.busy": "2025-05-07T05:22:15.201741Z",
     "iopub.status.idle": "2025-05-07T05:22:15.258738Z",
     "shell.execute_reply": "2025-05-07T05:22:15.258180Z",
     "shell.execute_reply.started": "2025-05-07T05:22:15.201956Z"
    },
    "id": "cRaZQ4XC7kLs"
   },
   "outputs": [
    {
     "name": "stdout",
     "output_type": "stream",
     "text": [
      "Calculating Matthews Corr. Coef. for each batch...\n"
     ]
    }
   ],
   "source": [
    "from sklearn.metrics import matthews_corrcoef\n",
    "\n",
    "matthews_set = []\n",
    "\n",
    "# Evaluate each test batch using Matthew's correlation coefficient\n",
    "print('Calculating Matthews Corr. Coef. for each batch...')\n",
    "\n",
    "# For each input batch...\n",
    "for i in range(len(true_labels)):\n",
    "\n",
    "  # The predictions for this batch are a 2-column ndarray (one column for \"0\"\n",
    "  # and one column for \"1\"). Pick the label with the highest value and turn this\n",
    "  # in to a list of 0s and 1s.\n",
    "  pred_labels_i = np.argmax(predictions[i], axis=1).flatten()\n",
    "\n",
    "  # Calculate and store the coef for this batch.\n",
    "  matthews = matthews_corrcoef(true_labels[i], pred_labels_i)\n",
    "  matthews_set.append(matthews)"
   ]
  },
  {
   "cell_type": "code",
   "execution_count": 36,
   "metadata": {
    "execution": {
     "iopub.execute_input": "2025-05-07T05:22:15.259709Z",
     "iopub.status.busy": "2025-05-07T05:22:15.259443Z",
     "iopub.status.idle": "2025-05-07T05:22:15.267388Z",
     "shell.execute_reply": "2025-05-07T05:22:15.266527Z",
     "shell.execute_reply.started": "2025-05-07T05:22:15.259686Z"
    },
    "id": "oCYZa1lQ8Jn8"
   },
   "outputs": [
    {
     "name": "stdout",
     "output_type": "stream",
     "text": [
      "Total MCC: 0.941\n"
     ]
    }
   ],
   "source": [
    "# Combine the results across all batches.\n",
    "flat_predictions = np.concatenate(predictions, axis=0)\n",
    "\n",
    "# For each sample, pick the label (0 or 1) with the higher score.\n",
    "flat_predictions = np.argmax(flat_predictions, axis=1).flatten()\n",
    "\n",
    "# Combine the correct labels for each batch into a single list.\n",
    "flat_true_labels = np.concatenate(true_labels, axis=0)\n",
    "\n",
    "# Calculate the MCC\n",
    "mcc = matthews_corrcoef(flat_true_labels, flat_predictions)\n",
    "\n",
    "print('Total MCC: %.3f' % mcc)"
   ]
  },
  {
   "cell_type": "code",
   "execution_count": 37,
   "metadata": {
    "execution": {
     "iopub.execute_input": "2025-05-07T05:22:29.663744Z",
     "iopub.status.busy": "2025-05-07T05:22:29.663461Z",
     "iopub.status.idle": "2025-05-07T05:22:29.670287Z",
     "shell.execute_reply": "2025-05-07T05:22:29.669742Z",
     "shell.execute_reply.started": "2025-05-07T05:22:29.663725Z"
    },
    "id": "3VneGDFV3D7D"
   },
   "outputs": [
    {
     "name": "stdout",
     "output_type": "stream",
     "text": [
      "[[ 28   0   0   1   0   0   0   0]\n",
      " [  0  29   2   0   1   2   0   0]\n",
      " [  2   1 181   1   0   8   0   1]\n",
      " [  0   1   2 499   0  22   0   0]\n",
      " [  0   0   0   2 337   4   0   0]\n",
      " [  0   0   0   5   2 394   1   0]\n",
      " [  0   0   0   1   1   4  91   0]\n",
      " [  1   0   0   4   1   5   3  47]]\n"
     ]
    }
   ],
   "source": [
    "\n",
    "from sklearn import metrics\n",
    "confusion_matrix= metrics.confusion_matrix(flat_true_labels, flat_predictions)\n",
    "print(confusion_matrix)\n",
    "\n",
    "\n",
    "# TN   FP\n",
    "# FN   TP"
   ]
  },
  {
   "cell_type": "markdown",
   "metadata": {},
   "source": [
    "### Метрики для классификации на 5 классов"
   ]
  },
  {
   "cell_type": "code",
   "execution_count": 36,
   "metadata": {
    "execution": {
     "iopub.execute_input": "2025-05-07T04:15:33.738220Z",
     "iopub.status.busy": "2025-05-07T04:15:33.737440Z",
     "iopub.status.idle": "2025-05-07T04:15:33.753833Z",
     "shell.execute_reply": "2025-05-07T04:15:33.753189Z",
     "shell.execute_reply.started": "2025-05-07T04:15:33.738192Z"
    }
   },
   "outputs": [
    {
     "name": "stdout",
     "output_type": "stream",
     "text": [
      "Accuracy Score: 0.956\n",
      "Precision Score (macro): 0.953\n",
      "Recall Score (macro): 0.951\n",
      "F1 Score (macro): 0.951\n",
      "Precision Score (micro): 0.956\n",
      "Recall Score (micro): 0.956\n",
      "F1 Score (micro): 0.956\n"
     ]
    }
   ],
   "source": [
    "from sklearn.metrics import precision_score, recall_score, f1_score, accuracy_score\n",
    "\n",
    "# Вычисляем и выводим метрики\n",
    "print('Accuracy Score: %.3f' % accuracy_score(flat_true_labels, flat_predictions))\n",
    "print('Precision Score (macro): %.3f' % precision_score(flat_true_labels, flat_predictions, average='macro'))\n",
    "print('Recall Score (macro): %.3f' % recall_score(flat_true_labels, flat_predictions, average='macro'))\n",
    "print('F1 Score (macro): %.3f' % f1_score(flat_true_labels, flat_predictions, average='macro'))\n",
    "\n",
    "# Если вам нужна микро-метрика, вы можете использовать:\n",
    "print('Precision Score (micro): %.3f' % precision_score(flat_true_labels, flat_predictions, average='micro'))\n",
    "print('Recall Score (micro): %.3f' % recall_score(flat_true_labels, flat_predictions, average='micro'))\n",
    "print('F1 Score (micro): %.3f' % f1_score(flat_true_labels, flat_predictions, average='micro'))\n"
   ]
  },
  {
   "cell_type": "markdown",
   "metadata": {},
   "source": [
    "### Метрики для классификации на 8 классов"
   ]
  },
  {
   "cell_type": "code",
   "execution_count": 38,
   "metadata": {
    "execution": {
     "iopub.execute_input": "2025-05-07T05:23:37.575893Z",
     "iopub.status.busy": "2025-05-07T05:23:37.575225Z",
     "iopub.status.idle": "2025-05-07T05:23:37.591180Z",
     "shell.execute_reply": "2025-05-07T05:23:37.590528Z",
     "shell.execute_reply.started": "2025-05-07T05:23:37.575868Z"
    }
   },
   "outputs": [
    {
     "name": "stdout",
     "output_type": "stream",
     "text": [
      "Accuracy Score: 0.954\n",
      "Precision Score (macro): 0.951\n",
      "Recall Score (macro): 0.922\n",
      "F1 Score (macro): 0.934\n",
      "Precision Score (micro): 0.954\n",
      "Recall Score (micro): 0.954\n",
      "F1 Score (micro): 0.954\n"
     ]
    }
   ],
   "source": [
    "from sklearn.metrics import precision_score, recall_score, f1_score, accuracy_score\n",
    "\n",
    "# Вычисляем и выводим метрики\n",
    "print('Accuracy Score: %.3f' % accuracy_score(flat_true_labels, flat_predictions))\n",
    "print('Precision Score (macro): %.3f' % precision_score(flat_true_labels, flat_predictions, average='macro'))\n",
    "print('Recall Score (macro): %.3f' % recall_score(flat_true_labels, flat_predictions, average='macro'))\n",
    "print('F1 Score (macro): %.3f' % f1_score(flat_true_labels, flat_predictions, average='macro'))\n",
    "\n",
    "# Если вам нужна микро-метрика, вы можете использовать:\n",
    "print('Precision Score (micro): %.3f' % precision_score(flat_true_labels, flat_predictions, average='micro'))\n",
    "print('Recall Score (micro): %.3f' % recall_score(flat_true_labels, flat_predictions, average='micro'))\n",
    "print('F1 Score (micro): %.3f' % f1_score(flat_true_labels, flat_predictions, average='micro'))\n"
   ]
  },
  {
   "cell_type": "code",
   "execution_count": 43,
   "metadata": {
    "execution": {
     "iopub.execute_input": "2025-05-07T05:29:56.141780Z",
     "iopub.status.busy": "2025-05-07T05:29:56.141491Z",
     "iopub.status.idle": "2025-05-07T05:29:56.167147Z",
     "shell.execute_reply": "2025-05-07T05:29:56.166361Z",
     "shell.execute_reply.started": "2025-05-07T05:29:56.141761Z"
    }
   },
   "outputs": [
    {
     "data": {
      "text/html": [
       "<div>\n",
       "<style scoped>\n",
       "    .dataframe tbody tr th:only-of-type {\n",
       "        vertical-align: middle;\n",
       "    }\n",
       "\n",
       "    .dataframe tbody tr th {\n",
       "        vertical-align: top;\n",
       "    }\n",
       "\n",
       "    .dataframe thead th {\n",
       "        text-align: right;\n",
       "    }\n",
       "</style>\n",
       "<table border=\"1\" class=\"dataframe\">\n",
       "  <thead>\n",
       "    <tr style=\"text-align: right;\">\n",
       "      <th></th>\n",
       "      <th>Unnamed: 0</th>\n",
       "      <th>_ID</th>\n",
       "      <th>Event_ID</th>\n",
       "      <th>News_link</th>\n",
       "      <th>Text</th>\n",
       "      <th>News_length</th>\n",
       "      <th>Количество</th>\n",
       "      <th>News_source</th>\n",
       "      <th>News_type</th>\n",
       "      <th>Location_ATD4</th>\n",
       "      <th>...</th>\n",
       "      <th>fix_Date_start</th>\n",
       "      <th>fix_Date_end</th>\n",
       "      <th>Date_period</th>\n",
       "      <th>Date_post</th>\n",
       "      <th>Максимальное число</th>\n",
       "      <th>Класс</th>\n",
       "      <th>Location_clean</th>\n",
       "      <th>loc_num</th>\n",
       "      <th>result</th>\n",
       "      <th>conf</th>\n",
       "    </tr>\n",
       "  </thead>\n",
       "  <tbody>\n",
       "    <tr>\n",
       "      <th>1</th>\n",
       "      <td>1</td>\n",
       "      <td>e447d513-4b2e-45c8-87ad-d61f71a30b86</td>\n",
       "      <td>NaN</td>\n",
       "      <td>https://vk.com/wall-201160589_12524</td>\n",
       "      <td>Пострадавшие от ЧС приморцы могут подать заявл...</td>\n",
       "      <td>2469</td>\n",
       "      <td>1</td>\n",
       "      <td>ВКонтакте</td>\n",
       "      <td>прогноз/предупреждение</td>\n",
       "      <td>Приморский край</td>\n",
       "      <td>...</td>\n",
       "      <td>2023-12-15</td>\n",
       "      <td>2024-06-30</td>\n",
       "      <td>198.00</td>\n",
       "      <td>NaN</td>\n",
       "      <td>NaN</td>\n",
       "      <td>0</td>\n",
       "      <td>приморский</td>\n",
       "      <td>[2]</td>\n",
       "      <td>ОПЯ</td>\n",
       "      <td>99.09</td>\n",
       "    </tr>\n",
       "    <tr>\n",
       "      <th>4</th>\n",
       "      <td>4</td>\n",
       "      <td>847eee10-90e7-4c6d-8ed5-ea1f14740fa5</td>\n",
       "      <td>NaN</td>\n",
       "      <td>https://vk.com/wall-31196850_2881</td>\n",
       "      <td>#Югра #БерезовскийРайон В лесах Югры завершилс...</td>\n",
       "      <td>2843</td>\n",
       "      <td>1</td>\n",
       "      <td>ВКонтакте</td>\n",
       "      <td>событие</td>\n",
       "      <td>Ямало-Ненецкий автономный округ</td>\n",
       "      <td>...</td>\n",
       "      <td>2018-04-23</td>\n",
       "      <td>2018-10-15</td>\n",
       "      <td>175.00</td>\n",
       "      <td>NaN</td>\n",
       "      <td>NaN</td>\n",
       "      <td>0</td>\n",
       "      <td>ямалоненецкий</td>\n",
       "      <td>[20]</td>\n",
       "      <td>ОПЯ</td>\n",
       "      <td>99.99</td>\n",
       "    </tr>\n",
       "    <tr>\n",
       "      <th>6</th>\n",
       "      <td>6</td>\n",
       "      <td>92a95981-2134-494a-8947-bd1726668347</td>\n",
       "      <td>осадк_2021-01_92a95981</td>\n",
       "      <td>https://vk.com/wall-152984073_27533</td>\n",
       "      <td>Администрация района не только поможет заменит...</td>\n",
       "      <td>1216</td>\n",
       "      <td>1</td>\n",
       "      <td>ВКонтакте</td>\n",
       "      <td>событие</td>\n",
       "      <td>Мурманская область</td>\n",
       "      <td>...</td>\n",
       "      <td>2021-09-01</td>\n",
       "      <td>2021-12-31</td>\n",
       "      <td>121.00</td>\n",
       "      <td>2021-12-20 13:17</td>\n",
       "      <td>NaN</td>\n",
       "      <td>0</td>\n",
       "      <td>мурманская</td>\n",
       "      <td>[32]</td>\n",
       "      <td>ОПЯ</td>\n",
       "      <td>99.97</td>\n",
       "    </tr>\n",
       "    <tr>\n",
       "      <th>8</th>\n",
       "      <td>8</td>\n",
       "      <td>0ffbd044-2628-4ceb-8904-739242c2c09c</td>\n",
       "      <td>ветер_2020-06_c5cdf5d8</td>\n",
       "      <td>https://vk.com/wall-111648778_11430</td>\n",
       "      <td>14 июля в поселке Болонь ураганом были поврежд...</td>\n",
       "      <td>312</td>\n",
       "      <td>1</td>\n",
       "      <td>ВКонтакте</td>\n",
       "      <td>событие</td>\n",
       "      <td>Рязанская область</td>\n",
       "      <td>...</td>\n",
       "      <td>2020-07-01</td>\n",
       "      <td>2020-10-15</td>\n",
       "      <td>106.00</td>\n",
       "      <td>2020-11-09 16:44</td>\n",
       "      <td>NaN</td>\n",
       "      <td>0</td>\n",
       "      <td>рязанская</td>\n",
       "      <td>[62]</td>\n",
       "      <td>ОПЯ</td>\n",
       "      <td>99.99</td>\n",
       "    </tr>\n",
       "    <tr>\n",
       "      <th>9</th>\n",
       "      <td>9</td>\n",
       "      <td>0c590f9d-7fc6-4442-9180-b3ea403087ed</td>\n",
       "      <td>NaN</td>\n",
       "      <td>https://vk.com/wall-184003583_39837</td>\n",
       "      <td>В Евпатории высадят более 2700 деревьев на мес...</td>\n",
       "      <td>1490</td>\n",
       "      <td>1</td>\n",
       "      <td>ВКонтакте</td>\n",
       "      <td>событие</td>\n",
       "      <td>Республика Крым</td>\n",
       "      <td>...</td>\n",
       "      <td>2023-09-01</td>\n",
       "      <td>2023-11-30</td>\n",
       "      <td>90.00</td>\n",
       "      <td>NaN</td>\n",
       "      <td>NaN</td>\n",
       "      <td>0</td>\n",
       "      <td>крым</td>\n",
       "      <td>[5]</td>\n",
       "      <td>ОПЯ</td>\n",
       "      <td>99.97</td>\n",
       "    </tr>\n",
       "    <tr>\n",
       "      <th>...</th>\n",
       "      <td>...</td>\n",
       "      <td>...</td>\n",
       "      <td>...</td>\n",
       "      <td>...</td>\n",
       "      <td>...</td>\n",
       "      <td>...</td>\n",
       "      <td>...</td>\n",
       "      <td>...</td>\n",
       "      <td>...</td>\n",
       "      <td>...</td>\n",
       "      <td>...</td>\n",
       "      <td>...</td>\n",
       "      <td>...</td>\n",
       "      <td>...</td>\n",
       "      <td>...</td>\n",
       "      <td>...</td>\n",
       "      <td>...</td>\n",
       "      <td>...</td>\n",
       "      <td>...</td>\n",
       "      <td>...</td>\n",
       "      <td>...</td>\n",
       "    </tr>\n",
       "    <tr>\n",
       "      <th>12725</th>\n",
       "      <td>12725</td>\n",
       "      <td>48ecf4ec-021a-4e48-b297-a886dffd3e6d</td>\n",
       "      <td>кнпя_2023-12_f2101aee</td>\n",
       "      <td>https://vk.com/wall-118907081_65704</td>\n",
       "      <td>В Салехарде усиленными темпами убирают последс...</td>\n",
       "      <td>766</td>\n",
       "      <td>1</td>\n",
       "      <td>ВКонтакте</td>\n",
       "      <td>событие</td>\n",
       "      <td>Ямало-Ненецкий автономный округ</td>\n",
       "      <td>...</td>\n",
       "      <td>2023-12-31</td>\n",
       "      <td>NaT</td>\n",
       "      <td>NaN</td>\n",
       "      <td>2023-12-31 12:12</td>\n",
       "      <td>NaN</td>\n",
       "      <td>0</td>\n",
       "      <td>ямалоненецкий</td>\n",
       "      <td>[20]</td>\n",
       "      <td>ОПЯ</td>\n",
       "      <td>99.99</td>\n",
       "    </tr>\n",
       "    <tr>\n",
       "      <th>12728</th>\n",
       "      <td>12728</td>\n",
       "      <td>2039d84b-b135-4fd2-b194-e66b8343b39f</td>\n",
       "      <td>кнпя_2018-03_5b833a84</td>\n",
       "      <td>https://vk.com/wall-55811535_75423</td>\n",
       "      <td>Дорожники работают над устранением последствий...</td>\n",
       "      <td>3407</td>\n",
       "      <td>1</td>\n",
       "      <td>ВКонтакте</td>\n",
       "      <td>событие</td>\n",
       "      <td>Ямало-Ненецкий автономный округ</td>\n",
       "      <td>...</td>\n",
       "      <td>2018-03-06</td>\n",
       "      <td>NaT</td>\n",
       "      <td>NaN</td>\n",
       "      <td>2018-03-07 9:07</td>\n",
       "      <td>NaN</td>\n",
       "      <td>0</td>\n",
       "      <td>ямалоненецкий</td>\n",
       "      <td>[20]</td>\n",
       "      <td>ОПЯ</td>\n",
       "      <td>99.98</td>\n",
       "    </tr>\n",
       "    <tr>\n",
       "      <th>12729</th>\n",
       "      <td>12729</td>\n",
       "      <td>ebdb92bd-8d00-4096-8028-61bd64f9c58b</td>\n",
       "      <td>кнпя_2018-03_ebdb92bd</td>\n",
       "      <td>https://vk.com/wall-55811535_75298</td>\n",
       "      <td>Дорожники расчистили зимники после метели, аэр...</td>\n",
       "      <td>3970</td>\n",
       "      <td>1</td>\n",
       "      <td>ВКонтакте</td>\n",
       "      <td>событие</td>\n",
       "      <td>Ямало-Ненецкий автономный округ</td>\n",
       "      <td>...</td>\n",
       "      <td>2018-03-01</td>\n",
       "      <td>NaT</td>\n",
       "      <td>NaN</td>\n",
       "      <td>2018-03-02 8:36</td>\n",
       "      <td>NaN</td>\n",
       "      <td>0</td>\n",
       "      <td>ямалоненецкий</td>\n",
       "      <td>[20]</td>\n",
       "      <td>ОПЯ</td>\n",
       "      <td>99.94</td>\n",
       "    </tr>\n",
       "    <tr>\n",
       "      <th>12730</th>\n",
       "      <td>12730</td>\n",
       "      <td>1a6aec01-d187-4fd4-976c-39e303cb1c2a</td>\n",
       "      <td>ветер_2019-07_a8f962ef</td>\n",
       "      <td>https://vk.com/wall-170589660_913</td>\n",
       "      <td>В Ханымее восстанавливают жилье после июльског...</td>\n",
       "      <td>1380</td>\n",
       "      <td>1</td>\n",
       "      <td>ВКонтакте</td>\n",
       "      <td>событие</td>\n",
       "      <td>Ямало-Ненецкий автономный округ</td>\n",
       "      <td>...</td>\n",
       "      <td>2019-07-04</td>\n",
       "      <td>NaT</td>\n",
       "      <td>NaN</td>\n",
       "      <td>2019-08-01 10:03</td>\n",
       "      <td>NaN</td>\n",
       "      <td>0</td>\n",
       "      <td>ямалоненецкий</td>\n",
       "      <td>[20]</td>\n",
       "      <td>ОПЯ</td>\n",
       "      <td>99.88</td>\n",
       "    </tr>\n",
       "    <tr>\n",
       "      <th>12733</th>\n",
       "      <td>12733</td>\n",
       "      <td>f1d8e490-65cc-48ef-a556-ecbc4092788c</td>\n",
       "      <td>ветер_2020-04_f1d8e490</td>\n",
       "      <td>https://vk.com/wall-170438171_1461</td>\n",
       "      <td>Шквальный ветер с порывами до 25 метров, а так...</td>\n",
       "      <td>477</td>\n",
       "      <td>1</td>\n",
       "      <td>ВКонтакте</td>\n",
       "      <td>событие</td>\n",
       "      <td>Ямало-Ненецкий автономный округ</td>\n",
       "      <td>...</td>\n",
       "      <td>2020-04-08</td>\n",
       "      <td>NaT</td>\n",
       "      <td>NaN</td>\n",
       "      <td>2020-04-08 12:25</td>\n",
       "      <td>NaN</td>\n",
       "      <td>0</td>\n",
       "      <td>ямалоненецкий</td>\n",
       "      <td>[20]</td>\n",
       "      <td>ОПЯ</td>\n",
       "      <td>99.85</td>\n",
       "    </tr>\n",
       "  </tbody>\n",
       "</table>\n",
       "<p>4272 rows × 37 columns</p>\n",
       "</div>"
      ],
      "text/plain": [
       "       Unnamed: 0                                   _ID  \\\n",
       "1               1  e447d513-4b2e-45c8-87ad-d61f71a30b86   \n",
       "4               4  847eee10-90e7-4c6d-8ed5-ea1f14740fa5   \n",
       "6               6  92a95981-2134-494a-8947-bd1726668347   \n",
       "8               8  0ffbd044-2628-4ceb-8904-739242c2c09c   \n",
       "9               9  0c590f9d-7fc6-4442-9180-b3ea403087ed   \n",
       "...           ...                                   ...   \n",
       "12725       12725  48ecf4ec-021a-4e48-b297-a886dffd3e6d   \n",
       "12728       12728  2039d84b-b135-4fd2-b194-e66b8343b39f   \n",
       "12729       12729  ebdb92bd-8d00-4096-8028-61bd64f9c58b   \n",
       "12730       12730  1a6aec01-d187-4fd4-976c-39e303cb1c2a   \n",
       "12733       12733  f1d8e490-65cc-48ef-a556-ecbc4092788c   \n",
       "\n",
       "                     Event_ID                            News_link  \\\n",
       "1                         NaN  https://vk.com/wall-201160589_12524   \n",
       "4                         NaN    https://vk.com/wall-31196850_2881   \n",
       "6      осадк_2021-01_92a95981  https://vk.com/wall-152984073_27533   \n",
       "8      ветер_2020-06_c5cdf5d8  https://vk.com/wall-111648778_11430   \n",
       "9                         NaN  https://vk.com/wall-184003583_39837   \n",
       "...                       ...                                  ...   \n",
       "12725   кнпя_2023-12_f2101aee  https://vk.com/wall-118907081_65704   \n",
       "12728   кнпя_2018-03_5b833a84   https://vk.com/wall-55811535_75423   \n",
       "12729   кнпя_2018-03_ebdb92bd   https://vk.com/wall-55811535_75298   \n",
       "12730  ветер_2019-07_a8f962ef    https://vk.com/wall-170589660_913   \n",
       "12733  ветер_2020-04_f1d8e490   https://vk.com/wall-170438171_1461   \n",
       "\n",
       "                                                    Text  News_length  \\\n",
       "1      Пострадавшие от ЧС приморцы могут подать заявл...         2469   \n",
       "4      #Югра #БерезовскийРайон В лесах Югры завершилс...         2843   \n",
       "6      Администрация района не только поможет заменит...         1216   \n",
       "8      14 июля в поселке Болонь ураганом были поврежд...          312   \n",
       "9      В Евпатории высадят более 2700 деревьев на мес...         1490   \n",
       "...                                                  ...          ...   \n",
       "12725  В Салехарде усиленными темпами убирают последс...          766   \n",
       "12728  Дорожники работают над устранением последствий...         3407   \n",
       "12729  Дорожники расчистили зимники после метели, аэр...         3970   \n",
       "12730  В Ханымее восстанавливают жилье после июльског...         1380   \n",
       "12733  Шквальный ветер с порывами до 25 метров, а так...          477   \n",
       "\n",
       "       Количество News_source               News_type  \\\n",
       "1               1   ВКонтакте  прогноз/предупреждение   \n",
       "4               1   ВКонтакте                 событие   \n",
       "6               1   ВКонтакте                 событие   \n",
       "8               1   ВКонтакте                 событие   \n",
       "9               1   ВКонтакте                 событие   \n",
       "...           ...         ...                     ...   \n",
       "12725           1   ВКонтакте                 событие   \n",
       "12728           1   ВКонтакте                 событие   \n",
       "12729           1   ВКонтакте                 событие   \n",
       "12730           1   ВКонтакте                 событие   \n",
       "12733           1   ВКонтакте                 событие   \n",
       "\n",
       "                         Location_ATD4  ... fix_Date_start fix_Date_end  \\\n",
       "1                      Приморский край  ...     2023-12-15   2024-06-30   \n",
       "4      Ямало-Ненецкий автономный округ  ...     2018-04-23   2018-10-15   \n",
       "6                   Мурманская область  ...     2021-09-01   2021-12-31   \n",
       "8                    Рязанская область  ...     2020-07-01   2020-10-15   \n",
       "9                      Республика Крым  ...     2023-09-01   2023-11-30   \n",
       "...                                ...  ...            ...          ...   \n",
       "12725  Ямало-Ненецкий автономный округ  ...     2023-12-31          NaT   \n",
       "12728  Ямало-Ненецкий автономный округ  ...     2018-03-06          NaT   \n",
       "12729  Ямало-Ненецкий автономный округ  ...     2018-03-01          NaT   \n",
       "12730  Ямало-Ненецкий автономный округ  ...     2019-07-04          NaT   \n",
       "12733  Ямало-Ненецкий автономный округ  ...     2020-04-08          NaT   \n",
       "\n",
       "       Date_period         Date_post  Максимальное число Класс Location_clean  \\\n",
       "1           198.00               NaN                 NaN     0     приморский   \n",
       "4           175.00               NaN                 NaN     0  ямалоненецкий   \n",
       "6           121.00  2021-12-20 13:17                 NaN     0     мурманская   \n",
       "8           106.00  2020-11-09 16:44                 NaN     0      рязанская   \n",
       "9            90.00               NaN                 NaN     0           крым   \n",
       "...            ...               ...                 ...   ...            ...   \n",
       "12725          NaN  2023-12-31 12:12                 NaN     0  ямалоненецкий   \n",
       "12728          NaN   2018-03-07 9:07                 NaN     0  ямалоненецкий   \n",
       "12729          NaN   2018-03-02 8:36                 NaN     0  ямалоненецкий   \n",
       "12730          NaN  2019-08-01 10:03                 NaN     0  ямалоненецкий   \n",
       "12733          NaN  2020-04-08 12:25                 NaN     0  ямалоненецкий   \n",
       "\n",
       "       loc_num  result  conf  \n",
       "1          [2]     ОПЯ 99.09  \n",
       "4         [20]     ОПЯ 99.99  \n",
       "6         [32]     ОПЯ 99.97  \n",
       "8         [62]     ОПЯ 99.99  \n",
       "9          [5]     ОПЯ 99.97  \n",
       "...        ...     ...   ...  \n",
       "12725     [20]     ОПЯ 99.99  \n",
       "12728     [20]     ОПЯ 99.98  \n",
       "12729     [20]     ОПЯ 99.94  \n",
       "12730     [20]     ОПЯ 99.88  \n",
       "12733     [20]     ОПЯ 99.85  \n",
       "\n",
       "[4272 rows x 37 columns]"
      ]
     },
     "execution_count": 43,
     "metadata": {},
     "output_type": "execute_result"
    }
   ],
   "source": [
    "wind[wind['Класс']==0]"
   ]
  },
  {
   "cell_type": "code",
   "execution_count": 45,
   "metadata": {
    "execution": {
     "iopub.execute_input": "2025-05-07T05:31:41.362167Z",
     "iopub.status.busy": "2025-05-07T05:31:41.361880Z",
     "iopub.status.idle": "2025-05-07T05:32:10.136585Z",
     "shell.execute_reply": "2025-05-07T05:32:10.135975Z",
     "shell.execute_reply.started": "2025-05-07T05:31:41.362145Z"
    }
   },
   "outputs": [
    {
     "name": "stdout",
     "output_type": "stream",
     "text": [
      "Number of test sentences: 4,272\n",
      "\n"
     ]
    },
    {
     "name": "stderr",
     "output_type": "stream",
     "text": [
      "/usr/local/lib/python3.11/dist-packages/transformers/tokenization_utils_base.py:2700: FutureWarning: The `pad_to_max_length` argument is deprecated and will be removed in a future version, use `padding=True` or `padding='longest'` to pad to the longest sequence in the batch, or use `padding='max_length'` to pad to a max length. In this case, you can give a specific length with `max_length` (e.g. `max_length=45`) or leave max_length to None to pad to the maximal input size of the model (e.g. 512 for Bert).\n",
      "  warnings.warn(\n"
     ]
    }
   ],
   "source": [
    "df_test_test = wind[wind['Класс']==0]\n",
    "\n",
    "# Report the number of sentences.\n",
    "print('Number of test sentences: {:,}\\n'.format(df_test_test.shape[0]))\n",
    "\n",
    "# Create sentence and label lists\n",
    "sentences = df_test_test.Text.values\n",
    "labels = df_test_test.Класс.values\n",
    "\n",
    "# Tokenize all of the sentences and map the tokens to thier word IDs.\n",
    "input_ids = []\n",
    "attention_masks = []\n",
    "\n",
    "# For every sentence...\n",
    "for sent in sentences:\n",
    "    # `encode_plus` will:\n",
    "    #   (1) Tokenize the sentence.\n",
    "    #   (2) Prepend the `[CLS]` token to the start.\n",
    "    #   (3) Append the `[SEP]` token to the end.\n",
    "    #   (4) Map tokens to their IDs.\n",
    "    #   (5) Pad or truncate the sentence to `max_length`\n",
    "    #   (6) Create attention masks for [PAD] tokens.\n",
    "    encoded_dict = tokenizer.encode_plus(\n",
    "                        sent,                      # Sentence to encode.\n",
    "                        add_special_tokens = True, # Add '[CLS]' and '[SEP]'\n",
    "                        max_length = 512,           # Pad & truncate all sentences.\n",
    "                        pad_to_max_length = True,\n",
    "                        return_attention_mask = True,\n",
    "                        return_tensors = 'pt',     # Return pytorch tensors.\n",
    "                   )\n",
    "# max_len = 512\n",
    "\n",
    "# # For every sentence...\n",
    "# for sent in sentences:\n",
    "\n",
    "#     # Tokenize the text and add `[CLS]` and `[SEP]` tokens.\n",
    "#     input_ids = tokenizer.encode(sent, add_special_tokens=True,\n",
    "#                                  max_length=512, truncation=True)\n",
    "\n",
    "#     # Update the maximum sentence length.\n",
    "#     max_len = max(max_len, len(input_ids))\n",
    "\n",
    "# print('Max sentence length: ', max_len)\n",
    "\n",
    "    # Add the encoded sentence to the list.\n",
    "    input_ids.append(encoded_dict['input_ids'])\n",
    "\n",
    "    # And its attention mask (simply differentiates padding from non-padding).\n",
    "    attention_masks.append(encoded_dict['attention_mask'])\n",
    "\n",
    "# Convert the lists into tensors.\n",
    "input_ids = torch.cat(input_ids, dim=0)\n",
    "attention_masks = torch.cat(attention_masks, dim=0)\n",
    "labels = torch.tensor(labels)\n",
    "\n",
    "# Set the batch size.\n",
    "batch_size = 32\n",
    "\n",
    "# Create the DataLoader.\n",
    "prediction_data = TensorDataset(input_ids, attention_masks, labels)\n",
    "prediction_sampler = SequentialSampler(prediction_data)\n",
    "prediction_dataloader = DataLoader(prediction_data, sampler=prediction_sampler, batch_size=batch_size)"
   ]
  },
  {
   "cell_type": "code",
   "execution_count": 46,
   "metadata": {
    "execution": {
     "iopub.execute_input": "2025-05-07T05:32:10.137881Z",
     "iopub.status.busy": "2025-05-07T05:32:10.137622Z",
     "iopub.status.idle": "2025-05-07T05:33:14.365775Z",
     "shell.execute_reply": "2025-05-07T05:33:14.365052Z",
     "shell.execute_reply.started": "2025-05-07T05:32:10.137863Z"
    }
   },
   "outputs": [
    {
     "name": "stdout",
     "output_type": "stream",
     "text": [
      "Predicting labels for 4,272 test sentences...\n",
      "    DONE.\n"
     ]
    }
   ],
   "source": [
    "# Prediction on test set\n",
    "\n",
    "print('Predicting labels for {:,} test sentences...'.format(len(input_ids)))\n",
    "\n",
    "# Put model in evaluation mode\n",
    "model.eval()\n",
    "\n",
    "# Tracking variables\n",
    "predictions , true_labels = [], []\n",
    "\n",
    "# Predict\n",
    "for batch in prediction_dataloader:\n",
    "  # Add batch to GPU\n",
    "  batch = tuple(t.to(device) for t in batch)\n",
    "\n",
    "  # Unpack the inputs from our dataloader\n",
    "  b_input_ids, b_input_mask, b_labels = batch\n",
    "\n",
    "  # Telling the model not to compute or store gradients, saving memory and\n",
    "  # speeding up prediction\n",
    "  with torch.no_grad():\n",
    "      # Forward pass, calculate logit predictions.\n",
    "      result = model(b_input_ids,\n",
    "                     token_type_ids=None,\n",
    "                     attention_mask=b_input_mask,\n",
    "                     return_dict=True)\n",
    "\n",
    "  logits = result.logits\n",
    "\n",
    "  # Move logits and labels to CPU\n",
    "  logits = logits.detach().cpu().numpy()\n",
    "  label_ids = b_labels.to('cpu').numpy()\n",
    "\n",
    "  # Store predictions and true labels\n",
    "  predictions.append(logits)\n",
    "  true_labels.append(label_ids)\n",
    "\n",
    "print('    DONE.')"
   ]
  },
  {
   "cell_type": "code",
   "execution_count": 47,
   "metadata": {
    "execution": {
     "iopub.execute_input": "2025-05-07T05:33:14.367574Z",
     "iopub.status.busy": "2025-05-07T05:33:14.367321Z",
     "iopub.status.idle": "2025-05-07T05:33:14.373347Z",
     "shell.execute_reply": "2025-05-07T05:33:14.372616Z",
     "shell.execute_reply.started": "2025-05-07T05:33:14.367545Z"
    }
   },
   "outputs": [
    {
     "data": {
      "text/plain": [
       "4272"
      ]
     },
     "execution_count": 47,
     "metadata": {},
     "output_type": "execute_result"
    }
   ],
   "source": [
    "# Combine the results across all batches.\n",
    "flat_predictions = np.concatenate(predictions, axis=0)\n",
    "\n",
    "# For each sample, pick the label (0 or 1) with the higher score.\n",
    "flat_predictions = np.argmax(flat_predictions, axis=1).flatten()\n",
    "len(flat_predictions)"
   ]
  },
  {
   "cell_type": "code",
   "execution_count": 48,
   "metadata": {
    "execution": {
     "iopub.execute_input": "2025-05-07T05:33:14.374549Z",
     "iopub.status.busy": "2025-05-07T05:33:14.374255Z",
     "iopub.status.idle": "2025-05-07T05:33:14.391726Z",
     "shell.execute_reply": "2025-05-07T05:33:14.391123Z",
     "shell.execute_reply.started": "2025-05-07T05:33:14.374523Z"
    }
   },
   "outputs": [
    {
     "name": "stderr",
     "output_type": "stream",
     "text": [
      "/tmp/ipykernel_31/1295197112.py:2: SettingWithCopyWarning: \n",
      "A value is trying to be set on a copy of a slice from a DataFrame.\n",
      "Try using .loc[row_indexer,col_indexer] = value instead\n",
      "\n",
      "See the caveats in the documentation: https://pandas.pydata.org/pandas-docs/stable/user_guide/indexing.html#returning-a-view-versus-a-copy\n",
      "  t['Класс'] = flat_predictions\n"
     ]
    },
    {
     "data": {
      "text/plain": [
       "1    5\n",
       "4    5\n",
       "6    5\n",
       "8    2\n",
       "9    5\n",
       "Name: Класс, dtype: int64"
      ]
     },
     "execution_count": 48,
     "metadata": {},
     "output_type": "execute_result"
    }
   ],
   "source": [
    "t = df_test_test\n",
    "t['Класс'] = flat_predictions\n",
    "t['Класс'].head()"
   ]
  },
  {
   "cell_type": "code",
   "execution_count": 49,
   "metadata": {
    "execution": {
     "iopub.execute_input": "2025-05-07T05:33:14.393477Z",
     "iopub.status.busy": "2025-05-07T05:33:14.393114Z",
     "iopub.status.idle": "2025-05-07T05:33:14.407361Z",
     "shell.execute_reply": "2025-05-07T05:33:14.406584Z",
     "shell.execute_reply.started": "2025-05-07T05:33:14.393461Z"
    }
   },
   "outputs": [
    {
     "data": {
      "text/plain": [
       "array([5, 5, 5, 2, 5])"
      ]
     },
     "execution_count": 49,
     "metadata": {},
     "output_type": "execute_result"
    }
   ],
   "source": [
    "flat_predictions[:5]"
   ]
  },
  {
   "cell_type": "code",
   "execution_count": 50,
   "metadata": {
    "execution": {
     "iopub.execute_input": "2025-05-07T05:33:14.408369Z",
     "iopub.status.busy": "2025-05-07T05:33:14.408115Z",
     "iopub.status.idle": "2025-05-07T05:33:19.878197Z",
     "shell.execute_reply": "2025-05-07T05:33:19.877406Z",
     "shell.execute_reply.started": "2025-05-07T05:33:14.408345Z"
    }
   },
   "outputs": [],
   "source": [
    "# t.to_excel('/kaggle/working/predicts_intensity_BERT_velocity_8cl.xlsx')"
   ]
  },
  {
   "cell_type": "markdown",
   "metadata": {},
   "source": [
    "### Сделаем predict на данных без размеченного класса по Бофорту"
   ]
  },
  {
   "cell_type": "code",
   "execution_count": 35,
   "metadata": {
    "execution": {
     "iopub.execute_input": "2025-05-07T01:29:14.810544Z",
     "iopub.status.busy": "2025-05-07T01:29:14.809793Z",
     "iopub.status.idle": "2025-05-07T01:30:09.516241Z",
     "shell.execute_reply": "2025-05-07T01:30:09.515630Z",
     "shell.execute_reply.started": "2025-05-07T01:29:14.810520Z"
    }
   },
   "outputs": [
    {
     "name": "stdout",
     "output_type": "stream",
     "text": [
      "Number of test sentences: 8,418\n",
      "\n"
     ]
    },
    {
     "name": "stderr",
     "output_type": "stream",
     "text": [
      "/usr/local/lib/python3.11/dist-packages/transformers/tokenization_utils_base.py:2700: FutureWarning: The `pad_to_max_length` argument is deprecated and will be removed in a future version, use `padding=True` or `padding='longest'` to pad to the longest sequence in the batch, or use `padding='max_length'` to pad to a max length. In this case, you can give a specific length with `max_length` (e.g. `max_length=45`) or leave max_length to None to pad to the maximal input size of the model (e.g. 512 for Bert).\n",
      "  warnings.warn(\n"
     ]
    }
   ],
   "source": [
    "df_test_test = wind_work[wind_work['Класс']<=4]\n",
    "\n",
    "# Отчет о количестве предложений\n",
    "print('Number of test sentences: {:,}\\n'.format(df_test_test.shape[0]))\n",
    "\n",
    "# Создание списка предложений\n",
    "sentences = df_test_test.text_clean.values\n",
    "\n",
    "# Токенизация всех предложений и сопоставление токенов с их ID\n",
    "input_ids = []\n",
    "attention_masks = []\n",
    "\n",
    "# Для каждого предложения...\n",
    "for sent in sentences:\n",
    "    # `encode_plus` будет:\n",
    "    encoded_dict = tokenizer.encode_plus(\n",
    "                        sent,                      # Предложение для кодирования\n",
    "                        add_special_tokens=True,   # Добавить '[CLS]' и '[SEP]'\n",
    "                        max_length=512,            # Дополнить и обрезать все предложения\n",
    "                        pad_to_max_length=True,\n",
    "                        return_attention_mask=True, # Вернуть маску внимания\n",
    "                        return_tensors='pt',       # Вернуть тензоры PyTorch\n",
    "                   )\n",
    "\n",
    "    # Добавление закодированного предложения в список\n",
    "    input_ids.append(encoded_dict['input_ids'])\n",
    "\n",
    "    # И его маска внимания\n",
    "    attention_masks.append(encoded_dict['attention_mask'])\n",
    "\n",
    "# Преобразование списков в тензоры\n",
    "input_ids = torch.cat(input_ids, dim=0)\n",
    "attention_masks = torch.cat(attention_masks, dim=0)\n",
    "\n",
    "# Установка размера пакета\n",
    "batch_size = 32\n",
    "\n",
    "# Создание DataLoader без меток\n",
    "prediction_data = TensorDataset(input_ids, attention_masks)\n",
    "prediction_sampler = SequentialSampler(prediction_data)\n",
    "prediction_dataloader = DataLoader(prediction_data, sampler=prediction_sampler, batch_size=batch_size)\n",
    "\n",
    "# Теперь вы можете использовать prediction_dataloader для предсказания с помощью вашей модели\n"
   ]
  },
  {
   "cell_type": "code",
   "execution_count": 36,
   "metadata": {
    "execution": {
     "iopub.execute_input": "2025-05-07T01:31:01.828951Z",
     "iopub.status.busy": "2025-05-07T01:31:01.828319Z",
     "iopub.status.idle": "2025-05-07T01:31:01.839036Z",
     "shell.execute_reply": "2025-05-07T01:31:01.838387Z",
     "shell.execute_reply.started": "2025-05-07T01:31:01.828926Z"
    }
   },
   "outputs": [
    {
     "data": {
      "text/html": [
       "<div>\n",
       "<style scoped>\n",
       "    .dataframe tbody tr th:only-of-type {\n",
       "        vertical-align: middle;\n",
       "    }\n",
       "\n",
       "    .dataframe tbody tr th {\n",
       "        vertical-align: top;\n",
       "    }\n",
       "\n",
       "    .dataframe thead th {\n",
       "        text-align: right;\n",
       "    }\n",
       "</style>\n",
       "<table border=\"1\" class=\"dataframe\">\n",
       "  <thead>\n",
       "    <tr style=\"text-align: right;\">\n",
       "      <th></th>\n",
       "      <th>Text</th>\n",
       "      <th>News_type</th>\n",
       "      <th>Location_ATD4</th>\n",
       "      <th>Phenomena</th>\n",
       "      <th>Класс</th>\n",
       "      <th>text_clean</th>\n",
       "    </tr>\n",
       "  </thead>\n",
       "  <tbody>\n",
       "    <tr>\n",
       "      <th>0</th>\n",
       "      <td>🔹В Ангарском округе устраняют последствия непо...</td>\n",
       "      <td>событие</td>\n",
       "      <td>Иркутская область</td>\n",
       "      <td>сильные ветры</td>\n",
       "      <td>2</td>\n",
       "      <td>🔹в ангарском округе устраняют последствия непо...</td>\n",
       "    </tr>\n",
       "    <tr>\n",
       "      <th>2</th>\n",
       "      <td>❗ВНИМАНИЕ ❗  На Центральную Россию надвигается...</td>\n",
       "      <td>прогноз/предупреждение</td>\n",
       "      <td>Орловская область</td>\n",
       "      <td>сильные ветры</td>\n",
       "      <td>3</td>\n",
       "      <td>❗внимание ❗ на центральную россию надвигается ...</td>\n",
       "    </tr>\n",
       "    <tr>\n",
       "      <th>3</th>\n",
       "      <td>Рязанцев предупреждают об ухудшении погодных у...</td>\n",
       "      <td>прогноз/предупреждение</td>\n",
       "      <td>Рязанская область</td>\n",
       "      <td>гололед; мороз; КНПЯ</td>\n",
       "      <td>1</td>\n",
       "      <td>рязанцев предупреждают об ухудшении погодных у...</td>\n",
       "    </tr>\n",
       "    <tr>\n",
       "      <th>5</th>\n",
       "      <td>⚠️ Внимание! Экстренное предупреждение!   ☔  П...</td>\n",
       "      <td>прогноз/предупреждение</td>\n",
       "      <td>Орловская область</td>\n",
       "      <td>сильные ветры</td>\n",
       "      <td>3</td>\n",
       "      <td>⚠️ внимание! экстренное предупреждение! ☔ по д...</td>\n",
       "    </tr>\n",
       "    <tr>\n",
       "      <th>7</th>\n",
       "      <td>☔В Рязани в ближайшее время ожидаются гроза и ...</td>\n",
       "      <td>прогноз/предупреждение</td>\n",
       "      <td>Рязанская область</td>\n",
       "      <td>сильные ветры</td>\n",
       "      <td>0</td>\n",
       "      <td>☔в рязани в ближайшее время ожидаются гроза и ...</td>\n",
       "    </tr>\n",
       "    <tr>\n",
       "      <th>...</th>\n",
       "      <td>...</td>\n",
       "      <td>...</td>\n",
       "      <td>...</td>\n",
       "      <td>...</td>\n",
       "      <td>...</td>\n",
       "      <td>...</td>\n",
       "    </tr>\n",
       "    <tr>\n",
       "      <th>12722</th>\n",
       "      <td>Непогода внесла коррективы в жизнь города. Вне...</td>\n",
       "      <td>событие</td>\n",
       "      <td>Ямало-Ненецкий автономный округ</td>\n",
       "      <td>сильные ветры</td>\n",
       "      <td>3</td>\n",
       "      <td>непогода внесла коррективы в жизнь города. вне...</td>\n",
       "    </tr>\n",
       "    <tr>\n",
       "      <th>12726</th>\n",
       "      <td>8 февраля в Салехарде из-за шквалистого ветра ...</td>\n",
       "      <td>событие</td>\n",
       "      <td>Ямало-Ненецкий автономный округ</td>\n",
       "      <td>сильные ветры</td>\n",
       "      <td>2</td>\n",
       "      <td>февраля в салехарде из-за шквалистого ветра до...</td>\n",
       "    </tr>\n",
       "    <tr>\n",
       "      <th>12727</th>\n",
       "      <td>Дорожные службы оперативно устраняют последств...</td>\n",
       "      <td>событие</td>\n",
       "      <td>Ямало-Ненецкий автономный округ</td>\n",
       "      <td>сильные осадки</td>\n",
       "      <td>2</td>\n",
       "      <td>дорожные службы оперативно устраняют последств...</td>\n",
       "    </tr>\n",
       "    <tr>\n",
       "      <th>12731</th>\n",
       "      <td>⛈По территории Пуровского района прошел грозов...</td>\n",
       "      <td>событие</td>\n",
       "      <td>Ямало-Ненецкий автономный округ</td>\n",
       "      <td>сильные ветры</td>\n",
       "      <td>0</td>\n",
       "      <td>⛈по территории пуровского района прошел грозов...</td>\n",
       "    </tr>\n",
       "    <tr>\n",
       "      <th>12732</th>\n",
       "      <td>⚠️ Дорожные службы районного центра устраняют ...</td>\n",
       "      <td>событие</td>\n",
       "      <td>Ямало-Ненецкий автономный округ</td>\n",
       "      <td>КНПЯ</td>\n",
       "      <td>2</td>\n",
       "      <td>⚠️ дорожные службы районного центра устраняют ...</td>\n",
       "    </tr>\n",
       "  </tbody>\n",
       "</table>\n",
       "<p>8418 rows × 6 columns</p>\n",
       "</div>"
      ],
      "text/plain": [
       "                                                    Text  \\\n",
       "0      🔹В Ангарском округе устраняют последствия непо...   \n",
       "2      ❗ВНИМАНИЕ ❗  На Центральную Россию надвигается...   \n",
       "3      Рязанцев предупреждают об ухудшении погодных у...   \n",
       "5      ⚠️ Внимание! Экстренное предупреждение!   ☔  П...   \n",
       "7      ☔В Рязани в ближайшее время ожидаются гроза и ...   \n",
       "...                                                  ...   \n",
       "12722  Непогода внесла коррективы в жизнь города. Вне...   \n",
       "12726  8 февраля в Салехарде из-за шквалистого ветра ...   \n",
       "12727  Дорожные службы оперативно устраняют последств...   \n",
       "12731  ⛈По территории Пуровского района прошел грозов...   \n",
       "12732  ⚠️ Дорожные службы районного центра устраняют ...   \n",
       "\n",
       "                    News_type                    Location_ATD4  \\\n",
       "0                     событие                Иркутская область   \n",
       "2      прогноз/предупреждение                Орловская область   \n",
       "3      прогноз/предупреждение                Рязанская область   \n",
       "5      прогноз/предупреждение                Орловская область   \n",
       "7      прогноз/предупреждение                Рязанская область   \n",
       "...                       ...                              ...   \n",
       "12722                 событие  Ямало-Ненецкий автономный округ   \n",
       "12726                 событие  Ямало-Ненецкий автономный округ   \n",
       "12727                 событие  Ямало-Ненецкий автономный округ   \n",
       "12731                 событие  Ямало-Ненецкий автономный округ   \n",
       "12732                 событие  Ямало-Ненецкий автономный округ   \n",
       "\n",
       "                  Phenomena  Класс  \\\n",
       "0             сильные ветры      2   \n",
       "2             сильные ветры      3   \n",
       "3      гололед; мороз; КНПЯ      1   \n",
       "5             сильные ветры      3   \n",
       "7             сильные ветры      0   \n",
       "...                     ...    ...   \n",
       "12722         сильные ветры      3   \n",
       "12726         сильные ветры      2   \n",
       "12727        сильные осадки      2   \n",
       "12731         сильные ветры      0   \n",
       "12732                  КНПЯ      2   \n",
       "\n",
       "                                              text_clean  \n",
       "0      🔹в ангарском округе устраняют последствия непо...  \n",
       "2      ❗внимание ❗ на центральную россию надвигается ...  \n",
       "3      рязанцев предупреждают об ухудшении погодных у...  \n",
       "5      ⚠️ внимание! экстренное предупреждение! ☔ по д...  \n",
       "7      ☔в рязани в ближайшее время ожидаются гроза и ...  \n",
       "...                                                  ...  \n",
       "12722  непогода внесла коррективы в жизнь города. вне...  \n",
       "12726  февраля в салехарде из-за шквалистого ветра до...  \n",
       "12727  дорожные службы оперативно устраняют последств...  \n",
       "12731  ⛈по территории пуровского района прошел грозов...  \n",
       "12732  ⚠️ дорожные службы районного центра устраняют ...  \n",
       "\n",
       "[8418 rows x 6 columns]"
      ]
     },
     "execution_count": 36,
     "metadata": {},
     "output_type": "execute_result"
    }
   ],
   "source": [
    "df_test_test"
   ]
  }
 ],
 "metadata": {
  "accelerator": "GPU",
  "colab": {
   "provenance": []
  },
  "kaggle": {
   "accelerator": "gpu",
   "dataSources": [
    {
     "datasetId": 7348176,
     "sourceId": 11706957,
     "sourceType": "datasetVersion"
    }
   ],
   "dockerImageVersionId": 31011,
   "isGpuEnabled": true,
   "isInternetEnabled": true,
   "language": "python",
   "sourceType": "notebook"
  },
  "kernelspec": {
   "display_name": "Python 3 (ipykernel)",
   "language": "python",
   "name": "python3"
  },
  "language_info": {
   "codemirror_mode": {
    "name": "ipython",
    "version": 3
   },
   "file_extension": ".py",
   "mimetype": "text/x-python",
   "name": "python",
   "nbconvert_exporter": "python",
   "pygments_lexer": "ipython3",
   "version": "3.12.9"
  }
 },
 "nbformat": 4,
 "nbformat_minor": 4
}
