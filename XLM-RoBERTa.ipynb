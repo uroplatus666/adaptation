{
 "cells": [
  {
   "cell_type": "markdown",
   "id": "cce25895-806f-496d-80ef-12179e81a729",
   "metadata": {},
   "source": [
    "## Tranfer learning модели [Disaster-Twitter-XLM-RoBERTa-AL](https://huggingface.co/hannybal/disaster-twitter-xlm-roberta-al) в качестве фильтра новостей об опасных природных явлениях (ОПЯ) от других публикуемых.\n",
    "##### На примере `РИА-Новости` и пабликов `Вконтакте`"
   ]
  },
  {
   "cell_type": "code",
   "execution_count": 2,
   "id": "fb53dbb1-9e06-4dec-8169-72e1d86915b2",
   "metadata": {},
   "outputs": [],
   "source": [
    "import pandas as pd\n",
    "import numpy as np\n",
    "import time\n",
    "import re\n",
    "from collections import Counter\n",
    "from transformers import pipeline"
   ]
  },
  {
   "cell_type": "markdown",
   "id": "5220d205-ba15-44fe-bc41-c68d78036f14",
   "metadata": {},
   "source": [
    "### Загружаем новости с ОПЯ"
   ]
  },
  {
   "cell_type": "code",
   "execution_count": 26,
   "id": "29a4ea6e-5a58-482f-b602-27cc1a7d40f6",
   "metadata": {},
   "outputs": [],
   "source": [
    "data = pd.read_excel('files//data_edited.xlsx')"
   ]
  },
  {
   "cell_type": "code",
   "execution_count": 36,
   "id": "4e9c6d1f-b947-494e-b2de-87c6d56a3db9",
   "metadata": {},
   "outputs": [
    {
     "name": "stdout",
     "output_type": "stream",
     "text": [
      "<class 'pandas.core.frame.DataFrame'>\n",
      "RangeIndex: 30053 entries, 0 to 30052\n",
      "Data columns (total 30 columns):\n",
      " #   Column                  Non-Null Count  Dtype         \n",
      "---  ------                  --------------  -----         \n",
      " 0   _ID                     30053 non-null  object        \n",
      " 1   Event_ID                23866 non-null  object        \n",
      " 2   News_link               30053 non-null  object        \n",
      " 3   Text                    30053 non-null  object        \n",
      " 4   News_length             30053 non-null  int64         \n",
      " 5   Repeat_num              30053 non-null  int64         \n",
      " 6   News_source             30053 non-null  object        \n",
      " 7   News_type               30053 non-null  object        \n",
      " 8   Location_ATD4           29914 non-null  object        \n",
      " 9   Location_other          26845 non-null  object        \n",
      " 10  Location_geocoded       30053 non-null  object        \n",
      " 11  Location_geocoded_bool  30053 non-null  bool          \n",
      " 12  Phenomena               30053 non-null  object        \n",
      " 13  Phenomena_count         30053 non-null  int64         \n",
      " 14  Event_verbose           22021 non-null  object        \n",
      " 15  Damage_description      13773 non-null  object        \n",
      " 16  Damage_money_num        30053 non-null  int64         \n",
      " 17  People_dead_num         30053 non-null  int64         \n",
      " 18  People_injured          1415 non-null   object        \n",
      " 19  People_injured_num      30053 non-null  int64         \n",
      " 20  Activities              29130 non-null  object        \n",
      " 21  Verification_source     1933 non-null   object        \n",
      " 22  Verification_details    1084 non-null   object        \n",
      " 23  Date_year               30053 non-null  int64         \n",
      " 24  Date_start              27123 non-null  datetime64[ns]\n",
      " 25  Date_end                13923 non-null  datetime64[ns]\n",
      " 26  fix_Date_start          27123 non-null  datetime64[ns]\n",
      " 27  fix_Date_end            13923 non-null  datetime64[ns]\n",
      " 28  Date_period             13712 non-null  float64       \n",
      " 29  Date_post               23551 non-null  object        \n",
      "dtypes: bool(1), datetime64[ns](4), float64(1), int64(7), object(17)\n",
      "memory usage: 6.7+ MB\n"
     ]
    }
   ],
   "source": [
    "data.info()"
   ]
  },
  {
   "cell_type": "markdown",
   "id": "4566079c-134f-4bbb-8a10-9f3a738ac840",
   "metadata": {},
   "source": [
    "### Загрузка [модели](https://huggingface.co/hannybal/disaster-twitter-xlm-roberta-al), пример ее применяния и выводы."
   ]
  },
  {
   "cell_type": "code",
   "execution_count": 41,
   "id": "5965712f-6acb-4dc7-b0da-bd7b1393d89f",
   "metadata": {},
   "outputs": [
    {
     "data": {
      "text/plain": [
       "'‼ ШТОРМОВОЕ ПРЕДУПРЕЖДЕНИЕ ‼  По прогнозу Тульского центра по гидрометеорологии и мониторингу окружающей среды в ближайшие 1-3 часа с сохранением вечером 17 мая 2018 по территории Тульской области ожидаются грозы с усилением юго-восточного ветра до 12-17 м/с.    Главное управление МЧС России по Тульской области напоминает о соблюдении мер предосторожности и правил поведения усилении ветра:    📢 Рекомендации для населения при сильном ветре:    1. Машину поставьте в гараж, при отсутствии гаража машину следует парковать вдали от деревьев, а также слабо укрепленных конструкций.  2. Находясь на улице, обходите рекламные щиты, шаткие строения и дома с неустойчивой кровлей.  3. Избегайте деревьев и разнообразных сооружений повышенного риска (мостов, эстакад, трубопроводов, линий электропередач, потенциально опасных промышленных объектов).    Главное управление МЧС России по Тульской области предупреждает, что поджоги сухой травы на дачах и приусадебных участках могут привести к пожарам, как в лесах, так и в населенных пунктах, а благодаря ветреной погоде огонь может быстро распространяться на большой территории. Его тушение потребует привлечения большого количества сил и средств.    Будьте осторожны и внимательны в связи со сложными погодными условиями. В случае возникновения чрезвычайных ситуаций и происшествий незамедлительно сообщайте в Единую службу спасения по телефону «01» или с мобильного – «112».    #Ясногорск #Ясногорскийрайон #ТульскаяОбласть'"
      ]
     },
     "execution_count": 41,
     "metadata": {},
     "output_type": "execute_result"
    }
   ],
   "source": [
    "ex = data['Text'].sample(random_state=666).values[0]\n",
    "ex"
   ]
  },
  {
   "cell_type": "code",
   "execution_count": 42,
   "id": "b43c0b90-e841-4d35-8698-5c4e9a18e2ba",
   "metadata": {},
   "outputs": [
    {
     "name": "stderr",
     "output_type": "stream",
     "text": [
      "Device set to use cpu\n"
     ]
    },
    {
     "data": {
      "text/plain": [
       "[{'label': 'LABEL_1', 'score': 0.999849796295166}]"
      ]
     },
     "execution_count": 42,
     "metadata": {},
     "output_type": "execute_result"
    }
   ],
   "source": [
    "MODEL_NAME = 'hannybal/disaster-twitter-xlm-roberta-al'\n",
    "classifier = pipeline('text-classification', model=MODEL_NAME, tokenizer='cardiffnlp/twitter-xlm-roberta-base')\n",
    "classifier(ex)"
   ]
  },
  {
   "cell_type": "markdown",
   "id": "a4d54b4c-3d05-43d6-87ec-42f9254b9224",
   "metadata": {},
   "source": [
    "### Тестироание модели на БД ОПЯ, считается, что все новости затрагивают тематику ОПЯ"
   ]
  },
  {
   "cell_type": "code",
   "execution_count": null,
   "id": "33cdbcbc-39fb-46ab-92f2-37cd1ce3de63",
   "metadata": {},
   "outputs": [],
   "source": [
    "start_time = time.time()\n",
    "\n",
    "def to_def_disaster(text):\n",
    "    # Ограничиваем длину текста\n",
    "    max_length = 512\n",
    "    if len(text) > max_length:\n",
    "        text = text[:max_length]\n",
    "    dictt = classifier(text)[0]\n",
    "    if dictt['label'] == 'LABEL_1':\n",
    "        return 'ОПЯ', round(dictt['score'] * 100, 3)\n",
    "    else:\n",
    "        return 'не ОПЯ', round(dictt['score'] * 100, 3)\n",
    "\n",
    "\n",
    "results = data['Text'].apply(to_def_disaster)"
   ]
  },
  {
   "cell_type": "code",
   "execution_count": 15,
   "id": "548ee142-1cbd-4c62-9058-bd4baac9944c",
   "metadata": {},
   "outputs": [
    {
     "name": "stdout",
     "output_type": "stream",
     "text": [
      "\n",
      "Время выполнения: 194.00 минут\n"
     ]
    }
   ],
   "source": [
    "data[['result', 'conf']] = pd.DataFrame(results.tolist(), index=data.index)\n",
    "\n",
    "end_time = time.time()\n",
    "execution_time = end_time - start_time\n",
    "print(f\"\\nВремя выполнения: {execution_time//60:.2f} минут\")"
   ]
  },
  {
   "cell_type": "code",
   "execution_count": 30,
   "id": "f501c7b2-4187-441c-bef8-c6b007d5dc24",
   "metadata": {},
   "outputs": [],
   "source": [
    "# data.to_excel('files//data_edited.xlsx', index = False)"
   ]
  },
  {
   "cell_type": "code",
   "execution_count": 18,
   "id": "d678c851-d50e-4fac-ac15-66a7d0b2f617",
   "metadata": {},
   "outputs": [
    {
     "data": {
      "text/plain": [
       "result\n",
       "ОПЯ       26570\n",
       "не ОПЯ     3486\n",
       "Name: count, dtype: int64"
      ]
     },
     "execution_count": 18,
     "metadata": {},
     "output_type": "execute_result"
    }
   ],
   "source": [
    "data['result'].value_counts()"
   ]
  },
  {
   "cell_type": "code",
   "execution_count": 21,
   "id": "f68f2453-9746-44be-ad85-70c80da44b51",
   "metadata": {},
   "outputs": [
    {
     "data": {
      "text/plain": [
       "count    26570.000000\n",
       "mean        99.635523\n",
       "std          2.799763\n",
       "min         50.097000\n",
       "25%         99.971000\n",
       "50%         99.987000\n",
       "75%         99.991000\n",
       "max         99.992000\n",
       "Name: conf, dtype: float64"
      ]
     },
     "execution_count": 21,
     "metadata": {},
     "output_type": "execute_result"
    }
   ],
   "source": [
    "data[data['result']=='ОПЯ']['conf'].describe()"
   ]
  },
  {
   "cell_type": "code",
   "execution_count": 28,
   "id": "7619a6ef-eb01-446e-be28-484dbb16bf51",
   "metadata": {},
   "outputs": [
    {
     "name": "stdout",
     "output_type": "stream",
     "text": [
      "⚠️ ВНИМАНИЕ ⚠️ ШТОРМОВОЕ ПРЕДУПРЕЖДЕНИЕ об опасных природных явлениях 10 декабря в республике ожидается понижение температуры воздуха ночью местами до -40,-45, туман, гололедица. Служба ГО и ЧС Республики Тыва жителей республики призывает во избежание переохлаждения и обморожения без необходимости не выходить на улицу, избегать длительного пребывания на улице детей и домашних животных и воздержаться от дальних поездок. ☎️ Телефон экстренных служб 112\n",
      "\n",
      "По данным Астраханского ЦГМС днем 27-28.06.2018 в период с 13 час. 00 мин. до 17 час. 00 мин. по Астраханской области ожидается сильная жара 40°. В связи с этим МЧС рекомендует: При сильной жаре следует избегать воздействия повышенной температуры. Носите светлую воздухопроницаемую одежду (желательно из хлопка) с головным убором. Находясь под прямым воздействием солнечных лучей, закрывать как можно больше поверхности кожи. Помните, что обожженная кожа перестает выделять пот и охлаждаться. Передвигайтесь не спеша, старайтесь чаще находиться в тени. Не употребляйте алкогольные напитки, это приведет к ухудшению общего состояния организма (обезвоживанию). Снижению температуры тела способствует погружение рук и ног в холодную воду. При появлении признаков теплового поражения (общая усталость, головная боль, нарушение сознания, покраснение или побледнение лица, ненормальный пульс) следует периодически потреблять воду для возмещения потери жидкости с выделяемым потом, принимая её небольшими дозами (80-100 мл), подолгу задерживая её во рту, охладить тело, немедленно перейти в тень, на ветер или принять душ. При необходимости обращайтесь по телефонам - 103, 112. Адрес: 414045 г. Астрахань ул.Волжская,11\n",
      "\n",
      "Март подходит к концу, но зима не спешит отступать. Ночью ожидается сильный снегопад и обледенение.   Наши коммунальные службы приведены в режим повышенной готовности чтобы обеспечить безопасность и комфорт жителей и гостей района.   Сегодня во дворах порядок наводят более 450 специалистов ручного труда Жилищного агентства и управляющих организаций, работает 29 механизаторов.   На улицах и дорогах – более 180 человек и 57 единиц техники.   Уважаемые жители, соблюдайте осторожность в период неблагоприятных погодных условий. Обо всех нештатных ситуациях и адресах, требующих внимания, сообщайте в дежурную службу администрации Центрального района Санкт-Петербурга по номеру 274-23-10.  Телефон работает круглосуточно.\n",
      "\n",
      "Внимание! Аномальные морозы! 20 – 24 февраля на территории Курганской области ожидается аномально холодная погода, местами до  -36 °C. Жителям региона рекомендовано ограничить пребывание на отрытом воздухе и одеваться согласно температурному режиму, чтобы не допустить переохлаждения.   В предстоящие праздничные дни следует воздержаться от употребления алкоголя, поездок и походов на дальние расстояния. Если поездку невозможно отменить или перенести, необходимо заранее проверить работу всех систем автомобиля, иметь запас топлива, теплую одежду, строго соблюдать правила дорожного движения и личной безопасности. Не пренебрегайте мерами  пожарной безопасности! Телефоны экстренных служб: - 112 – Служба экстренного реагирования, - 25-64-90, 102 – Дежурная группа ОБДПС ГИБДД, - 8-982-331-37-84 – Диспетчерская служба ФКУ Упрдор «Южный Урал» (федеральные дороги), - 8-800-200-63-06 — Диспетчерская служба ФКУ «Уралуправтодор» (федеральная дорога Подъезд к г.Ишим), - 8-963-866-22-24 – Диспетчерская служба ГКУ «Курганавтодор» (региональные и межмуниципальные дороги). Берегите себя и своих близких!\n",
      "\n",
      "Покачевцев предупреждают об опасностях на дорогах ⚠  Снегопад и гололед могут стать причиной ДТП и травм. Чтобы этого не случилось, и водителям, и пешеходам необходимо быть осторожными:  🚗 на автомобиле должна быть установлена зимняя резина 🚗 воздержитесь от резких перестроений из ряда в ряд и других маневров 🚗 выбирайте безопасную скорость движения  🚗 соблюдайте дистанцию до впереди движущегося транспорта 🚗 постоянно следите за исправностью световых приборов и стеклоочистителей 🚶‍♂ переходите проезжую часть только в разрешенных местах, убедившись, что водитель уступает, не торопитесь перебегать дорогу  🚶‍♂ рекомендуется носить верхнюю одежду со световозвращающими элементами 🚶‍♂ правильно подберите обувь своему ребенку, она должна быть с надежным протектором 🚶‍♂ на прогулке крепко держите ребенка за руку и выбирайте безопасный путь  🚶‍♂ выходите из дома на работу пораньше, чтобы не торопиться  #Покачи #ЕДДСПокачи\n",
      "\n"
     ]
    }
   ],
   "source": [
    "for i in data[data['result']=='не ОПЯ']['Text'].sample(5):\n",
    "    print(i)\n",
    "    print()"
   ]
  },
  {
   "cell_type": "markdown",
   "id": "e8f612ac-2e60-4297-ba4f-3806e7ac64c1",
   "metadata": {},
   "source": [
    "### Загружаем новости с `РИА-Новости` за период с 15 марта 2018 года по 31 декабря 2018 года. Их можно скачать с [диска](https://drive.google.com/file/d/12MyiSFXbN7ULaneFM3sB6aRgofJFXVAG/view?usp=sharing)"
   ]
  },
  {
   "cell_type": "code",
   "execution_count": null,
   "id": "17e4069c-e248-432c-b7b4-dfd1e6564658",
   "metadata": {},
   "outputs": [],
   "source": [
    "import gdown\n",
    "\n",
    "url = \"https://drive.google.com/drive/folders/11oCcLplWtp_qm-WuEbfCFP_Mz5K_z3ps?usp=sharing\"\n",
    "gdown.download_folder(url, quiet=True, use_cookies=False)\n",
    "\n",
    "df_ria = pd.read_csv('news_data/ria_news.tsv', sep='\\t')\n",
    "df_ria = df_ria[~df_ria.tags.isnull()]\n",
    "print(df_ria.shape)\n",
    "df_ria.head()"
   ]
  },
  {
   "cell_type": "code",
   "execution_count": 4,
   "id": "7a035152-e3c0-4a06-affc-931af80d2955",
   "metadata": {},
   "outputs": [],
   "source": [
    "# data = pd.read_excel('files//data_edited.xlsx')"
   ]
  },
  {
   "cell_type": "code",
   "execution_count": 5,
   "id": "48ab1a53-902c-44cd-86a8-b0d6c9ce9239",
   "metadata": {},
   "outputs": [
    {
     "name": "stdout",
     "output_type": "stream",
     "text": [
      "(201708, 9)\n"
     ]
    },
    {
     "data": {
      "text/html": [
       "<div>\n",
       "<style scoped>\n",
       "    .dataframe tbody tr th:only-of-type {\n",
       "        vertical-align: middle;\n",
       "    }\n",
       "\n",
       "    .dataframe tbody tr th {\n",
       "        vertical-align: top;\n",
       "    }\n",
       "\n",
       "    .dataframe thead th {\n",
       "        text-align: right;\n",
       "    }\n",
       "</style>\n",
       "<table border=\"1\" class=\"dataframe\">\n",
       "  <thead>\n",
       "    <tr style=\"text-align: right;\">\n",
       "      <th></th>\n",
       "      <th>href</th>\n",
       "      <th>date</th>\n",
       "      <th>time</th>\n",
       "      <th>title</th>\n",
       "      <th>snippet</th>\n",
       "      <th>text</th>\n",
       "      <th>category</th>\n",
       "      <th>tags</th>\n",
       "      <th>shows</th>\n",
       "    </tr>\n",
       "  </thead>\n",
       "  <tbody>\n",
       "    <tr>\n",
       "      <th>0</th>\n",
       "      <td>/20181231/1548961410.html</td>\n",
       "      <td>2018-12-31</td>\n",
       "      <td>31 декабря 2018, 23:52</td>\n",
       "      <td>Нетаньяху не собирается в отставку в случае пр...</td>\n",
       "      <td>Премьер-министр Израиля Биньямин Нетаньяху не ...</td>\n",
       "      <td>МОСКВА, 31 дек - РИА Новости. Премьер-министр ...</td>\n",
       "      <td>В мире</td>\n",
       "      <td>Биньямин Нетаньяху, Израиль, В мире</td>\n",
       "      <td>728.0</td>\n",
       "    </tr>\n",
       "    <tr>\n",
       "      <th>1</th>\n",
       "      <td>/20181231/1548961364.html</td>\n",
       "      <td>2018-12-31</td>\n",
       "      <td>31 декабря 2018, 23:19</td>\n",
       "      <td>Макрон в новогоднем обращении затронул тему ре...</td>\n",
       "      <td>Результат реформ не может быть мгновенным, зая...</td>\n",
       "      <td>ПАРИЖ, 31 дек – РИА Новости. Результат реформ ...</td>\n",
       "      <td>В мире</td>\n",
       "      <td>Эммануэль Макрон, Франция, В мире</td>\n",
       "      <td>3086.0</td>\n",
       "    </tr>\n",
       "    <tr>\n",
       "      <th>2</th>\n",
       "      <td>/20181231/1548961337.html</td>\n",
       "      <td>2018-12-31</td>\n",
       "      <td>31 декабря 2018, 23:12</td>\n",
       "      <td>Аарон Рэмзи проведет переговоры с пятью топ-кл...</td>\n",
       "      <td>Полузащитник лондонского \"Арсенала\" Аарон Рэмз...</td>\n",
       "      <td>МОСКВА, 31 дек - РИА Новости. Полузащитник лон...</td>\n",
       "      <td>NaN</td>\n",
       "      <td>ФК Арсенал (Лондон)</td>\n",
       "      <td>183.0</td>\n",
       "    </tr>\n",
       "    <tr>\n",
       "      <th>3</th>\n",
       "      <td>/20181231/1548961304.html</td>\n",
       "      <td>2018-12-31</td>\n",
       "      <td>31 декабря 2018, 23:09</td>\n",
       "      <td>Гол Азмуна принес сборной Ирана победу над кат...</td>\n",
       "      <td>Футболисты сборной Ирана одержали победу над к...</td>\n",
       "      <td>МОСКВА, 31 дек - РИА Новости. Футболисты сборн...</td>\n",
       "      <td>NaN</td>\n",
       "      <td>Сердар Азмун, Сборная Ирана по футболу</td>\n",
       "      <td>78.0</td>\n",
       "    </tr>\n",
       "    <tr>\n",
       "      <th>4</th>\n",
       "      <td>/20181231/1548961265.html</td>\n",
       "      <td>2018-12-31</td>\n",
       "      <td>31 декабря 2018, 23:07</td>\n",
       "      <td>Пятая ракетка мира дель Потро пропустит Открыт...</td>\n",
       "      <td>Аргентинский теннисист Хуан Мартин дель Потро ...</td>\n",
       "      <td>МОСКВА, 31 дек - РИА Новости. Аргентинский тен...</td>\n",
       "      <td>NaN</td>\n",
       "      <td>Теннис</td>\n",
       "      <td>79.0</td>\n",
       "    </tr>\n",
       "  </tbody>\n",
       "</table>\n",
       "</div>"
      ],
      "text/plain": [
       "                        href        date                    time  \\\n",
       "0  /20181231/1548961410.html  2018-12-31  31 декабря 2018, 23:52   \n",
       "1  /20181231/1548961364.html  2018-12-31  31 декабря 2018, 23:19   \n",
       "2  /20181231/1548961337.html  2018-12-31  31 декабря 2018, 23:12   \n",
       "3  /20181231/1548961304.html  2018-12-31  31 декабря 2018, 23:09   \n",
       "4  /20181231/1548961265.html  2018-12-31  31 декабря 2018, 23:07   \n",
       "\n",
       "                                               title  \\\n",
       "0  Нетаньяху не собирается в отставку в случае пр...   \n",
       "1  Макрон в новогоднем обращении затронул тему ре...   \n",
       "2  Аарон Рэмзи проведет переговоры с пятью топ-кл...   \n",
       "3  Гол Азмуна принес сборной Ирана победу над кат...   \n",
       "4  Пятая ракетка мира дель Потро пропустит Открыт...   \n",
       "\n",
       "                                             snippet  \\\n",
       "0  Премьер-министр Израиля Биньямин Нетаньяху не ...   \n",
       "1  Результат реформ не может быть мгновенным, зая...   \n",
       "2  Полузащитник лондонского \"Арсенала\" Аарон Рэмз...   \n",
       "3  Футболисты сборной Ирана одержали победу над к...   \n",
       "4  Аргентинский теннисист Хуан Мартин дель Потро ...   \n",
       "\n",
       "                                                text category  \\\n",
       "0  МОСКВА, 31 дек - РИА Новости. Премьер-министр ...   В мире   \n",
       "1  ПАРИЖ, 31 дек – РИА Новости. Результат реформ ...   В мире   \n",
       "2  МОСКВА, 31 дек - РИА Новости. Полузащитник лон...      NaN   \n",
       "3  МОСКВА, 31 дек - РИА Новости. Футболисты сборн...      NaN   \n",
       "4  МОСКВА, 31 дек - РИА Новости. Аргентинский тен...      NaN   \n",
       "\n",
       "                                     tags   shows  \n",
       "0     Биньямин Нетаньяху, Израиль, В мире   728.0  \n",
       "1       Эммануэль Макрон, Франция, В мире  3086.0  \n",
       "2                     ФК Арсенал (Лондон)   183.0  \n",
       "3  Сердар Азмун, Сборная Ирана по футболу    78.0  \n",
       "4                                  Теннис    79.0  "
      ]
     },
     "execution_count": 5,
     "metadata": {},
     "output_type": "execute_result"
    }
   ],
   "source": [
    "df_ria = pd.read_csv('files//Новости//ria_news.tsv', sep='\\t')\n",
    "df_ria = df_ria[~df_ria.tags.isnull()]\n",
    "print(df_ria.shape)\n",
    "df_ria.head()"
   ]
  },
  {
   "cell_type": "code",
   "execution_count": 6,
   "id": "7192ec6c-85c7-4a04-a3bc-bed6d171e06c",
   "metadata": {},
   "outputs": [
    {
     "name": "stdout",
     "output_type": "stream",
     "text": [
      "13344\n"
     ]
    },
    {
     "data": {
      "text/plain": [
       "3039"
      ]
     },
     "execution_count": 6,
     "metadata": {},
     "output_type": "execute_result"
    }
   ],
   "source": [
    "# удалим все лишние пробелы и сделаем lowercase\n",
    "df_ria['tags'] = (\n",
    "    df_ria.tags.\n",
    "    apply(lambda w: ','.join([item.strip() for item in  w.lower().split(',')]))\n",
    ")\n",
    "\n",
    "tags = ','.join(list(df_ria.tags.values))\n",
    "tags_cnt = Counter(tags.split(','))\n",
    "\n",
    "print(len(tags_cnt))\n",
    "# tags_cnt.most_common()[-20:]\n",
    "target_tags = {tag for tag,cnt in tags_cnt.most_common() if cnt > 10}\n",
    "len(target_tags)"
   ]
  },
  {
   "cell_type": "code",
   "execution_count": 7,
   "id": "826fb1df-26bf-44c9-9103-ebca657259cb",
   "metadata": {},
   "outputs": [
    {
     "data": {
      "text/plain": [
       "category\n",
       "В мире                             50073\n",
       "Спорт                              31630\n",
       "Происшествия                       18279\n",
       "Общество                           16957\n",
       "Экономика                          13738\n",
       "Политика                            7959\n",
       "Недвижимость                        7306\n",
       "Наука                               4655\n",
       "Культура                            4151\n",
       "Туризм                              3391\n",
       "Сказано в эфире - Радио Sputnik     3196\n",
       "Религия                             2684\n",
       "Социальный навигатор                2442\n",
       "Акценты - Радио Sputnik             1045\n",
       "Видеоблоги - Радио Sputnik           461\n",
       "Навигатор абитуриента                353\n",
       "Программы - Радио Sputnik            191\n",
       "Радио                                171\n",
       "Инфографика                          155\n",
       "Теория заблуждений                    40\n",
       "АртВывих                              20\n",
       "Спецпроекты - Радио Sputnik            2\n",
       "Name: count, dtype: int64"
      ]
     },
     "execution_count": 7,
     "metadata": {},
     "output_type": "execute_result"
    }
   ],
   "source": [
    "df_ria['category'].value_counts()"
   ]
  },
  {
   "cell_type": "markdown",
   "id": "25072166-bc25-4b2b-837f-e90a512d093e",
   "metadata": {},
   "source": [
    "### Рассмотрим категорию `спорт`. Ее самые распространенные тематики"
   ]
  },
  {
   "cell_type": "code",
   "execution_count": 66,
   "id": "d25e91e3-1cde-4d14-9646-b67a801a5a7a",
   "metadata": {},
   "outputs": [],
   "source": [
    "sports = df_ria[df_ria['category']=='Спорт'].dropna(subset=['text']).sample(20000)"
   ]
  },
  {
   "cell_type": "code",
   "execution_count": 68,
   "id": "7014675c-3662-40ac-925a-5bff22d18018",
   "metadata": {},
   "outputs": [
    {
     "name": "stdout",
     "output_type": "stream",
     "text": [
      "1211\n"
     ]
    }
   ],
   "source": [
    "sports['tags'] = (\n",
    "    sports.tags.\n",
    "    apply(lambda w: ','.join([item.strip() for item in  w.lower().split(',')]))\n",
    ")\n",
    "\n",
    "tags = ','.join(list(sports.tags.values))\n",
    "tags_cnt = Counter(tags.split(','))\n",
    "\n",
    "print(len(tags_cnt))"
   ]
  },
  {
   "cell_type": "code",
   "execution_count": 70,
   "id": "9a934b15-7931-42c2-a540-e6b315aa58f2",
   "metadata": {},
   "outputs": [
    {
     "name": "stdout",
     "output_type": "stream",
     "text": [
      "спорт: 20062\n",
      "футбол: 11188\n",
      "хоккей: 3611\n",
      "чемпионат мира по футболу 2018: 2747\n",
      "новости - чемпионат мира по футболу 2018: 2017\n",
      "теннис: 1536\n",
      "единоборства: 1359\n",
      "баскетбол: 1054\n",
      "фигурное катание: 660\n",
      "сборная россии - чемпионат мира по футболу 2018: 603\n"
     ]
    }
   ],
   "source": [
    "top_10 = sorted(tags_cnt.items(), key=lambda item: item[1], reverse=True)[:10]\n",
    "\n",
    "for key, value in top_10:\n",
    "    print(f'{key}: {value}')"
   ]
  },
  {
   "cell_type": "markdown",
   "id": "3fa43202-9ae9-4884-a98e-4fd1a0750e89",
   "metadata": {},
   "source": [
    "### Так как в этой рубрике точно нет новостей об ОПЯ, поэтому можно использовать ее для оценки качества работы этой [модели](https://huggingface.co/hannybal/disaster-twitter-xlm-roberta-al) в качестве фильтра информативных новостей от других публикуемых."
   ]
  },
  {
   "cell_type": "markdown",
   "id": "f2254626-3305-4aef-a92c-2d620a092454",
   "metadata": {},
   "source": [
    "Приеним модель к новостям спорта"
   ]
  },
  {
   "cell_type": "code",
   "execution_count": 71,
   "id": "05765930-d3ee-4038-bd5c-901eb5e1dd1c",
   "metadata": {},
   "outputs": [
    {
     "name": "stdout",
     "output_type": "stream",
     "text": [
      "\n",
      "Время выполнения: 176.00 минут\n"
     ]
    }
   ],
   "source": [
    "start_time = time.time()\n",
    "\n",
    "def to_def_disaster(text):\n",
    "    # Ограничиваем длину текста\n",
    "    max_length = 512\n",
    "    if len(text) > max_length:\n",
    "        text = text[:max_length]\n",
    "    dictt = classifier(text)[0]\n",
    "    if dictt['label'] == 'LABEL_1':\n",
    "        return 'ОПЯ', round(dictt['score'] * 100, 3)\n",
    "    else:\n",
    "        return 'не ОПЯ', round(dictt['score'] * 100, 3)\n",
    "\n",
    "\n",
    "\n",
    "results = sports['text'].apply(to_def_disaster)\n",
    "sports[['result', 'conf']] = pd.DataFrame(results.tolist(), index=sports.index)\n",
    "\n",
    "end_time = time.time()\n",
    "execution_time = end_time - start_time\n",
    "print(f\"\\nВремя выполнения: {execution_time//60:.2f} минут\")"
   ]
  },
  {
   "cell_type": "code",
   "execution_count": 72,
   "id": "e436f1ca-647a-4eb6-92b1-a9e978e55ca3",
   "metadata": {},
   "outputs": [],
   "source": [
    "# sports.to_excel('files//sports.xlsx', index = False)"
   ]
  },
  {
   "cell_type": "code",
   "execution_count": 73,
   "id": "412cebf0-1377-4164-b857-7cf91596cad3",
   "metadata": {},
   "outputs": [
    {
     "data": {
      "text/plain": [
       "result\n",
       "не ОПЯ    19895\n",
       "ОПЯ         105\n",
       "Name: count, dtype: int64"
      ]
     },
     "execution_count": 73,
     "metadata": {},
     "output_type": "execute_result"
    }
   ],
   "source": [
    "sports['result'].value_counts()"
   ]
  },
  {
   "cell_type": "code",
   "execution_count": 3,
   "id": "e8e8cf30-6e0b-422f-8c63-fd5244789dd6",
   "metadata": {},
   "outputs": [],
   "source": [
    "# sports = pd.read_excel('files//sports.xlsx')"
   ]
  },
  {
   "cell_type": "markdown",
   "id": "7347e1ff-528f-4965-b103-abf673eaf906",
   "metadata": {},
   "source": [
    "Возьмем проклассифицированные новости из БД ОПЯ, источник которых соц. сеть `Вхонтакте`.\n",
    "\n",
    "После отсмотра случайных 1% пабликов `ВКонтакте` (было условие включить разные регионы, чтобы никакие 3 сообщества не был из одного региона), из которых брались новости для БД ОПЯ было установлено, что новости об ОПЯ составляют 4.43 % всех новостей. \n",
    "\n",
    "Возьмем: \n",
    "- 4.43 % - новости `Вконтакте` (927)\n",
    "- 95.57 % - новости спорта `РИА-Новости` (20000)\n",
    "\n",
    "Случайно выберем из базы 927 новостей `Вконтакте` и посчитаем метрики качества классификации"
   ]
  },
  {
   "cell_type": "code",
   "execution_count": 22,
   "id": "450b24d4-4d5b-411a-8518-54108fdd6293",
   "metadata": {},
   "outputs": [],
   "source": [
    "sample_data = data[data['News_source']=='ВКонтакте'].sample(927, random_state = 666)"
   ]
  },
  {
   "cell_type": "code",
   "execution_count": 23,
   "id": "c782e5d5-3d3a-4ea3-9c7d-0b214dfb8da7",
   "metadata": {},
   "outputs": [
    {
     "data": {
      "text/plain": [
       "result\n",
       "ОПЯ       812\n",
       "не ОПЯ    115\n",
       "Name: count, dtype: int64"
      ]
     },
     "execution_count": 23,
     "metadata": {},
     "output_type": "execute_result"
    }
   ],
   "source": [
    "sample_data['result'].value_counts()"
   ]
  },
  {
   "cell_type": "code",
   "execution_count": 24,
   "id": "5a09eb14-0bba-436b-85b2-ebd22a680961",
   "metadata": {},
   "outputs": [
    {
     "data": {
      "text/plain": [
       "result\n",
       "не ОПЯ    19895\n",
       "ОПЯ         105\n",
       "Name: count, dtype: int64"
      ]
     },
     "execution_count": 24,
     "metadata": {},
     "output_type": "execute_result"
    }
   ],
   "source": [
    "sports['result'].value_counts()"
   ]
  },
  {
   "cell_type": "code",
   "execution_count": 25,
   "id": "fa2bac3f-b2dc-454a-85bb-e8e31f84832d",
   "metadata": {},
   "outputs": [
    {
     "name": "stdout",
     "output_type": "stream",
     "text": [
      "Precision: 0.89\n",
      "Recall: 0.88\n"
     ]
    }
   ],
   "source": [
    "TP = len(sample_data[sample_data['result']=='ОПЯ']) # модель угадала что ОПЯ - ОПЯ\n",
    "FN = len(sample_data[sample_data['result']=='не ОПЯ']) # модель сказала, что это не ОПЯ, но это ОПЯ\n",
    "FP = len(sports[sports['result']=='ОПЯ']) # Модель сказала, что это ОПЯ, но это не ОПЯ\n",
    "Precision = TP / (TP + FP)\n",
    "Recall = TP / (TP + FN)\n",
    "print(f'Precision: {Precision:.2f}')\n",
    "print(f'Recall: {Recall:.2f}')"
   ]
  },
  {
   "cell_type": "markdown",
   "id": "d6403e16-d18b-419f-91b3-94b09a894a61",
   "metadata": {},
   "source": [
    "## Рассмотрим несколько рубрик на предмет содержания новостей об ОПЯ\n",
    "#### Для создания БД ОПЯ из СМИ (`РИА-Новости` в т.ч.) брались только новости из рубрики `Проишествия`, но новости об ОПЯ, есть не только там.\n",
    "Рубрики:\n",
    "- Ощество\n",
    "- Недвижимость\n",
    "- Проишествия"
   ]
  },
  {
   "cell_type": "markdown",
   "id": "dadf693b-0574-4824-a108-b5d1a4f3d131",
   "metadata": {},
   "source": [
    "### Рассмотрим категорию `Общество`. Ее самые распространенные тематики."
   ]
  },
  {
   "cell_type": "code",
   "execution_count": 8,
   "id": "29d15975-70bf-44df-8e43-4b4b2616430d",
   "metadata": {},
   "outputs": [],
   "source": [
    "society = df_ria[df_ria['category']=='Общество']"
   ]
  },
  {
   "cell_type": "code",
   "execution_count": 35,
   "id": "1b290f44-5f04-4af4-8eb0-6df2458aec83",
   "metadata": {},
   "outputs": [
    {
     "name": "stdout",
     "output_type": "stream",
     "text": [
      "2279\n"
     ]
    }
   ],
   "source": [
    "society['tags'] = (\n",
    "    society.tags.\n",
    "    apply(lambda w: ','.join([item.strip() for item in  w.lower().split(',')]))\n",
    ")\n",
    "\n",
    "tags = ','.join(list(society.tags.values))\n",
    "tags_cnt = Counter(tags.split(','))\n",
    "\n",
    "print(len(tags_cnt))"
   ]
  },
  {
   "cell_type": "code",
   "execution_count": 36,
   "id": "0dfef664-a327-42ae-881b-8d1a683907e5",
   "metadata": {},
   "outputs": [
    {
     "name": "stdout",
     "output_type": "stream",
     "text": [
      "общество: 16867\n",
      "россия: 7224\n",
      "москва: 3259\n",
      "владимир путин: 1003\n",
      "госдума рф: 650\n",
      "крым: 450\n",
      "пожар в торговом центре в кемерово: 347\n",
      "кемерово: 302\n",
      "экология: 295\n",
      "московская область: 276\n"
     ]
    }
   ],
   "source": [
    "top_10 = sorted(tags_cnt.items(), key=lambda item: item[1], reverse=True)[:10]\n",
    "\n",
    "for key, value in top_10:\n",
    "    print(f'{key}: {value}')"
   ]
  },
  {
   "cell_type": "markdown",
   "id": "ffd9ec87-933b-41c1-91df-f7e121e400a7",
   "metadata": {},
   "source": [
    "### Посмотрим, сколько в этой рубрике потенциальных новостей об ОПЯ."
   ]
  },
  {
   "cell_type": "code",
   "execution_count": 11,
   "id": "3ff816b9-8bf7-4bad-a8e2-c3878d22e647",
   "metadata": {},
   "outputs": [
    {
     "name": "stdout",
     "output_type": "stream",
     "text": [
      "\n",
      "Время выполнения: 104.00 минут\n"
     ]
    }
   ],
   "source": [
    "start_time = time.time()\n",
    "\n",
    "def to_def_disaster(text):\n",
    "    # Ограничиваем длину текста\n",
    "    max_length = 512\n",
    "    if len(text) > max_length:\n",
    "        text = text[:max_length]\n",
    "    dictt = classifier(text)[0]\n",
    "    if dictt['label'] == 'LABEL_1':\n",
    "        return 'ОПЯ', round(dictt['score'] * 100, 3)\n",
    "    else:\n",
    "        return 'не ОПЯ', round(dictt['score'] * 100, 3)\n",
    "\n",
    "\n",
    "# Удаляем строки, где в столбце 'text' есть NaN\n",
    "society = society.dropna(subset=['text'])\n",
    "results = society['text'].apply(to_def_disaster)\n",
    "society[['result', 'conf']] = pd.DataFrame(results.tolist(), index=society.index)\n",
    "\n",
    "end_time = time.time()\n",
    "execution_time = end_time - start_time\n",
    "print(f\"\\nВремя выполнения: {execution_time//60:.2f} минут\")"
   ]
  },
  {
   "cell_type": "code",
   "execution_count": 12,
   "id": "df98a85c-d01e-4327-94dc-40a9753ba822",
   "metadata": {},
   "outputs": [],
   "source": [
    "# society.to_excel('files//society.xlsx')"
   ]
  },
  {
   "cell_type": "code",
   "execution_count": 13,
   "id": "94fe3f7f-2663-408e-ae99-820ee44bf81d",
   "metadata": {},
   "outputs": [
    {
     "data": {
      "text/plain": [
       "result\n",
       "не ОПЯ    13330\n",
       "ОПЯ        3537\n",
       "Name: count, dtype: int64"
      ]
     },
     "execution_count": 13,
     "metadata": {},
     "output_type": "execute_result"
    }
   ],
   "source": [
    "society['result'].value_counts()"
   ]
  },
  {
   "cell_type": "markdown",
   "id": "d3bfd058-a3c1-4530-80c1-f037be7d16e5",
   "metadata": {},
   "source": [
    "Получается, 3537 новостей из категории `Общество` скорее всего содержат в себе информацию об ОПЯ"
   ]
  },
  {
   "cell_type": "markdown",
   "id": "49e7c6c8-db62-4aa2-8483-b2c6ecaf9cef",
   "metadata": {},
   "source": [
    "### Посмотрим на самые популярные тематики в новостях категории `Общество`, которые были определены моделью как новости, содержащи ОПЯ."
   ]
  },
  {
   "cell_type": "code",
   "execution_count": 33,
   "id": "c112879d-8b98-4584-84ea-bd119f361a6e",
   "metadata": {},
   "outputs": [
    {
     "name": "stdout",
     "output_type": "stream",
     "text": [
      "742\n"
     ]
    },
    {
     "name": "stderr",
     "output_type": "stream",
     "text": [
      "C:\\Users\\Mariia\\AppData\\Local\\Temp\\ipykernel_7920\\2049203375.py:4: SettingWithCopyWarning: \n",
      "A value is trying to be set on a copy of a slice from a DataFrame.\n",
      "Try using .loc[row_indexer,col_indexer] = value instead\n",
      "\n",
      "See the caveats in the documentation: https://pandas.pydata.org/pandas-docs/stable/user_guide/indexing.html#returning-a-view-versus-a-copy\n",
      "  society_hazards['tags'] = (\n"
     ]
    }
   ],
   "source": [
    "society_hazards = society[society['result']=='ОПЯ']\n",
    "\n",
    "# удалим все лишние пробелы и сделаем lowercase\n",
    "society_hazards['tags'] = (\n",
    "    society_hazards.tags.\n",
    "    apply(lambda w: ','.join([item.strip() for item in  w.lower().split(',')]))\n",
    ")\n",
    "\n",
    "tags = ','.join(list(society_hazards.tags.values))\n",
    "tags_cnt = Counter(tags.split(','))\n",
    "\n",
    "print(len(tags_cnt))"
   ]
  },
  {
   "cell_type": "code",
   "execution_count": 34,
   "id": "15619671-5c75-44d5-a0a0-ab60458a223e",
   "metadata": {},
   "outputs": [
    {
     "name": "stdout",
     "output_type": "stream",
     "text": [
      "общество: 3537\n",
      "москва: 1311\n",
      "россия: 490\n",
      "пожар в торговом центре в кемерово: 308\n",
      "кемерово: 262\n",
      "крым: 171\n",
      "московская область: 153\n",
      "нападение на керченский политехнический колледж: 130\n",
      "керчь: 118\n",
      "экология: 97\n"
     ]
    }
   ],
   "source": [
    "top_10 = sorted(tags_cnt.items(), key=lambda item: item[1], reverse=True)[:10]\n",
    "\n",
    "for key, value in top_10:\n",
    "    print(f'{key}: {value}')"
   ]
  },
  {
   "cell_type": "code",
   "execution_count": 32,
   "id": "69374c0e-cc23-472f-9fec-1fc75c367694",
   "metadata": {},
   "outputs": [
    {
     "name": "stdout",
     "output_type": "stream",
     "text": [
      "\n",
      "МОСКВА, 22 апр — РИА Новости. Порывы ветра в московском регионе в субботу во время урагана достигали 30 метров в секунду, в столице с ливнем выпало 6 миллиметров осадков, а в Подмосковье — почти половина от месячной нормы, сообщил РИА Новости специалист центра погоды \"Фобос\" Евгений Тишковец.\n",
      " \"В Москве порывы 16 метров в секунду, в Домодедово — 22 метра в секунду, Волоколамск — 23, Шереметьево — 24, во Внуково порывы достигали 30 метров в секунду\", — сказал Тишковец. \n",
      "\"Если у нас месячная норма 44 миллиметра осадков. То получатся, что там почти пятьдесят процентов осадков выпало\", — уточнил Тишковец.\n",
      "Сильнейший ураган и ливни прошлись по Москве днем в субботу. По последним данным, в столице из-за урагана пострадали 17 человек, 14 из них были госпитализированы, среди них трое детей, погибла 12-летняя девочка. Сообщалось также, что в Подмосковье один человек погиб, шестеро пострадали.\n",
      " \n",
      "\n",
      "БРЯНСК, 21 апр – РИА Новости. Энергоснабжение 440 населенных пунктов в Ивановской, Тверской, Владимирской и Тульской областях, где проживают более 21 тысячи человек, нарушено в результате прохождения циклона, сообщает Центральный региональный центр МЧС.  \n",
      "В настоящее время ведутся аварийно-восстановительные работы. Энергоснабжение восстанавливают сотрудники МЧС России и 44 бригады энергетиков, говорится в сообщении.\n",
      "\n",
      "\n",
      "МОСКВА, 22 апр — РИА Новости. В Москве и Подмосковье ожидается сильный ветер скоростью 12-17 метров в секунду, сообщило столичное управление МЧС в Twitter со ссылкой на Росгидромет.  \n",
      "В то же время ЧП на городском транспорте власти не зафиксировали.\n",
      "По информации МЧС, ветер повалил более 500 деревьев и несколько рекламных щитов. Повреждены более 90 автомобилей. В некоторых районах нарушено электроснабжение. Всего в Центральной России свыше 25 тысяч человек остаются без света.\n",
      "Службы городского хозяйства ликвидируют последствия урагана, распиливают и вывозят поваленные деревья, демонтируют поврежденные конструкции.\n",
      " \n",
      "\n",
      "\n",
      "МОСКВА, 21 апр — РИА Новости. Мэр Москвы Сергей Собянин предупредил столичных жителей об опасности надвигающегося штормового ветра и заявил, что все службы спасения города приведены в полную готовность. \n",
      "\n",
      "\n",
      "МОСКВА, 21 апр — РИА Новости. Службы комплекса городского хозяйства ликвидируют последствия урагана, прошедшего в субботу по Москве, распиливают и вывозят поваленные деревья, демонтируют поврежденные конструкции, сообщил журналистам заместитель мэра Москвы по вопросам ЖКХ и благоустройства Петра Бирюков. \n",
      "\n"
     ]
    },
    {
     "name": "stderr",
     "output_type": "stream",
     "text": [
      "C:\\Users\\Mariia\\AppData\\Local\\Temp\\ipykernel_7920\\2618698173.py:4: UserWarning: This pattern is interpreted as a regular expression, and has match groups. To actually get the groups, use str.extract.\n",
      "  for i in society_hazards[society_hazards['tags'].str.contains(r'\\b(ураган)\\b', regex=True)]['text'].sample(5):\n"
     ]
    }
   ],
   "source": [
    "for i in society_hazards[society_hazards['tags'].str.contains(r'\\b(ураган)\\b', regex=True)]['text'].sample(5):\n",
    "    print(i)\n",
    "    print()"
   ]
  },
  {
   "cell_type": "markdown",
   "id": "11ad0371-dc30-4b74-8250-47e5af76a71a",
   "metadata": {},
   "source": [
    "### Попробуем рассмотреть категорию `Недвижимость`, так как этот раздел весьма схож с тем, что публикуют ВК паблики. Посмотрим, сколько в этой рубрике потенциальных новостей об ОПЯ."
   ]
  },
  {
   "cell_type": "code",
   "execution_count": 60,
   "id": "5f18ebff-08bb-4c3b-a97a-c9b82afff89b",
   "metadata": {},
   "outputs": [
    {
     "name": "stdout",
     "output_type": "stream",
     "text": [
      "\n",
      "Время выполнения: 55.00 минут\n"
     ]
    }
   ],
   "source": [
    "import time\n",
    "\n",
    "start_time = time.time()\n",
    "\n",
    "def to_def_disaster(text):\n",
    "    # Ограничиваем длину текста\n",
    "    max_length = 512\n",
    "    if len(text) > max_length:\n",
    "        text = text[:max_length]\n",
    "    dictt = classifier(text)[0]\n",
    "    if dictt['label'] == 'LABEL_1':\n",
    "        return 'ОПЯ', round(dictt['score'] * 100, 3)\n",
    "    else:\n",
    "        return 'не ОПЯ', round(dictt['score'] * 100, 3)\n",
    "\n",
    "\n",
    "# Удаляем строки, где в столбце 'text' есть NaN\n",
    "house = house.dropna(subset=['text'])\n",
    "results = house['text'].apply(to_def_disaster)\n",
    "house[['result', 'conf']] = pd.DataFrame(results.tolist(), index=house.index)\n",
    "\n",
    "end_time = time.time()\n",
    "execution_time = end_time - start_time\n",
    "print(f\"\\nВремя выполнения: {execution_time//60:.2f} минут\")"
   ]
  },
  {
   "cell_type": "code",
   "execution_count": 61,
   "id": "b42293b7-b152-4746-af3f-ec482d0604e2",
   "metadata": {},
   "outputs": [
    {
     "data": {
      "text/plain": [
       "result\n",
       "не ОПЯ    5289\n",
       "ОПЯ       1787\n",
       "Name: count, dtype: int64"
      ]
     },
     "execution_count": 61,
     "metadata": {},
     "output_type": "execute_result"
    }
   ],
   "source": [
    "house['result'].value_counts()"
   ]
  },
  {
   "cell_type": "code",
   "execution_count": 8,
   "id": "6f815752-6a79-4696-b33f-187347c38bbf",
   "metadata": {},
   "outputs": [],
   "source": [
    "# house.to_excel('files//Новости//house.xlsx', index = False)"
   ]
  },
  {
   "cell_type": "markdown",
   "id": "e40e20bc-76a0-4313-978a-351025144cfd",
   "metadata": {},
   "source": [
    "### Посмотрим на самые популярные тематики в новостях категории `Недвижимость`, которые были определены моделью как новости, содержащие ОПЯ."
   ]
  },
  {
   "cell_type": "code",
   "execution_count": 12,
   "id": "d210c453-4293-4815-a101-6488b6bd841f",
   "metadata": {},
   "outputs": [
    {
     "name": "stdout",
     "output_type": "stream",
     "text": [
      "949\n"
     ]
    },
    {
     "name": "stderr",
     "output_type": "stream",
     "text": [
      "C:\\Users\\Mariia\\AppData\\Local\\Temp\\ipykernel_1948\\2317000029.py:4: SettingWithCopyWarning: \n",
      "A value is trying to be set on a copy of a slice from a DataFrame.\n",
      "Try using .loc[row_indexer,col_indexer] = value instead\n",
      "\n",
      "See the caveats in the documentation: https://pandas.pydata.org/pandas-docs/stable/user_guide/indexing.html#returning-a-view-versus-a-copy\n",
      "  house_hazards['tags'] = (\n"
     ]
    }
   ],
   "source": [
    "house_hazards = house[house['result']=='ОПЯ']\n",
    "\n",
    "# удалим все лишние пробелы и сделаем lowercase\n",
    "house_hazards['tags'] = (\n",
    "    house_hazards.tags.\n",
    "    apply(lambda w: ','.join([item.strip() for item in  w.lower().split(',')]))\n",
    ")\n",
    "\n",
    "tags = ','.join(list(house_hazards.tags.values))\n",
    "tags_cnt = Counter(tags.split(','))\n",
    "\n",
    "print(len(tags_cnt))"
   ]
  },
  {
   "cell_type": "code",
   "execution_count": 13,
   "id": "22f41002-d4db-4ae4-9c86-87ecacbdeb72",
   "metadata": {},
   "outputs": [
    {
     "name": "stdout",
     "output_type": "stream",
     "text": [
      "новости - недвижимость: 1762\n",
      "россия: 1494\n",
      "москва: 818\n",
      "инфраструктура - новости: 506\n",
      "строительство: 370\n",
      "жилье - новости: 324\n",
      "жилье: 245\n",
      "инфраструктура: 198\n",
      "московская область: 177\n",
      "жкх: 169\n"
     ]
    }
   ],
   "source": [
    "top_10 = sorted(tags_cnt.items(), key=lambda item: item[1], reverse=True)[:10]\n",
    "\n",
    "for key, value in top_10:\n",
    "    print(f'{key}: {value}')"
   ]
  },
  {
   "cell_type": "code",
   "execution_count": 16,
   "id": "155b8a42-fed4-48c7-b5a1-ce2b9511b79d",
   "metadata": {},
   "outputs": [
    {
     "name": "stdout",
     "output_type": "stream",
     "text": [
      " ПЯТИГОРСК, 21 ноя — РИА Новости. Суд в Ставропольском крае подтвердил правомерность выдачи жилищных сертификатов шести семьям, пострадавшим от паводка в 2017 году, сообщает министерство ЖКХ региона. В июне текущего года в ходе прямой линии с президентом была озвучена проблема нескольких семей, которые лишились жилья после паводка. Им несколько раз отказывали в выдаче жилищных сертификатов, так как дома либо уже подвергались подтоплению в 2002 году и на них ранее выдавались сертификаты, либо оформлены в долевую собственность. Девять семей обратились в суд. \"Суд вынес решения уже по 6 делам. Все решения подтверждают правоту позиции правительства Ставропольского края о том, что данные заявители имеют право на получение государственного жилищного сертификата, и обращены к немедленному исполнению\", — говорится в сообщении. Как отмечается, специалисты министерства ЖКХ края максимально оперативно подготовят документы 6 семей, по которым принято положительное решение суда, и повторно направят их на согласование Минстроя России и МЧС России. \"По остальным трем семьям – до конца ноября ждем судебных решений\", — отметил министр жилищно-коммунального хозяйства Ставропольского края Роман Марченко, слова которого приводятся в сообщении. По данным ведомства, пострадавшим в результате паводка 2017 года выданы 355 государственных жилищных сертификатов, уже погашены 267 сертификатов на общую сумму более 303,7 миллиона рублей. Паводок в Ставропольском крае в мае 2017 года вызвали рекордные за полвека дожди. От стихии в регионе пострадали 29 населенных пунктов.\n",
      "\n",
      "\n",
      "МОСКВА, 25 окт — РИА Новости. Мост в курортном микрорайоне Макопсе города Сочи пострадал из-за подтопления, сроки восстановления будут определены после спада воды, сообщил начальник управления гражданской обороны и защиты населения администрации Сочи Александр Агафонов.\n",
      " Ранее сообщалось, что в связи с дождями в среду в Туапсинском и Апшеронском районах, а также в Сочи произошли подтопления, в Туапсинском и Апшеронском районах введен режим ЧС, частично эвакуировано население, оперативные службы переведены на усиленный режим работы. Для контроля хода ликвидаций последствий циклона на Кубань вылетела оперативная группа с главой МЧС РФ Евгением Зиничевым. \n",
      "Он также отметил, что уровень воды остается высоким, осадки продолжаются, поэтому обследование и сроки восстановления моста будут определены после спада воды.\n",
      "\"Прогнозируем по сводке к обеду. Дорога перекрыта с двух сторон. Оповещаются водители за 2-3 километра до моста, чтобы они возвращались в места постоянной дислокации\", — сказал Агафонов.\n",
      "За ночь в Адлере подтоплены порядка 30 придомовых территорий, Дагомыс, Лоо — 27, Аше — 20, Туапсе — 15. Также размыто порядка 300 метров дорог в Сочи.\n",
      "\"Прогноз погоды в городе оправдался полностью: на данный момент во всех четырех городских районах продолжается дождь. Жертв, пострадавших на данный момент нет. Население и отдыхающие оповещены в полном объеме через СМИ и по городской системе оповещения. Силы и средства приведены в повышенную готовность\", — сказал Агафонов.\n",
      "\n",
      "\n",
      "ТУАПСЕ, 30 окт — РИА Новости. Три детских сада в Туапсе, пострадавшие от подтопления, будут закрыты еще минимум месяц, сообщили РИА Новости в пресс-службе администрации Туапсинского района.\n",
      " \"От месяца до двух нельзя будет детей принимать\", — сообщили РИА Новости в пресс-службе администрации со ссылкой на данные управления образования. По данным пресс-службы, детсадам требуется просушка. \n",
      "На прошлой неделе из-за сильных дождей в Туапсинском и Апшеронском районах, а также в Сочи произошло наводнение. Введен режим ЧС, частично эвакуировано население, оперативные службы переведены на усиленный режим работы. Погибли шесть человек, неизвестна судьба двух человек. По последним данным МЧС, оценочные комиссии признали пострадавшими 2,5 тысячи домовладений, в которых проживают 6528 человек. Власти начали выплаты компенсаций пострадавшим в результате ЧС.\n",
      "\n",
      "\n",
      "КРАСНОДАР, 26 окт — РИА Новости. Размытый в результате подтопления из-за обильных дождей, участок подхода к мосту через реку Цыпка на трассе Майкоп-Туапсе отремонтирован, сообщает министерство транспорта и дорожного хозяйства Краснодарского края.\n",
      " В результате обильных осадков… в Туапсинском районе 24 октября произошло подтопление улично-дорожной сети Туапсе и автодороги регионального значения Майкоп — Туапсе. \n",
      "Также министерство информирует об очистке дороги от наносов и планировке проезжей части на Шаумянском перевале.\n",
      "Накануне в связи с дождями в Туапсинском и Апшеронском районах, а также в городе Сочи произошли подтопления, в Туапсинском и Апшеронском районах введен режим ЧС, частично эвакуировано население, оперативные службы переведены на усиленный режим работы, идут подворовые обходы для оценки ущерба от стихии. МЧС сообщает о шести погибших и одной пропавшей без вести. Для контроля за ходом ликвидации последствий циклона в Краснодарский край вылетела оперативная группа с главой МЧС РФ Евгением Зиничевым.\n",
      "\n",
      "\n",
      "МОСКВА, 26 окт — РИА Новости. Ущерб двум больницам, оказавшимся в зоне подтопления в Краснодарском крае, составил около 70-80 миллионов рублей, заявил замминистра здравоохранения Дмитрий Костенников на заседании Российской трехсторонней комиссии по регулированию социально-трудовых отношений.\n",
      " \"Все медицинские организации Краснодарского края работают в штатном режиме. Две больницы пострадало, сейчас выясняется размер ущерба, ориентировочно он оценивается в 70-80 миллионов рублей\", — заявил Костенников. \n",
      "В связи с дождями в среду в Туапсинском и Апшеронском районах, а также в Сочи произошли подтопления. По последним данным, подтоплено 1846 домовладений, где проживают более 5 тысяч человек. В территориях введен режим ЧС, частично эвакуировано население, оперативные службы переведены на усиленный режим работы, идут подворовые обходы для оценки ущерба от стихии. Для контроля за ходом ликвидации последствий циклона в Краснодарский край прибыл глава МЧС РФ Евгений Зиничев. Как сообщают региональные власти, в течение ближайших суток уменьшения осадков не предвидится.\n",
      "\n"
     ]
    },
    {
     "name": "stderr",
     "output_type": "stream",
     "text": [
      "C:\\Users\\Mariia\\AppData\\Local\\Temp\\ipykernel_1948\\94866683.py:1: UserWarning: This pattern is interpreted as a regular expression, and has match groups. To actually get the groups, use str.extract.\n",
      "  for i in house_hazards[house_hazards['tags'].str.contains(r'\\b(ураган|наводнение)\\b', regex=True)]['text'].sample(5):\n"
     ]
    }
   ],
   "source": [
    "for i in house_hazards[house_hazards['tags'].str.contains(r'\\b(ураган|наводнение)\\b', regex=True)]['text'].sample(5):\n",
    "    print(i)\n",
    "    print()"
   ]
  },
  {
   "cell_type": "markdown",
   "id": "38ff4a8d-b0aa-4c70-9df5-4aac42914e85",
   "metadata": {},
   "source": [
    "### Рассмотрим категорию `Происшествия`. Посмотрим, сколько в этой рубрике потенциальных новостей об ОПЯ."
   ]
  },
  {
   "cell_type": "code",
   "execution_count": 74,
   "id": "fe09a782-2a38-4beb-9818-94639f3fdfc6",
   "metadata": {},
   "outputs": [],
   "source": [
    "events = df_ria[df_ria['category']=='Происшествия']"
   ]
  },
  {
   "cell_type": "code",
   "execution_count": 75,
   "id": "ef433b9e-6bb4-4194-b7ad-6fc959c61f98",
   "metadata": {},
   "outputs": [
    {
     "name": "stdout",
     "output_type": "stream",
     "text": [
      "\n",
      "Время выполнения: 114.00 минут\n"
     ]
    }
   ],
   "source": [
    "start_time = time.time()\n",
    "\n",
    "def to_def_disaster(text):\n",
    "    # Ограничиваем длину текста\n",
    "    max_length = 512\n",
    "    if len(text) > max_length:\n",
    "        text = text[:max_length]\n",
    "    dictt = classifier(text)[0]\n",
    "    if dictt['label'] == 'LABEL_1':\n",
    "        return 'ОПЯ', round(dictt['score'] * 100, 3)\n",
    "    else:\n",
    "        return 'не ОПЯ', round(dictt['score'] * 100, 3)\n",
    "\n",
    "\n",
    "# Удаляем строки, где в столбце 'text' есть NaN\n",
    "events = events.dropna(subset=['text'])\n",
    "results = events['text'].apply(to_def_disaster)\n",
    "events[['result', 'conf']] = pd.DataFrame(results.tolist(), index=events.index)\n",
    "\n",
    "end_time = time.time()\n",
    "execution_time = end_time - start_time\n",
    "print(f\"\\nВремя выполнения: {execution_time//60:.2f} минут\")"
   ]
  },
  {
   "cell_type": "code",
   "execution_count": 77,
   "id": "405aa0fc-1c95-4a40-b120-12cdc1d10f8f",
   "metadata": {},
   "outputs": [
    {
     "data": {
      "text/plain": [
       "result\n",
       "не ОПЯ    9610\n",
       "ОПЯ       8661\n",
       "Name: count, dtype: int64"
      ]
     },
     "execution_count": 77,
     "metadata": {},
     "output_type": "execute_result"
    }
   ],
   "source": [
    "events['result'].value_counts()"
   ]
  },
  {
   "cell_type": "code",
   "execution_count": 19,
   "id": "433e3bb3-a5fe-406e-a109-454c08bc0b03",
   "metadata": {},
   "outputs": [],
   "source": [
    "# events.to_excel('files//Новости//events.xlsx', index = False)"
   ]
  },
  {
   "cell_type": "markdown",
   "id": "87e3d7c8-a1aa-4fba-a7db-1378ac209e65",
   "metadata": {},
   "source": [
    "### Посмотрим на самые популярные тематики в новостях категории `Происшествия`, которые были определены моделью как новости, содержащие ОПЯ"
   ]
  },
  {
   "cell_type": "code",
   "execution_count": 21,
   "id": "3a2d50b9-ee6e-41f9-9a40-09d7310f087f",
   "metadata": {},
   "outputs": [],
   "source": [
    "events_hazards = events[events['result']=='ОПЯ']"
   ]
  },
  {
   "cell_type": "code",
   "execution_count": 22,
   "id": "3d0f9bff-bb43-4fde-ba10-b354ad4e39e8",
   "metadata": {},
   "outputs": [
    {
     "name": "stdout",
     "output_type": "stream",
     "text": [
      "484\n"
     ]
    },
    {
     "name": "stderr",
     "output_type": "stream",
     "text": [
      "C:\\Users\\Mariia\\AppData\\Local\\Temp\\ipykernel_1948\\3200604211.py:1: UserWarning: This pattern is interpreted as a regular expression, and has match groups. To actually get the groups, use str.extract.\n",
      "  events_hazards_hazards = events_hazards[events_hazards['tags'].str.contains(r'\\b(мчс|паводок|наводнение|ураган|' + \\\n"
     ]
    }
   ],
   "source": [
    "events_hazards_hazards = events_hazards[events_hazards['tags'].str.contains(r'\\b(мчс|паводок|наводнение|ураган|' + \\\n",
    "                                             r'обрушение кровли здания|обрушение моста в приморье|' + \\\n",
    "                                             r'обрушение|экология|гумчс|аварии|экологическая|водоканал|' +  \\\n",
    "                                             r'гэс|природные пожары|авиалесоохрана|русгидро|пожарной безопасности|'+ \\\n",
    "                                             r'обрушение в здании)\\b', regex=True)]\n",
    "print(len(events_hazards_hazards))"
   ]
  },
  {
   "cell_type": "code",
   "execution_count": 23,
   "id": "940c536f-4e43-4126-9ef8-f05c8a110d23",
   "metadata": {},
   "outputs": [
    {
     "name": "stdout",
     "output_type": "stream",
     "text": [
      "968\n"
     ]
    },
    {
     "name": "stderr",
     "output_type": "stream",
     "text": [
      "C:\\Users\\Mariia\\AppData\\Local\\Temp\\ipykernel_1948\\1297991010.py:4: SettingWithCopyWarning: \n",
      "A value is trying to be set on a copy of a slice from a DataFrame.\n",
      "Try using .loc[row_indexer,col_indexer] = value instead\n",
      "\n",
      "See the caveats in the documentation: https://pandas.pydata.org/pandas-docs/stable/user_guide/indexing.html#returning-a-view-versus-a-copy\n",
      "  events_hazards['tags'] = (\n"
     ]
    }
   ],
   "source": [
    "events_hazards = events[events['result']=='ОПЯ']\n",
    "\n",
    "# удалим все лишние пробелы и сделаем lowercase\n",
    "events_hazards['tags'] = (\n",
    "    events_hazards.tags.\n",
    "    apply(lambda w: ','.join([item.strip() for item in  w.lower().split(',')]))\n",
    ")\n",
    "\n",
    "tags = ','.join(list(events_hazards.tags.values))\n",
    "tags_cnt = Counter(tags.split(','))\n",
    "\n",
    "print(len(tags_cnt))"
   ]
  },
  {
   "cell_type": "code",
   "execution_count": 24,
   "id": "7514b2f6-2008-47de-9738-1b933f66cc33",
   "metadata": {},
   "outputs": [
    {
     "name": "stdout",
     "output_type": "stream",
     "text": [
      "происшествия: 8661\n",
      "москва: 777\n",
      "пожар в торговом центре в кемерово: 545\n",
      "кемерово: 528\n",
      "россия: 464\n",
      "санкт-петербург: 278\n",
      "московская область: 255\n",
      "нападение на керченский политехнический колледж: 235\n",
      "керчь: 235\n",
      "краснодарский край: 174\n"
     ]
    }
   ],
   "source": [
    "top_10 = sorted(tags_cnt.items(), key=lambda item: item[1], reverse=True)[:10]\n",
    "\n",
    "for key, value in top_10:\n",
    "    print(f'{key}: {value}')"
   ]
  },
  {
   "cell_type": "code",
   "execution_count": 25,
   "id": "f69615a9-7ed1-4f00-9a3f-4e271dfbea06",
   "metadata": {},
   "outputs": [
    {
     "name": "stdout",
     "output_type": "stream",
     "text": [
      "СОЧИ, 7 ноя – РИА Новости. Порядка 70% пострадавших при подтоплении на Кубани получили выплаты, общая сумма компенсаций составила более 373 миллионов рублей, сообщает пресс-служба администрации региона. По информации краевых властей, все выплаты пострадавшим за частичную и полную утрату имущества сделаны из краевого бюджета. \"В результате паводка в трех районах Кубани подтопленными оказались 29 социальных объектов и 2798 домов с населением 8652 человека, из них 258 домовладений признаны аварийными. На сегодняшний день выплаты получили порядка 70% пострадавших в ЧС, для этого значительный объем средств был заимствован из ряда социально значимых краевых программ. Общая сумма компенсаций составила более 373 миллионов рублей\", — сообщает пресс-служба со ссылкой на губернатора края Вениамина Кондратьева. Уточняется, что на сегодняшний день основные восстановительные работы завершены, транспортное сообщение, а также электро- и водоснабжение возобновлены во всех пострадавших муниципалитетах. Сильные дожди в Туапсинском и Апшеронском районах Кубани и в Сочи 24-25 октября привели к наводнению. Был введен режим ЧС, частично эвакуировано население. В результате стихии шесть человек погибло, по этим фактам СК возбудил уголовные дела. Двое пропали без вести, пострадали порядка 2,5 тысячи домовладений, в которых проживают более 7 тысяч человек. Власти выплачивают компенсации пострадавшим при подтоплении.\n",
      "\n",
      "\n",
      "КРАСНОДАР, 27 окт — РИА Новости. Подтопленных домовладений в трёх пострадавших стихии районах Кубани к утру субботы не осталось, сообщает ГУ МЧС по Краснодарскому краю.\n",
      " \"По состоянию на семь утра 27 октября на территории трех пострадавших муниципальных образований (Туапсинский, Апшеронский районы и Сочи) подтопленных домовладений нет\", — говорится в сообщении. \n",
      "В связи с дождями в среду в Туапсинском и Апшеронском районах, а также в Сочи произошли подтопления. На территориях введен режим ЧС, частично эвакуировано население, оперативные службы переведены на усиленный режим работы, идут подворовые обходы для оценки ущерба от стихии. По уточненным данным, погибли шесть человек, пострадали 60, неизвестна судьба двух человек. Региональные власти сообщили о начале выплат компенсаций и единовременных выплат пострадавшим в результате ЧС.\n",
      " \n",
      "\n",
      "\n",
      "МОСКВА, 26 окт — РИА Новости. ОАО \"РЖД\" планируют в течение ближайших суток возобновить движение между Краснодаром и Туапсе, следует из сообщения компании.\n",
      " Поезда в Краснодарском крае были задержаны и отменены из-за серьезного наводнения в регионе. РЖД утром в пятницу восстановили мост на перегоне Шепси – Водопадный и открыли движение по одному из двух путей. Это позволяет обеспечить движение поездов на участке Адлер – Туапсе и отправить поезда, задержанные в районе станции Туапсе, обратно в Сочи. \n",
      "К месту происшествия для отсыпки поврежденных путей со станций Лазаревская и Сочи направлены противоразмывные поезда, включающие вагоны с щебнем, бутовым камнем и необходимую технику.\n",
      "В ликвидации последствий непогоды также задействованы восстановительные поезда Туапсе, Краснодар и Адлер. Всего на месте чрезвычайной ситуации работает около 300 железнодорожников.\n",
      "\n",
      "\n",
      "КРАСНОДАР, 26 окт — РИА Новости. Транспортное сообщение с аулом Агуй-Шапсуг восстановлено в Туапсинском районе, где в результате наводнения пострадал мост, сообщает администрация Краснодарского края.\n",
      " Как отмечается на сайте госоргана, в результате поднятия уровня ручья Агой в четверг на мосту произошло разрушение дорожного полотна. Порядка двух тысяч жителей аула остались без транспортного сообщения с районом. \n",
      "Также администрация информирует о возобновлении проезда по мосту через реку Цыпка, что позволило наладить сообщение между Туапсе и Апшеронским районом, а также Майкопом.\n",
      " Наводнения в связи с дождями произошли в четверг в Туапсинском и Апшеронском районах, а также в Сочи. В Туапсинском и Апшеронском районах введен режим ЧС, частично эвакуировано население, оперативные службы переведены на усиленный режим работы. Идут подворовые обходы для оценки ущерба от стихии. МЧС сообщает о шести погибших и одной пропавшей без вести. Для контроля за ходом ликвидации последствий циклона в Краснодарский край вылетела оперативная группа с главой МЧС РФ Евгением Зиничевым.\n",
      "\n",
      "\n",
      "МОСКВА, 25 окт — РИА Новости. Движение 25 пассажирских поездов задержано в Туапсинском районе Краснодарского края после проливных дождей и схода селей, сообщил РИА Новости представитель экстренных служб региона.\n",
      " \n",
      "\"По состоянию на 17.00 мск четверга, задержано 25 пассажирских поездов\",- сказал собеседник агентства.\n",
      "Он уточнил, что 10 пассажирских поездов задерживаются со стороны Туапсе, еще 15 – со стороны Сочи. Всего в поездах находились свыше 6 тысяч пассажиров. \n",
      "По словам собеседника агентства, произошло подтопление железнодорожных путей на двух участках перегонов и четырех железнодорожных станций.\n",
      "\"На станциях организовано дежурство врачей, психологов и представителей администрации. Питание пассажиров обеспечивают сотрудники АО \"Федеральная пассажирская компания\", — отметил собеседник агентства.\n",
      "В связи с дождями в среду в Туапсинском и Апшеронском районах, а также в Сочи произошли подтопления, в Туапсинском и Апшеронском районах введен режим ЧС, частично эвакуировано население, оперативные службы переведены на усиленный режим работы, идут подворовые обходы для оценки ущерба от стихии. Для контроля за ходом ликвидации последствий циклона в Краснодарский край вылетела оперативная группа с главой МЧС РФ Евгением Зиничевым. Как сообщают региональные власти, в течение двух суток уменьшения осадков не предвидится.\n",
      "\n"
     ]
    },
    {
     "name": "stderr",
     "output_type": "stream",
     "text": [
      "C:\\Users\\Mariia\\AppData\\Local\\Temp\\ipykernel_1948\\229537244.py:1: UserWarning: This pattern is interpreted as a regular expression, and has match groups. To actually get the groups, use str.extract.\n",
      "  for i in events_hazards[events_hazards['tags'].str.contains(r'\\b(ураган|наводнение)\\b', regex=True)]['text'].sample(5):\n"
     ]
    }
   ],
   "source": [
    "for i in events_hazards[events_hazards['tags'].str.contains(r'\\b(ураган|наводнение)\\b', regex=True)]['text'].sample(5):\n",
    "    print(i)\n",
    "    print()"
   ]
  }
 ],
 "metadata": {
  "kernelspec": {
   "display_name": "Python 3 (ipykernel)",
   "language": "python",
   "name": "python3"
  },
  "language_info": {
   "codemirror_mode": {
    "name": "ipython",
    "version": 3
   },
   "file_extension": ".py",
   "mimetype": "text/x-python",
   "name": "python",
   "nbconvert_exporter": "python",
   "pygments_lexer": "ipython3",
   "version": "3.12.9"
  }
 },
 "nbformat": 4,
 "nbformat_minor": 5
}
