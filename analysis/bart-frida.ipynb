{
 "cells": [
  {
   "cell_type": "code",
   "execution_count": 1,
   "id": "38aa36e3-f65c-42c2-af18-c565fc69a764",
   "metadata": {
    "execution": {
     "iopub.execute_input": "2025-05-10T02:26:43.327367Z",
     "iopub.status.busy": "2025-05-10T02:26:43.327162Z",
     "iopub.status.idle": "2025-05-10T02:26:47.516047Z",
     "shell.execute_reply": "2025-05-10T02:26:47.515284Z",
     "shell.execute_reply.started": "2025-05-10T02:26:43.327349Z"
    }
   },
   "outputs": [
    {
     "name": "stdout",
     "output_type": "stream",
     "text": [
      "There are 1 GPU(s) available.\n",
      "We will use the GPU: Tesla P100-PCIE-16GB\n"
     ]
    }
   ],
   "source": [
    "import torch\n",
    "\n",
    "# If there's a GPU available...\n",
    "if torch.cuda.is_available():\n",
    "\n",
    "    # Tell PyTorch to use the GPU.\n",
    "    device = torch.device(\"cuda\")\n",
    "\n",
    "    print('There are %d GPU(s) available.' % torch.cuda.device_count())\n",
    "\n",
    "    print('We will use the GPU:', torch.cuda.get_device_name(0))\n",
    "\n",
    "# If not...\n",
    "else:\n",
    "    print('No GPU available, using the CPU instead.')\n",
    "    device = torch.device(\"cpu\")"
   ]
  },
  {
   "cell_type": "code",
   "execution_count": 2,
   "id": "731e07c0-3693-4a2c-bcb6-f7176744dd7c",
   "metadata": {
    "execution": {
     "iopub.execute_input": "2025-05-10T02:26:47.517856Z",
     "iopub.status.busy": "2025-05-10T02:26:47.517561Z",
     "iopub.status.idle": "2025-05-10T02:27:12.230656Z",
     "shell.execute_reply": "2025-05-10T02:27:12.230073Z",
     "shell.execute_reply.started": "2025-05-10T02:26:47.517838Z"
    }
   },
   "outputs": [
    {
     "name": "stderr",
     "output_type": "stream",
     "text": [
      "2025-05-10 02:26:59.423484: E external/local_xla/xla/stream_executor/cuda/cuda_fft.cc:477] Unable to register cuFFT factory: Attempting to register factory for plugin cuFFT when one has already been registered\n",
      "WARNING: All log messages before absl::InitializeLog() is called are written to STDERR\n",
      "E0000 00:00:1746844019.611232      31 cuda_dnn.cc:8310] Unable to register cuDNN factory: Attempting to register factory for plugin cuDNN when one has already been registered\n",
      "E0000 00:00:1746844019.663105      31 cuda_blas.cc:1418] Unable to register cuBLAS factory: Attempting to register factory for plugin cuBLAS when one has already been registered\n"
     ]
    }
   ],
   "source": [
    "import numpy as np\n",
    "import pandas as pd\n",
    "from typing import  List\n",
    "import matplotlib.pyplot as plt\n",
    "import seaborn as sns\n",
    "from string import punctuation\n",
    "from sklearn.model_selection import train_test_split\n",
    "import nltk\n",
    "from collections import Counter\n",
    "import torch\n",
    "import torch.nn.functional as F\n",
    "from transformers import AutoTokenizer, T5EncoderModel, AutoModelForSequenceClassification, pipeline\n",
    "import pandas as pd\n",
    "import time\n",
    "from transformers import AutoModelForSequenceClassification, AutoTokenizer\n",
    "from sentence_transformers import SentenceTransformer"
   ]
  },
  {
   "cell_type": "markdown",
   "id": "2d3d807a-c6e3-4046-8deb-81a211169e30",
   "metadata": {},
   "source": [
    "### Загружаем новости с сильными ветрами"
   ]
  },
  {
   "cell_type": "code",
   "execution_count": 3,
   "id": "85f46324-a122-4261-b1c0-b701ed41d14f",
   "metadata": {
    "execution": {
     "iopub.execute_input": "2025-05-10T02:27:12.231998Z",
     "iopub.status.busy": "2025-05-10T02:27:12.231420Z",
     "iopub.status.idle": "2025-05-10T02:27:18.757390Z",
     "shell.execute_reply": "2025-05-10T02:27:18.756577Z",
     "shell.execute_reply.started": "2025-05-10T02:27:12.231971Z"
    }
   },
   "outputs": [],
   "source": [
    "wind = pd.read_excel('/kaggle/input/wind-bof/wind_bof_dis.xlsx')"
   ]
  },
  {
   "cell_type": "code",
   "execution_count": 4,
   "id": "cfc81409-0041-40b5-91f3-7292a59cd05f",
   "metadata": {
    "execution": {
     "iopub.execute_input": "2025-05-10T02:27:18.759204Z",
     "iopub.status.busy": "2025-05-10T02:27:18.758324Z",
     "iopub.status.idle": "2025-05-10T02:27:18.806700Z",
     "shell.execute_reply": "2025-05-10T02:27:18.806100Z",
     "shell.execute_reply.started": "2025-05-10T02:27:18.759182Z"
    }
   },
   "outputs": [
    {
     "name": "stdout",
     "output_type": "stream",
     "text": [
      "<class 'pandas.core.frame.DataFrame'>\n",
      "RangeIndex: 12734 entries, 0 to 12733\n",
      "Data columns (total 37 columns):\n",
      " #   Column                  Non-Null Count  Dtype         \n",
      "---  ------                  --------------  -----         \n",
      " 0   Unnamed: 0              12734 non-null  int64         \n",
      " 1   _ID                     12734 non-null  object        \n",
      " 2   Event_ID                11005 non-null  object        \n",
      " 3   News_link               12734 non-null  object        \n",
      " 4   Text                    12734 non-null  object        \n",
      " 5   News_length             12734 non-null  int64         \n",
      " 6   Количество              12734 non-null  int64         \n",
      " 7   News_source             12734 non-null  object        \n",
      " 8   News_type               12734 non-null  object        \n",
      " 9   Location_ATD4           12679 non-null  object        \n",
      " 10  Location_other          11201 non-null  object        \n",
      " 11  Location_geocoded       12734 non-null  object        \n",
      " 12  Location_geocoded_bool  12734 non-null  bool          \n",
      " 13  Phenomena               12734 non-null  object        \n",
      " 14  Phenomena_count         12734 non-null  int64         \n",
      " 15  Event_verbose           10974 non-null  object        \n",
      " 16  Damage_description      5025 non-null   object        \n",
      " 17  Damage_money_num        12734 non-null  int64         \n",
      " 18  People_dead_num         12734 non-null  int64         \n",
      " 19  People_injured          413 non-null    object        \n",
      " 20  People_injured_num      12734 non-null  int64         \n",
      " 21  Activities              12599 non-null  object        \n",
      " 22  Verification_source     425 non-null    object        \n",
      " 23  Verification_details    363 non-null    object        \n",
      " 24  Date_year               12734 non-null  int64         \n",
      " 25  Date_start              12079 non-null  datetime64[ns]\n",
      " 26  Date_end                7309 non-null   datetime64[ns]\n",
      " 27  fix_Date_start          12079 non-null  datetime64[ns]\n",
      " 28  fix_Date_end            7309 non-null   datetime64[ns]\n",
      " 29  Date_period             7215 non-null   float64       \n",
      " 30  Date_post               10986 non-null  object        \n",
      " 31  Максимальное число      8462 non-null   float64       \n",
      " 32  Класс                   12734 non-null  int64         \n",
      " 33  Location_clean          12679 non-null  object        \n",
      " 34  loc_num                 12734 non-null  object        \n",
      " 35  result                  12734 non-null  object        \n",
      " 36  conf                    12734 non-null  float64       \n",
      "dtypes: bool(1), datetime64[ns](4), float64(3), int64(9), object(20)\n",
      "memory usage: 3.5+ MB\n"
     ]
    }
   ],
   "source": [
    "wind.info()"
   ]
  },
  {
   "cell_type": "markdown",
   "id": "d28e414a-3626-4361-be8f-1d44bfb8d3e6",
   "metadata": {},
   "source": [
    "### С помощью модели [Frida](https://huggingface.co/ai-forever/FRIDA) производится верификация определенного в БД в части с сильными ветрами типе события (или типах) по тексту новости"
   ]
  },
  {
   "cell_type": "code",
   "execution_count": 7,
   "id": "97da6291-53e4-4714-8914-69cb8b435b93",
   "metadata": {
    "execution": {
     "iopub.execute_input": "2025-05-09T05:49:30.572255Z",
     "iopub.status.busy": "2025-05-09T05:49:30.571622Z",
     "iopub.status.idle": "2025-05-09T06:11:14.650661Z",
     "shell.execute_reply": "2025-05-09T06:11:14.649888Z",
     "shell.execute_reply.started": "2025-05-09T05:49:30.572232Z"
    }
   },
   "outputs": [
    {
     "name": "stdout",
     "output_type": "stream",
     "text": [
      "\n",
      "Время выполнения: 21.00 минут\n"
     ]
    }
   ],
   "source": [
    "# Начало отсчета времени\n",
    "start_time = time.time()\n",
    "\n",
    "# Загрузка модели с CLS pooling\n",
    "model = SentenceTransformer(\"ai-forever/FRIDA\")\n",
    "\n",
    "# Пример DataFrame (замените на ваш DataFrame)\n",
    "df = wind.copy()\n",
    "\n",
    "# Функция для верификации\n",
    "def to_verify(row):\n",
    "    text = row['Text']\n",
    "    phenomena = row['Phenomena']\n",
    "    \n",
    "    # Получение эмбеддингов\n",
    "    text_embedding = model.encode(text,\n",
    "                                  prompt_name='categorize_topic',\n",
    "                                  show_progress_bar=False)\n",
    "    phenomena_embedding = model.encode(phenomena,\n",
    "                                       prompt_name='categorize_topic',\n",
    "                                       show_progress_bar=False)\n",
    "    \n",
    "    # Вычисление косинусного сходства\n",
    "    similarity_score = text_embedding @ phenomena_embedding.T\n",
    "    return similarity_score\n",
    "\n",
    "# Применение функции к каждой строке DataFrame\n",
    "df['score_Phenomena'] = df.apply(to_verify, axis=1)\n",
    "\n",
    "# Завершение отсчета времени\n",
    "end_time = time.time()\n",
    "execution_time = end_time - start_time\n",
    "print(f\"\\nВремя выполнения: {execution_time // 60:.2f} минут\")"
   ]
  },
  {
   "cell_type": "code",
   "execution_count": 8,
   "id": "59eb6617-ad44-42d6-b43f-ce746e55e6ff",
   "metadata": {
    "execution": {
     "iopub.execute_input": "2025-05-09T06:21:19.364907Z",
     "iopub.status.busy": "2025-05-09T06:21:19.364493Z",
     "iopub.status.idle": "2025-05-09T06:21:19.374215Z",
     "shell.execute_reply": "2025-05-09T06:21:19.373419Z",
     "shell.execute_reply.started": "2025-05-09T06:21:19.364881Z"
    }
   },
   "outputs": [
    {
     "data": {
      "text/plain": [
       "count    12734.000000\n",
       "mean         0.884728\n",
       "std          0.049493\n",
       "min          0.708113\n",
       "25%          0.854804\n",
       "50%          0.896963\n",
       "75%          0.923907\n",
       "max          0.971253\n",
       "Name: score_Phenomena, dtype: float64"
      ]
     },
     "execution_count": 8,
     "metadata": {},
     "output_type": "execute_result"
    }
   ],
   "source": [
    "df['score_Phenomena'].describe()"
   ]
  },
  {
   "cell_type": "markdown",
   "id": "e98cde8d-9f9d-46ba-8171-e1f2a5d171a3",
   "metadata": {},
   "source": [
    "### С помощью модели [Frida](https://huggingface.co/ai-forever/FRIDA) производится верификация типа ОПЯ - сильный ветер в части БД с сильными ветрами"
   ]
  },
  {
   "cell_type": "code",
   "execution_count": 5,
   "id": "c1b9eadb-85f6-4242-93fd-09f3859e9e0f",
   "metadata": {
    "execution": {
     "iopub.execute_input": "2025-05-09T05:20:53.592000Z",
     "iopub.status.busy": "2025-05-09T05:20:53.591557Z",
     "iopub.status.idle": "2025-05-09T05:42:58.018697Z",
     "shell.execute_reply": "2025-05-09T05:42:58.017999Z",
     "shell.execute_reply.started": "2025-05-09T05:20:53.591968Z"
    }
   },
   "outputs": [
    {
     "data": {
      "application/vnd.jupyter.widget-view+json": {
       "model_id": "81ca82a8cb3e47d38c9c516cedfb536e",
       "version_major": 2,
       "version_minor": 0
      },
      "text/plain": [
       "modules.json:   0%|          | 0.00/349 [00:00<?, ?B/s]"
      ]
     },
     "metadata": {},
     "output_type": "display_data"
    },
    {
     "data": {
      "application/vnd.jupyter.widget-view+json": {
       "model_id": "7d5b2decaf5c4c1fa64a80838f6e7f78",
       "version_major": 2,
       "version_minor": 0
      },
      "text/plain": [
       "config_sentence_transformers.json:   0%|          | 0.00/509 [00:00<?, ?B/s]"
      ]
     },
     "metadata": {},
     "output_type": "display_data"
    },
    {
     "data": {
      "application/vnd.jupyter.widget-view+json": {
       "model_id": "1f1dbf648b6c4846968fe867b5e18e87",
       "version_major": 2,
       "version_minor": 0
      },
      "text/plain": [
       "README.md:   0%|          | 0.00/53.2k [00:00<?, ?B/s]"
      ]
     },
     "metadata": {},
     "output_type": "display_data"
    },
    {
     "data": {
      "application/vnd.jupyter.widget-view+json": {
       "model_id": "99c67780ef9b4653b5aaa46a49e84613",
       "version_major": 2,
       "version_minor": 0
      },
      "text/plain": [
       "sentence_bert_config.json:   0%|          | 0.00/53.0 [00:00<?, ?B/s]"
      ]
     },
     "metadata": {},
     "output_type": "display_data"
    },
    {
     "data": {
      "application/vnd.jupyter.widget-view+json": {
       "model_id": "016be8b7984e497ba93c1175871612c3",
       "version_major": 2,
       "version_minor": 0
      },
      "text/plain": [
       "config.json:   0%|          | 0.00/823 [00:00<?, ?B/s]"
      ]
     },
     "metadata": {},
     "output_type": "display_data"
    },
    {
     "data": {
      "application/vnd.jupyter.widget-view+json": {
       "model_id": "50a4c6fda5464dec8da48f2bc7792400",
       "version_major": 2,
       "version_minor": 0
      },
      "text/plain": [
       "model.safetensors:   0%|          | 0.00/3.29G [00:00<?, ?B/s]"
      ]
     },
     "metadata": {},
     "output_type": "display_data"
    },
    {
     "data": {
      "application/vnd.jupyter.widget-view+json": {
       "model_id": "b0feed93979f4cd0975b183dc40b54fb",
       "version_major": 2,
       "version_minor": 0
      },
      "text/plain": [
       "tokenizer_config.json:   0%|          | 0.00/1.19k [00:00<?, ?B/s]"
      ]
     },
     "metadata": {},
     "output_type": "display_data"
    },
    {
     "data": {
      "application/vnd.jupyter.widget-view+json": {
       "model_id": "581a88f8c91c4c6a84f7b4cbe626e748",
       "version_major": 2,
       "version_minor": 0
      },
      "text/plain": [
       "vocab.json:   0%|          | 0.00/2.70M [00:00<?, ?B/s]"
      ]
     },
     "metadata": {},
     "output_type": "display_data"
    },
    {
     "data": {
      "application/vnd.jupyter.widget-view+json": {
       "model_id": "93dc03f25734463b8084f7f1e4c46b7e",
       "version_major": 2,
       "version_minor": 0
      },
      "text/plain": [
       "merges.txt:   0%|          | 0.00/1.68M [00:00<?, ?B/s]"
      ]
     },
     "metadata": {},
     "output_type": "display_data"
    },
    {
     "data": {
      "application/vnd.jupyter.widget-view+json": {
       "model_id": "3d0b20aa86ea437cbe08dc0d970d6cb4",
       "version_major": 2,
       "version_minor": 0
      },
      "text/plain": [
       "tokenizer.json:   0%|          | 0.00/5.59M [00:00<?, ?B/s]"
      ]
     },
     "metadata": {},
     "output_type": "display_data"
    },
    {
     "data": {
      "application/vnd.jupyter.widget-view+json": {
       "model_id": "4b1a94e7f3344645831497de59761f80",
       "version_major": 2,
       "version_minor": 0
      },
      "text/plain": [
       "special_tokens_map.json:   0%|          | 0.00/958 [00:00<?, ?B/s]"
      ]
     },
     "metadata": {},
     "output_type": "display_data"
    },
    {
     "data": {
      "application/vnd.jupyter.widget-view+json": {
       "model_id": "378fbec71e504699a0f5e19fc8efcbf4",
       "version_major": 2,
       "version_minor": 0
      },
      "text/plain": [
       "config.json:   0%|          | 0.00/297 [00:00<?, ?B/s]"
      ]
     },
     "metadata": {},
     "output_type": "display_data"
    },
    {
     "name": "stdout",
     "output_type": "stream",
     "text": [
      "\n",
      "Время выполнения: 22.00 минут\n"
     ]
    }
   ],
   "source": [
    "# Начало отсчета времени\n",
    "start_time = time.time()\n",
    "\n",
    "# Загрузка модели с CLS pooling\n",
    "model = SentenceTransformer(\"ai-forever/FRIDA\")\n",
    "\n",
    "# Пример DataFrame (замените на ваш DataFrame)\n",
    "df = wind.copy()\n",
    "\n",
    "# Функция для верификации\n",
    "def to_verify(row):\n",
    "    text = row['Text']\n",
    "    phenomena = row['Phenomena']\n",
    "    \n",
    "    # Получение эмбеддингов\n",
    "    text_embedding = model.encode(text,\n",
    "                                  prompt_name='categorize_topic',\n",
    "                                  show_progress_bar=False)\n",
    "    phenomena_embedding = model.encode('сильный ветер',\n",
    "                                       prompt_name='categorize_topic',\n",
    "                                       show_progress_bar=False)\n",
    "    \n",
    "    # Вычисление косинусного сходства\n",
    "    similarity_score = text_embedding @ phenomena_embedding.T\n",
    "    return similarity_score\n",
    "\n",
    "# Применение функции к каждой строке DataFrame\n",
    "df['score_wind'] = df.apply(to_verify, axis=1)\n",
    "\n",
    "# Завершение отсчета времени\n",
    "end_time = time.time()\n",
    "execution_time = end_time - start_time\n",
    "print(f\"\\nВремя выполнения: {execution_time // 60:.2f} минут\")\n"
   ]
  },
  {
   "cell_type": "code",
   "execution_count": 6,
   "id": "73ed496c-fe2b-416e-a196-c8a55750e35e",
   "metadata": {
    "execution": {
     "iopub.execute_input": "2025-05-09T05:49:03.713138Z",
     "iopub.status.busy": "2025-05-09T05:49:03.712855Z",
     "iopub.status.idle": "2025-05-09T05:49:03.726329Z",
     "shell.execute_reply": "2025-05-09T05:49:03.725752Z",
     "shell.execute_reply.started": "2025-05-09T05:49:03.713116Z"
    }
   },
   "outputs": [
    {
     "data": {
      "text/plain": [
       "count    12734.000000\n",
       "mean         0.882092\n",
       "std          0.038387\n",
       "min          0.701751\n",
       "25%          0.852497\n",
       "50%          0.895564\n",
       "75%          0.911722\n",
       "max          0.951818\n",
       "Name: score_wind, dtype: float64"
      ]
     },
     "execution_count": 6,
     "metadata": {},
     "output_type": "execute_result"
    }
   ],
   "source": [
    "df['score_wind'].describe()"
   ]
  },
  {
   "cell_type": "markdown",
   "id": "65100ce0-9565-4eca-8602-e72850210a0a",
   "metadata": {
    "execution": {
     "iopub.execute_input": "2025-05-10T02:27:18.811180Z",
     "iopub.status.busy": "2025-05-10T02:27:18.810768Z",
     "iopub.status.idle": "2025-05-10T02:27:18.839946Z",
     "shell.execute_reply": "2025-05-10T02:27:18.839192Z",
     "shell.execute_reply.started": "2025-05-10T02:27:18.811162Z"
    }
   },
   "source": [
    "### С помощью модели [bart-large-mnli](https://huggingface.co/facebook/bart-large-mnli) производится верификация определенного в БД в части с сильными ветрами типе события (или типах) по тексту новости"
   ]
  },
  {
   "cell_type": "code",
   "execution_count": 15,
   "id": "5be141aa-900e-4c9d-9a21-dd70eac0939c",
   "metadata": {
    "execution": {
     "iopub.execute_input": "2025-05-10T03:21:15.936560Z",
     "iopub.status.busy": "2025-05-10T03:21:15.936250Z",
     "iopub.status.idle": "2025-05-10T03:48:31.842008Z",
     "shell.execute_reply": "2025-05-10T03:48:31.841270Z",
     "shell.execute_reply.started": "2025-05-10T03:21:15.936542Z"
    }
   },
   "outputs": [
    {
     "name": "stdout",
     "output_type": "stream",
     "text": [
      "Время выполнения: 27.26 мин\n"
     ]
    },
    {
     "name": "stderr",
     "output_type": "stream",
     "text": [
      "/tmp/ipykernel_31/4216801656.py:35: SettingWithCopyWarning: \n",
      "A value is trying to be set on a copy of a slice from a DataFrame.\n",
      "Try using .loc[row_indexer,col_indexer] = value instead\n",
      "\n",
      "See the caveats in the documentation: https://pandas.pydata.org/pandas-docs/stable/user_guide/indexing.html#returning-a-view-versus-a-copy\n",
      "  res_ph['wind_score'] = res_ph.apply(to_verify_bart, axis=1)\n"
     ]
    }
   ],
   "source": [
    "# Проверка доступности GPU\n",
    "device = torch.device(\"cuda\" if torch.cuda.is_available() else \"cpu\")\n",
    "\n",
    "start_time = time.perf_counter()\n",
    "\n",
    "# Загрузка модели и токенизатора\n",
    "nli_model = AutoModelForSequenceClassification.from_pretrained('facebook/bart-large-mnli').to(device)\n",
    "tokenizer = AutoTokenizer.from_pretrained('facebook/bart-large-mnli')\n",
    "\n",
    "# Пример DataFrame (замените на ваш DataFrame)\n",
    "res_ph = wind[['Text', 'Phenomena']]\n",
    "\n",
    "def to_verify_bart(row):\n",
    "    label = row['Phenomena']\n",
    "    premise = row['Text']\n",
    "    hypothesis = f'This example is {label}.'\n",
    "    \n",
    "    # Токенизация и перемещение на устройство\n",
    "    x = tokenizer.encode(premise, hypothesis, return_tensors='pt', truncation=True).to(device)\n",
    "    \n",
    "    # Получение логитов\n",
    "    logits = nli_model(x)[0]\n",
    "    \n",
    "    # Вычисление вероятности\n",
    "    entail_contradiction_logits = logits[:, [0, 2]]\n",
    "    probs = entail_contradiction_logits.softmax(dim=1)\n",
    "    prob_label_is_true = probs[:, 1]\n",
    "    return prob_label_is_true.item()  # Возвращаем скалярное значение\n",
    "\n",
    "# Применение функции к каждой строке DataFrame\n",
    "res_ph['wind_score'] = res_ph.apply(to_verify_bart, axis=1)\n",
    "\n",
    "end_time = time.perf_counter()\n",
    "execution_time = end_time - start_time\n",
    "print(f\"Время выполнения: {round(execution_time / 60, 2)} мин\")\n"
   ]
  },
  {
   "cell_type": "code",
   "execution_count": 16,
   "id": "9b6c5bd0-70ca-435c-9c89-4ad69c03ba2a",
   "metadata": {
    "execution": {
     "iopub.execute_input": "2025-05-10T03:48:31.843337Z",
     "iopub.status.busy": "2025-05-10T03:48:31.843103Z",
     "iopub.status.idle": "2025-05-10T03:48:31.851667Z",
     "shell.execute_reply": "2025-05-10T03:48:31.850936Z",
     "shell.execute_reply.started": "2025-05-10T03:48:31.843321Z"
    }
   },
   "outputs": [
    {
     "data": {
      "text/plain": [
       "count    12734.000000\n",
       "mean         0.775066\n",
       "std          0.259712\n",
       "min          0.001351\n",
       "25%          0.707024\n",
       "50%          0.888475\n",
       "75%          0.952751\n",
       "max          0.999602\n",
       "Name: wind_score, dtype: float64"
      ]
     },
     "execution_count": 16,
     "metadata": {},
     "output_type": "execute_result"
    }
   ],
   "source": [
    "res_ph['wind_score'].describe()"
   ]
  },
  {
   "cell_type": "markdown",
   "id": "45082060-c06c-49fd-8eaf-99fb0778fd93",
   "metadata": {},
   "source": [
    "### С помощью модели [bart-large-mnli](https://huggingface.co/facebook/bart-large-mnli) производится верификация типа ОПЯ - сильный ветер в части БД с сильными ветрами"
   ]
  },
  {
   "cell_type": "code",
   "execution_count": 13,
   "id": "e299fe9f-d2cf-4b5c-802f-b45aecd45411",
   "metadata": {
    "execution": {
     "iopub.execute_input": "2025-05-10T02:31:37.250371Z",
     "iopub.status.busy": "2025-05-10T02:31:37.250012Z",
     "iopub.status.idle": "2025-05-10T02:58:44.027735Z",
     "shell.execute_reply": "2025-05-10T02:58:44.026772Z",
     "shell.execute_reply.started": "2025-05-10T02:31:37.250349Z"
    }
   },
   "outputs": [
    {
     "name": "stdout",
     "output_type": "stream",
     "text": [
      "Время выполнения: 27.11 мин\n"
     ]
    },
    {
     "name": "stderr",
     "output_type": "stream",
     "text": [
      "/tmp/ipykernel_31/1242020041.py:35: SettingWithCopyWarning: \n",
      "A value is trying to be set on a copy of a slice from a DataFrame.\n",
      "Try using .loc[row_indexer,col_indexer] = value instead\n",
      "\n",
      "See the caveats in the documentation: https://pandas.pydata.org/pandas-docs/stable/user_guide/indexing.html#returning-a-view-versus-a-copy\n",
      "  res['wind_score'] = res['Text'].apply(to_classify)\n"
     ]
    }
   ],
   "source": [
    "# Проверка доступности GPU\n",
    "device = torch.device(\"cuda\" if torch.cuda.is_available() else \"cpu\")\n",
    "\n",
    "start_time = time.perf_counter()\n",
    "\n",
    "# Загрузка модели и токенизатора\n",
    "nli_model = AutoModelForSequenceClassification.from_pretrained('facebook/bart-large-mnli').to(device)\n",
    "tokenizer = AutoTokenizer.from_pretrained('facebook/bart-large-mnli')\n",
    "\n",
    "# Пример DataFrame (замените на ваш DataFrame)\n",
    "res = wind[['Text']]\n",
    "\n",
    "def to_verify_bart(text):\n",
    "    label = 'сильный ветер'\n",
    "    premise = text\n",
    "    hypothesis = f'This example is {label}.'\n",
    "    \n",
    "    # Токенизация и перемещение на устройство\n",
    "    x = tokenizer.encode(premise, hypothesis, return_tensors='pt', truncation=True).to(device)\n",
    "    \n",
    "    # Получение логитов\n",
    "    logits = nli_model(x)[0]\n",
    "    \n",
    "    # Вычисление вероятности\n",
    "    entail_contradiction_logits = logits[:, [0, 2]]\n",
    "    probs = entail_contradiction_logits.softmax(dim=1)\n",
    "    prob_label_is_true = probs[:, 1]\n",
    "    return prob_label_is_true.item()  # Возвращаем скалярное значение\n",
    "\n",
    "# Применение функции к каждой строке DataFrame\n",
    "res['wind_score'] = res['Text'].apply(to_verify_bart)\n",
    "\n",
    "end_time = time.perf_counter()\n",
    "execution_time = end_time - start_time\n",
    "print(f\"Время выполнения: {round(execution_time / 60, 2)} мин\")\n"
   ]
  },
  {
   "cell_type": "code",
   "execution_count": 14,
   "id": "0d394a6a-30da-4182-9932-417c2803d9fe",
   "metadata": {
    "execution": {
     "iopub.execute_input": "2025-05-10T02:58:44.029422Z",
     "iopub.status.busy": "2025-05-10T02:58:44.029178Z",
     "iopub.status.idle": "2025-05-10T02:58:44.040029Z",
     "shell.execute_reply": "2025-05-10T02:58:44.039325Z",
     "shell.execute_reply.started": "2025-05-10T02:58:44.029406Z"
    }
   },
   "outputs": [
    {
     "data": {
      "text/plain": [
       "count    12734.000000\n",
       "mean         0.887946\n",
       "std          0.146392\n",
       "min          0.014956\n",
       "25%          0.867059\n",
       "50%          0.934340\n",
       "75%          0.973129\n",
       "max          0.999676\n",
       "Name: wind_score, dtype: float64"
      ]
     },
     "execution_count": 14,
     "metadata": {},
     "output_type": "execute_result"
    }
   ],
   "source": [
    "res['wind_score'].describe()"
   ]
  },
  {
   "cell_type": "markdown",
   "id": "74fe39ef-6965-490f-b4b9-3bf0c7f0e084",
   "metadata": {},
   "source": [
    "- В случае с `FRIDA` скоры у сильного ветра и у прописанных в БД ОПЯ напротив новости типе (типах) явления примерно совпадают - медиана `0.90`\n",
    "- В случае с `bart-large-mnli` скоры у сильного ветра и у прописанных в БД ОПЯ различаются, в первом случае медиана = `0.93`, во втором - `0.89`"
   ]
  },
  {
   "cell_type": "code",
   "execution_count": null,
   "id": "47f233cc-f12b-4f4e-9083-2ce12cfea380",
   "metadata": {},
   "outputs": [],
   "source": []
  }
 ],
 "metadata": {
  "kaggle": {
   "accelerator": "none",
   "dataSources": [
    {
     "datasetId": 7360701,
     "sourceId": 11725860,
     "sourceType": "datasetVersion"
    }
   ],
   "dockerImageVersionId": 31011,
   "isGpuEnabled": false,
   "isInternetEnabled": true,
   "language": "python",
   "sourceType": "notebook"
  },
  "kernelspec": {
   "display_name": "Python 3 (ipykernel)",
   "language": "python",
   "name": "python3"
  },
  "language_info": {
   "codemirror_mode": {
    "name": "ipython",
    "version": 3
   },
   "file_extension": ".py",
   "mimetype": "text/x-python",
   "name": "python",
   "nbconvert_exporter": "python",
   "pygments_lexer": "ipython3",
   "version": "3.12.9"
  }
 },
 "nbformat": 4,
 "nbformat_minor": 5
}
